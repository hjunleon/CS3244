{
 "cells": [
  {
   "cell_type": "markdown",
   "metadata": {
    "id": "F2NvJ7ECw4xh"
   },
   "source": [
    "ideas: \n",
    "* https://ijarsct.co.in/Paper4350.pdf\n",
    "\n",
    "* https://sahilvaidya99.medium.com/spoiler-detection-in-movie-reviews-51312d6146ef\n",
    "* https://www.sas.com/content/dam/SAS/support/en/sas-global-forum-proceedings/2020/5012-2020.pdf (86% accuracy)"
   ]
  },
  {
   "cell_type": "markdown",
   "metadata": {
    "id": "CGmEhi2vtQCu"
   },
   "source": [
    "# Data preparing"
   ]
  },
  {
   "cell_type": "code",
   "execution_count": null,
   "metadata": {
    "colab": {
     "base_uri": "https://localhost:8080/"
    },
    "id": "mKmC4fwEfMzT",
    "outputId": "ce0367f4-6249-4119-a9f9-8854eb9ce97d"
   },
   "outputs": [
    {
     "name": "stdout",
     "output_type": "stream",
     "text": [
      "Drive already mounted at /content/drive; to attempt to forcibly remount, call drive.mount(\"/content/drive\", force_remount=True).\n"
     ]
    }
   ],
   "source": [
    "# https://www.kaggle.com/datasets/rmisra/imdb-spoiler-dataset\n",
    "\n",
    "import json\n",
    "import pandas as pd\n",
    "from google.colab import drive\n",
    "\n",
    "drive.mount('/content/drive')\n",
    "\n",
    "df_movie_details = pd.read_json('/content/drive/My Drive/CS3244 project/IMDB_movie_details.json', lines = True)\n",
    "df_reviews = pd.read_json('/content/drive/My Drive/CS3244 project/IMDB_reviews.json', lines = True)"
   ]
  },
  {
   "cell_type": "code",
   "execution_count": 4,
   "metadata": {
    "id": "K9EfXRZ3ePdv"
   },
   "outputs": [
    {
     "name": "stdout",
     "output_type": "stream",
     "text": [
      "/media/randell-crapy/0E9103460E910346/NUS/CS3244/project\n"
     ]
    }
   ],
   "source": [
    "# If using jupyter notebook\n",
    "import json\n",
    "import pandas as pd\n",
    "import os\n",
    "\n",
    "print(os.getcwd())\n",
    "\n",
    "df_movie_details = pd.read_json('../datasets/IMDB_movie_details.json', lines = True)\n",
    "df_reviews = pd.read_json('../datasets/IMDB_reviews.json', lines = True)"
   ]
  },
  {
   "cell_type": "code",
   "execution_count": 5,
   "metadata": {
    "id": "DWIHWT05YZ07"
   },
   "outputs": [
    {
     "name": "stdout",
     "output_type": "stream",
     "text": [
      "User reviews shape:  (573913, 7)\n",
      "<class 'pandas.core.frame.DataFrame'>\n",
      "RangeIndex: 573913 entries, 0 to 573912\n",
      "Data columns (total 7 columns):\n",
      " #   Column          Non-Null Count   Dtype \n",
      "---  ------          --------------   ----- \n",
      " 0   review_date     573913 non-null  object\n",
      " 1   movie_id        573913 non-null  object\n",
      " 2   user_id         573913 non-null  object\n",
      " 3   is_spoiler      573913 non-null  bool  \n",
      " 4   review_text     573913 non-null  object\n",
      " 5   rating          573913 non-null  int64 \n",
      " 6   review_summary  573913 non-null  object\n",
      "dtypes: bool(1), int64(1), object(5)\n",
      "memory usage: 26.8+ MB\n",
      "None\n"
     ]
    },
    {
     "data": {
      "text/html": [
       "<div>\n",
       "<style scoped>\n",
       "    .dataframe tbody tr th:only-of-type {\n",
       "        vertical-align: middle;\n",
       "    }\n",
       "\n",
       "    .dataframe tbody tr th {\n",
       "        vertical-align: top;\n",
       "    }\n",
       "\n",
       "    .dataframe thead th {\n",
       "        text-align: right;\n",
       "    }\n",
       "</style>\n",
       "<table border=\"1\" class=\"dataframe\">\n",
       "  <thead>\n",
       "    <tr style=\"text-align: right;\">\n",
       "      <th></th>\n",
       "      <th>review_date</th>\n",
       "      <th>movie_id</th>\n",
       "      <th>user_id</th>\n",
       "      <th>is_spoiler</th>\n",
       "      <th>review_text</th>\n",
       "      <th>rating</th>\n",
       "      <th>review_summary</th>\n",
       "    </tr>\n",
       "  </thead>\n",
       "  <tbody>\n",
       "    <tr>\n",
       "      <th>0</th>\n",
       "      <td>10 February 2006</td>\n",
       "      <td>tt0111161</td>\n",
       "      <td>ur1898687</td>\n",
       "      <td>True</td>\n",
       "      <td>In its Oscar year, Shawshank Redemption (writt...</td>\n",
       "      <td>10</td>\n",
       "      <td>A classic piece of unforgettable film-making.</td>\n",
       "    </tr>\n",
       "    <tr>\n",
       "      <th>1</th>\n",
       "      <td>6 September 2000</td>\n",
       "      <td>tt0111161</td>\n",
       "      <td>ur0842118</td>\n",
       "      <td>True</td>\n",
       "      <td>The Shawshank Redemption is without a doubt on...</td>\n",
       "      <td>10</td>\n",
       "      <td>Simply amazing. The best film of the 90's.</td>\n",
       "    </tr>\n",
       "    <tr>\n",
       "      <th>2</th>\n",
       "      <td>3 August 2001</td>\n",
       "      <td>tt0111161</td>\n",
       "      <td>ur1285640</td>\n",
       "      <td>True</td>\n",
       "      <td>I believe that this film is the best story eve...</td>\n",
       "      <td>8</td>\n",
       "      <td>The best story ever told on film</td>\n",
       "    </tr>\n",
       "    <tr>\n",
       "      <th>3</th>\n",
       "      <td>1 September 2002</td>\n",
       "      <td>tt0111161</td>\n",
       "      <td>ur1003471</td>\n",
       "      <td>True</td>\n",
       "      <td>**Yes, there are SPOILERS here**This film has ...</td>\n",
       "      <td>10</td>\n",
       "      <td>Busy dying or busy living?</td>\n",
       "    </tr>\n",
       "    <tr>\n",
       "      <th>4</th>\n",
       "      <td>20 May 2004</td>\n",
       "      <td>tt0111161</td>\n",
       "      <td>ur0226855</td>\n",
       "      <td>True</td>\n",
       "      <td>At the heart of this extraordinary movie is a ...</td>\n",
       "      <td>8</td>\n",
       "      <td>Great story, wondrously told and acted</td>\n",
       "    </tr>\n",
       "    <tr>\n",
       "      <th>5</th>\n",
       "      <td>12 August 2004</td>\n",
       "      <td>tt0111161</td>\n",
       "      <td>ur1532177</td>\n",
       "      <td>True</td>\n",
       "      <td>In recent years the IMDB top 250 movies has ha...</td>\n",
       "      <td>8</td>\n",
       "      <td>Good , But It Is Overrated By Some</td>\n",
       "    </tr>\n",
       "    <tr>\n",
       "      <th>6</th>\n",
       "      <td>9 October 2005</td>\n",
       "      <td>tt0111161</td>\n",
       "      <td>ur6574726</td>\n",
       "      <td>True</td>\n",
       "      <td>I have been a fan of this movie for a long tim...</td>\n",
       "      <td>9</td>\n",
       "      <td>This Movie Saved My Life.</td>\n",
       "    </tr>\n",
       "    <tr>\n",
       "      <th>7</th>\n",
       "      <td>4 February 2012</td>\n",
       "      <td>tt0111161</td>\n",
       "      <td>ur31182745</td>\n",
       "      <td>True</td>\n",
       "      <td>I made my account on IMDb Just to Rate this mo...</td>\n",
       "      <td>10</td>\n",
       "      <td>Movie you can see 1000 times</td>\n",
       "    </tr>\n",
       "    <tr>\n",
       "      <th>8</th>\n",
       "      <td>24 October 2008</td>\n",
       "      <td>tt0111161</td>\n",
       "      <td>ur9871443</td>\n",
       "      <td>True</td>\n",
       "      <td>A friend of mine listed \"The Shawshank Redempt...</td>\n",
       "      <td>10</td>\n",
       "      <td>The Shawshank Redemption</td>\n",
       "    </tr>\n",
       "    <tr>\n",
       "      <th>9</th>\n",
       "      <td>30 July 2011</td>\n",
       "      <td>tt0111161</td>\n",
       "      <td>ur2707735</td>\n",
       "      <td>True</td>\n",
       "      <td>Well I guess I'm a little late to the party as...</td>\n",
       "      <td>10</td>\n",
       "      <td>\"I'm a convicted murderer who provides sound f...</td>\n",
       "    </tr>\n",
       "  </tbody>\n",
       "</table>\n",
       "</div>"
      ],
      "text/plain": [
       "        review_date   movie_id     user_id  is_spoiler  \\\n",
       "0  10 February 2006  tt0111161   ur1898687        True   \n",
       "1  6 September 2000  tt0111161   ur0842118        True   \n",
       "2     3 August 2001  tt0111161   ur1285640        True   \n",
       "3  1 September 2002  tt0111161   ur1003471        True   \n",
       "4       20 May 2004  tt0111161   ur0226855        True   \n",
       "5    12 August 2004  tt0111161   ur1532177        True   \n",
       "6    9 October 2005  tt0111161   ur6574726        True   \n",
       "7   4 February 2012  tt0111161  ur31182745        True   \n",
       "8   24 October 2008  tt0111161   ur9871443        True   \n",
       "9      30 July 2011  tt0111161   ur2707735        True   \n",
       "\n",
       "                                         review_text  rating  \\\n",
       "0  In its Oscar year, Shawshank Redemption (writt...      10   \n",
       "1  The Shawshank Redemption is without a doubt on...      10   \n",
       "2  I believe that this film is the best story eve...       8   \n",
       "3  **Yes, there are SPOILERS here**This film has ...      10   \n",
       "4  At the heart of this extraordinary movie is a ...       8   \n",
       "5  In recent years the IMDB top 250 movies has ha...       8   \n",
       "6  I have been a fan of this movie for a long tim...       9   \n",
       "7  I made my account on IMDb Just to Rate this mo...      10   \n",
       "8  A friend of mine listed \"The Shawshank Redempt...      10   \n",
       "9  Well I guess I'm a little late to the party as...      10   \n",
       "\n",
       "                                      review_summary  \n",
       "0      A classic piece of unforgettable film-making.  \n",
       "1         Simply amazing. The best film of the 90's.  \n",
       "2                   The best story ever told on film  \n",
       "3                         Busy dying or busy living?  \n",
       "4             Great story, wondrously told and acted  \n",
       "5                 Good , But It Is Overrated By Some  \n",
       "6                          This Movie Saved My Life.  \n",
       "7                       Movie you can see 1000 times  \n",
       "8                           The Shawshank Redemption  \n",
       "9  \"I'm a convicted murderer who provides sound f...  "
      ]
     },
     "execution_count": 5,
     "metadata": {},
     "output_type": "execute_result"
    }
   ],
   "source": [
    "print('User reviews shape: ', df_reviews.shape)\n",
    "print(df_reviews.info())\n",
    "df_reviews.head(10)"
   ]
  },
  {
   "cell_type": "markdown",
   "metadata": {
    "id": "KSLWU9WEa8zT"
   },
   "source": [
    "We have a total of 573,913 user reviews. <br>\n",
    "Each review comes with a label True or False depending on the spoiler content in the review."
   ]
  },
  {
   "cell_type": "code",
   "execution_count": 6,
   "metadata": {
    "id": "N8NyGIvWZE9C"
   },
   "outputs": [
    {
     "name": "stdout",
     "output_type": "stream",
     "text": [
      "Movie details shape:  (1572, 7)\n",
      "<class 'pandas.core.frame.DataFrame'>\n",
      "RangeIndex: 1572 entries, 0 to 1571\n",
      "Data columns (total 7 columns):\n",
      " #   Column         Non-Null Count  Dtype  \n",
      "---  ------         --------------  -----  \n",
      " 0   movie_id       1572 non-null   object \n",
      " 1   plot_summary   1572 non-null   object \n",
      " 2   duration       1572 non-null   object \n",
      " 3   genre          1572 non-null   object \n",
      " 4   rating         1572 non-null   float64\n",
      " 5   release_date   1572 non-null   object \n",
      " 6   plot_synopsis  1572 non-null   object \n",
      "dtypes: float64(1), object(6)\n",
      "memory usage: 86.1+ KB\n",
      "None\n"
     ]
    },
    {
     "data": {
      "text/html": [
       "<div>\n",
       "<style scoped>\n",
       "    .dataframe tbody tr th:only-of-type {\n",
       "        vertical-align: middle;\n",
       "    }\n",
       "\n",
       "    .dataframe tbody tr th {\n",
       "        vertical-align: top;\n",
       "    }\n",
       "\n",
       "    .dataframe thead th {\n",
       "        text-align: right;\n",
       "    }\n",
       "</style>\n",
       "<table border=\"1\" class=\"dataframe\">\n",
       "  <thead>\n",
       "    <tr style=\"text-align: right;\">\n",
       "      <th></th>\n",
       "      <th>movie_id</th>\n",
       "      <th>plot_summary</th>\n",
       "      <th>duration</th>\n",
       "      <th>genre</th>\n",
       "      <th>rating</th>\n",
       "      <th>release_date</th>\n",
       "      <th>plot_synopsis</th>\n",
       "    </tr>\n",
       "  </thead>\n",
       "  <tbody>\n",
       "    <tr>\n",
       "      <th>0</th>\n",
       "      <td>tt0105112</td>\n",
       "      <td>Former CIA analyst, Jack Ryan is in England wi...</td>\n",
       "      <td>1h 57min</td>\n",
       "      <td>[Action, Thriller]</td>\n",
       "      <td>6.9</td>\n",
       "      <td>1992-06-05</td>\n",
       "      <td>Jack Ryan (Ford) is on a \"working vacation\" in...</td>\n",
       "    </tr>\n",
       "    <tr>\n",
       "      <th>1</th>\n",
       "      <td>tt1204975</td>\n",
       "      <td>Billy (Michael Douglas), Paddy (Robert De Niro...</td>\n",
       "      <td>1h 45min</td>\n",
       "      <td>[Comedy]</td>\n",
       "      <td>6.6</td>\n",
       "      <td>2013-11-01</td>\n",
       "      <td>Four boys around the age of 10 are friends in ...</td>\n",
       "    </tr>\n",
       "    <tr>\n",
       "      <th>2</th>\n",
       "      <td>tt0243655</td>\n",
       "      <td>The setting is Camp Firewood, the year 1981. I...</td>\n",
       "      <td>1h 37min</td>\n",
       "      <td>[Comedy, Romance]</td>\n",
       "      <td>6.7</td>\n",
       "      <td>2002-04-11</td>\n",
       "      <td></td>\n",
       "    </tr>\n",
       "    <tr>\n",
       "      <th>3</th>\n",
       "      <td>tt0040897</td>\n",
       "      <td>Fred C. Dobbs and Bob Curtin, both down on the...</td>\n",
       "      <td>2h 6min</td>\n",
       "      <td>[Adventure, Drama, Western]</td>\n",
       "      <td>8.3</td>\n",
       "      <td>1948-01-24</td>\n",
       "      <td>Fred Dobbs (Humphrey Bogart) and Bob Curtin (T...</td>\n",
       "    </tr>\n",
       "    <tr>\n",
       "      <th>4</th>\n",
       "      <td>tt0126886</td>\n",
       "      <td>Tracy Flick is running unopposed for this year...</td>\n",
       "      <td>1h 43min</td>\n",
       "      <td>[Comedy, Drama, Romance]</td>\n",
       "      <td>7.3</td>\n",
       "      <td>1999-05-07</td>\n",
       "      <td>Jim McAllister (Matthew Broderick) is a much-a...</td>\n",
       "    </tr>\n",
       "    <tr>\n",
       "      <th>5</th>\n",
       "      <td>tt0286716</td>\n",
       "      <td>Bruce Banner, a brilliant scientist with a clo...</td>\n",
       "      <td>2h 18min</td>\n",
       "      <td>[Action, Sci-Fi]</td>\n",
       "      <td>5.7</td>\n",
       "      <td>2003-06-20</td>\n",
       "      <td>Bruce Banner (Eric Bana) is a research scienti...</td>\n",
       "    </tr>\n",
       "    <tr>\n",
       "      <th>6</th>\n",
       "      <td>tt0090605</td>\n",
       "      <td>57 years after Ellen Ripley had a close encoun...</td>\n",
       "      <td>2h 17min</td>\n",
       "      <td>[Action, Adventure, Sci-Fi]</td>\n",
       "      <td>8.4</td>\n",
       "      <td>1986-07-18</td>\n",
       "      <td>After the opening credits, we see a spacecraft...</td>\n",
       "    </tr>\n",
       "    <tr>\n",
       "      <th>7</th>\n",
       "      <td>tt0243155</td>\n",
       "      <td>Bridget Jones is an average woman struggling a...</td>\n",
       "      <td>1h 37min</td>\n",
       "      <td>[Comedy, Drama, Romance]</td>\n",
       "      <td>6.7</td>\n",
       "      <td>2001-04-13</td>\n",
       "      <td>Bridget Jones (adorably played by Renee Zellwe...</td>\n",
       "    </tr>\n",
       "    <tr>\n",
       "      <th>8</th>\n",
       "      <td>tt0121765</td>\n",
       "      <td>Ten years after the invasion of Naboo, the Gal...</td>\n",
       "      <td>2h 22min</td>\n",
       "      <td>[Action, Adventure, Fantasy]</td>\n",
       "      <td>6.6</td>\n",
       "      <td>2002-05-16</td>\n",
       "      <td>The opening crawl reveals that the Galactic Re...</td>\n",
       "    </tr>\n",
       "    <tr>\n",
       "      <th>9</th>\n",
       "      <td>tt0443453</td>\n",
       "      <td>Borat Sagdiyev is a TV reporter of a popular s...</td>\n",
       "      <td>1h 24min</td>\n",
       "      <td>[Comedy]</td>\n",
       "      <td>7.3</td>\n",
       "      <td>2006-11-03</td>\n",
       "      <td>Borat Sagdiyev is a TV reporter of a popular s...</td>\n",
       "    </tr>\n",
       "  </tbody>\n",
       "</table>\n",
       "</div>"
      ],
      "text/plain": [
       "    movie_id                                       plot_summary  duration  \\\n",
       "0  tt0105112  Former CIA analyst, Jack Ryan is in England wi...  1h 57min   \n",
       "1  tt1204975  Billy (Michael Douglas), Paddy (Robert De Niro...  1h 45min   \n",
       "2  tt0243655  The setting is Camp Firewood, the year 1981. I...  1h 37min   \n",
       "3  tt0040897  Fred C. Dobbs and Bob Curtin, both down on the...   2h 6min   \n",
       "4  tt0126886  Tracy Flick is running unopposed for this year...  1h 43min   \n",
       "5  tt0286716  Bruce Banner, a brilliant scientist with a clo...  2h 18min   \n",
       "6  tt0090605  57 years after Ellen Ripley had a close encoun...  2h 17min   \n",
       "7  tt0243155  Bridget Jones is an average woman struggling a...  1h 37min   \n",
       "8  tt0121765  Ten years after the invasion of Naboo, the Gal...  2h 22min   \n",
       "9  tt0443453  Borat Sagdiyev is a TV reporter of a popular s...  1h 24min   \n",
       "\n",
       "                          genre  rating release_date  \\\n",
       "0            [Action, Thriller]     6.9   1992-06-05   \n",
       "1                      [Comedy]     6.6   2013-11-01   \n",
       "2             [Comedy, Romance]     6.7   2002-04-11   \n",
       "3   [Adventure, Drama, Western]     8.3   1948-01-24   \n",
       "4      [Comedy, Drama, Romance]     7.3   1999-05-07   \n",
       "5              [Action, Sci-Fi]     5.7   2003-06-20   \n",
       "6   [Action, Adventure, Sci-Fi]     8.4   1986-07-18   \n",
       "7      [Comedy, Drama, Romance]     6.7   2001-04-13   \n",
       "8  [Action, Adventure, Fantasy]     6.6   2002-05-16   \n",
       "9                      [Comedy]     7.3   2006-11-03   \n",
       "\n",
       "                                       plot_synopsis  \n",
       "0  Jack Ryan (Ford) is on a \"working vacation\" in...  \n",
       "1  Four boys around the age of 10 are friends in ...  \n",
       "2                                                     \n",
       "3  Fred Dobbs (Humphrey Bogart) and Bob Curtin (T...  \n",
       "4  Jim McAllister (Matthew Broderick) is a much-a...  \n",
       "5  Bruce Banner (Eric Bana) is a research scienti...  \n",
       "6  After the opening credits, we see a spacecraft...  \n",
       "7  Bridget Jones (adorably played by Renee Zellwe...  \n",
       "8  The opening crawl reveals that the Galactic Re...  \n",
       "9  Borat Sagdiyev is a TV reporter of a popular s...  "
      ]
     },
     "execution_count": 6,
     "metadata": {},
     "output_type": "execute_result"
    }
   ],
   "source": [
    "print('Movie details shape: ', df_movie_details.shape)\n",
    "print(df_movie_details.info())\n",
    "df_movie_details.head(10)"
   ]
  },
  {
   "cell_type": "markdown",
   "metadata": {
    "id": "1NO4i6LTbFgS"
   },
   "source": [
    "We have a total of 1572 movies."
   ]
  },
  {
   "cell_type": "markdown",
   "metadata": {
    "id": "5h2GVlMZvrMv"
   },
   "source": [
    "## Datasets merging"
   ]
  },
  {
   "cell_type": "code",
   "execution_count": 7,
   "metadata": {
    "colab": {
     "base_uri": "https://localhost:8080/"
    },
    "id": "mB1jd_xgf3KU",
    "outputId": "135399a1-cc8a-4ad1-f6f2-d44a265f02a7"
   },
   "outputs": [
    {
     "data": {
      "text/plain": [
       "0       tt0105112\n",
       "1       tt1204975\n",
       "2       tt0243655\n",
       "3       tt0040897\n",
       "4       tt0126886\n",
       "          ...    \n",
       "1567    tt0289879\n",
       "1568    tt1723811\n",
       "1569    tt5013056\n",
       "1570    tt0104014\n",
       "1571    tt0114142\n",
       "Name: movie_id, Length: 1572, dtype: object"
      ]
     },
     "execution_count": 7,
     "metadata": {},
     "output_type": "execute_result"
    }
   ],
   "source": [
    "# remove '/' in the movie_id \n",
    "\n",
    "df_movie_details['movie_id'] = df_movie_details['movie_id'].str.replace('/', '')\n",
    "df_movie_details['movie_id']"
   ]
  },
  {
   "cell_type": "markdown",
   "metadata": {
    "id": "Q4KIpHgR35VD"
   },
   "source": [
    "We merge the two datasets."
   ]
  },
  {
   "cell_type": "code",
   "execution_count": 8,
   "metadata": {
    "colab": {
     "base_uri": "https://localhost:8080/"
    },
    "id": "lLtrHDHUW2mg",
    "outputId": "48037217-8fb0-4cba-b2fe-f3d4cc95fdc1"
   },
   "outputs": [
    {
     "name": "stdout",
     "output_type": "stream",
     "text": [
      "<class 'pandas.core.frame.DataFrame'>\n",
      "Int64Index: 573913 entries, 0 to 573912\n",
      "Data columns (total 13 columns):\n",
      " #   Column          Non-Null Count   Dtype  \n",
      "---  ------          --------------   -----  \n",
      " 0   review_date     573913 non-null  object \n",
      " 1   movie_id        573913 non-null  object \n",
      " 2   user_id         573913 non-null  object \n",
      " 3   is_spoiler      573913 non-null  bool   \n",
      " 4   review_text     573913 non-null  object \n",
      " 5   rating_x        573913 non-null  int64  \n",
      " 6   review_summary  573913 non-null  object \n",
      " 7   plot_summary    573913 non-null  object \n",
      " 8   duration        573913 non-null  object \n",
      " 9   genre           573913 non-null  object \n",
      " 10  rating_y        573913 non-null  float64\n",
      " 11  release_date    573913 non-null  object \n",
      " 12  plot_synopsis   573913 non-null  object \n",
      "dtypes: bool(1), float64(1), int64(1), object(10)\n",
      "memory usage: 57.5+ MB\n"
     ]
    }
   ],
   "source": [
    "df = pd.merge(df_reviews, df_movie_details, on = 'movie_id')\n",
    "df.info()"
   ]
  },
  {
   "cell_type": "code",
   "execution_count": 9,
   "metadata": {
    "id": "y5V92ST84L0f",
    "scrolled": true
   },
   "outputs": [
    {
     "data": {
      "text/html": [
       "<div>\n",
       "<style scoped>\n",
       "    .dataframe tbody tr th:only-of-type {\n",
       "        vertical-align: middle;\n",
       "    }\n",
       "\n",
       "    .dataframe tbody tr th {\n",
       "        vertical-align: top;\n",
       "    }\n",
       "\n",
       "    .dataframe thead th {\n",
       "        text-align: right;\n",
       "    }\n",
       "</style>\n",
       "<table border=\"1\" class=\"dataframe\">\n",
       "  <thead>\n",
       "    <tr style=\"text-align: right;\">\n",
       "      <th></th>\n",
       "      <th>review_date</th>\n",
       "      <th>movie_id</th>\n",
       "      <th>user_id</th>\n",
       "      <th>is_spoiler</th>\n",
       "      <th>review_text</th>\n",
       "      <th>rating_x</th>\n",
       "      <th>review_summary</th>\n",
       "      <th>plot_summary</th>\n",
       "      <th>duration</th>\n",
       "      <th>genre</th>\n",
       "      <th>rating_y</th>\n",
       "      <th>release_date</th>\n",
       "      <th>plot_synopsis</th>\n",
       "    </tr>\n",
       "  </thead>\n",
       "  <tbody>\n",
       "    <tr>\n",
       "      <th>0</th>\n",
       "      <td>10 February 2006</td>\n",
       "      <td>tt0111161</td>\n",
       "      <td>ur1898687</td>\n",
       "      <td>True</td>\n",
       "      <td>In its Oscar year, Shawshank Redemption (writt...</td>\n",
       "      <td>10</td>\n",
       "      <td>A classic piece of unforgettable film-making.</td>\n",
       "      <td>Chronicles the experiences of a formerly succe...</td>\n",
       "      <td>2h 22min</td>\n",
       "      <td>[Crime, Drama]</td>\n",
       "      <td>9.3</td>\n",
       "      <td>1994-10-14</td>\n",
       "      <td>In 1947, Andy Dufresne (Tim Robbins), a banker...</td>\n",
       "    </tr>\n",
       "    <tr>\n",
       "      <th>1</th>\n",
       "      <td>6 September 2000</td>\n",
       "      <td>tt0111161</td>\n",
       "      <td>ur0842118</td>\n",
       "      <td>True</td>\n",
       "      <td>The Shawshank Redemption is without a doubt on...</td>\n",
       "      <td>10</td>\n",
       "      <td>Simply amazing. The best film of the 90's.</td>\n",
       "      <td>Chronicles the experiences of a formerly succe...</td>\n",
       "      <td>2h 22min</td>\n",
       "      <td>[Crime, Drama]</td>\n",
       "      <td>9.3</td>\n",
       "      <td>1994-10-14</td>\n",
       "      <td>In 1947, Andy Dufresne (Tim Robbins), a banker...</td>\n",
       "    </tr>\n",
       "    <tr>\n",
       "      <th>2</th>\n",
       "      <td>3 August 2001</td>\n",
       "      <td>tt0111161</td>\n",
       "      <td>ur1285640</td>\n",
       "      <td>True</td>\n",
       "      <td>I believe that this film is the best story eve...</td>\n",
       "      <td>8</td>\n",
       "      <td>The best story ever told on film</td>\n",
       "      <td>Chronicles the experiences of a formerly succe...</td>\n",
       "      <td>2h 22min</td>\n",
       "      <td>[Crime, Drama]</td>\n",
       "      <td>9.3</td>\n",
       "      <td>1994-10-14</td>\n",
       "      <td>In 1947, Andy Dufresne (Tim Robbins), a banker...</td>\n",
       "    </tr>\n",
       "    <tr>\n",
       "      <th>3</th>\n",
       "      <td>1 September 2002</td>\n",
       "      <td>tt0111161</td>\n",
       "      <td>ur1003471</td>\n",
       "      <td>True</td>\n",
       "      <td>**Yes, there are SPOILERS here**This film has ...</td>\n",
       "      <td>10</td>\n",
       "      <td>Busy dying or busy living?</td>\n",
       "      <td>Chronicles the experiences of a formerly succe...</td>\n",
       "      <td>2h 22min</td>\n",
       "      <td>[Crime, Drama]</td>\n",
       "      <td>9.3</td>\n",
       "      <td>1994-10-14</td>\n",
       "      <td>In 1947, Andy Dufresne (Tim Robbins), a banker...</td>\n",
       "    </tr>\n",
       "    <tr>\n",
       "      <th>4</th>\n",
       "      <td>20 May 2004</td>\n",
       "      <td>tt0111161</td>\n",
       "      <td>ur0226855</td>\n",
       "      <td>True</td>\n",
       "      <td>At the heart of this extraordinary movie is a ...</td>\n",
       "      <td>8</td>\n",
       "      <td>Great story, wondrously told and acted</td>\n",
       "      <td>Chronicles the experiences of a formerly succe...</td>\n",
       "      <td>2h 22min</td>\n",
       "      <td>[Crime, Drama]</td>\n",
       "      <td>9.3</td>\n",
       "      <td>1994-10-14</td>\n",
       "      <td>In 1947, Andy Dufresne (Tim Robbins), a banker...</td>\n",
       "    </tr>\n",
       "  </tbody>\n",
       "</table>\n",
       "</div>"
      ],
      "text/plain": [
       "        review_date   movie_id    user_id  is_spoiler  \\\n",
       "0  10 February 2006  tt0111161  ur1898687        True   \n",
       "1  6 September 2000  tt0111161  ur0842118        True   \n",
       "2     3 August 2001  tt0111161  ur1285640        True   \n",
       "3  1 September 2002  tt0111161  ur1003471        True   \n",
       "4       20 May 2004  tt0111161  ur0226855        True   \n",
       "\n",
       "                                         review_text  rating_x  \\\n",
       "0  In its Oscar year, Shawshank Redemption (writt...        10   \n",
       "1  The Shawshank Redemption is without a doubt on...        10   \n",
       "2  I believe that this film is the best story eve...         8   \n",
       "3  **Yes, there are SPOILERS here**This film has ...        10   \n",
       "4  At the heart of this extraordinary movie is a ...         8   \n",
       "\n",
       "                                  review_summary  \\\n",
       "0  A classic piece of unforgettable film-making.   \n",
       "1     Simply amazing. The best film of the 90's.   \n",
       "2               The best story ever told on film   \n",
       "3                     Busy dying or busy living?   \n",
       "4         Great story, wondrously told and acted   \n",
       "\n",
       "                                        plot_summary  duration  \\\n",
       "0  Chronicles the experiences of a formerly succe...  2h 22min   \n",
       "1  Chronicles the experiences of a formerly succe...  2h 22min   \n",
       "2  Chronicles the experiences of a formerly succe...  2h 22min   \n",
       "3  Chronicles the experiences of a formerly succe...  2h 22min   \n",
       "4  Chronicles the experiences of a formerly succe...  2h 22min   \n",
       "\n",
       "            genre  rating_y release_date  \\\n",
       "0  [Crime, Drama]       9.3   1994-10-14   \n",
       "1  [Crime, Drama]       9.3   1994-10-14   \n",
       "2  [Crime, Drama]       9.3   1994-10-14   \n",
       "3  [Crime, Drama]       9.3   1994-10-14   \n",
       "4  [Crime, Drama]       9.3   1994-10-14   \n",
       "\n",
       "                                       plot_synopsis  \n",
       "0  In 1947, Andy Dufresne (Tim Robbins), a banker...  \n",
       "1  In 1947, Andy Dufresne (Tim Robbins), a banker...  \n",
       "2  In 1947, Andy Dufresne (Tim Robbins), a banker...  \n",
       "3  In 1947, Andy Dufresne (Tim Robbins), a banker...  \n",
       "4  In 1947, Andy Dufresne (Tim Robbins), a banker...  "
      ]
     },
     "execution_count": 9,
     "metadata": {},
     "output_type": "execute_result"
    }
   ],
   "source": [
    "df.head()"
   ]
  },
  {
   "cell_type": "markdown",
   "metadata": {
    "id": "BCGFdIyB4Xy2"
   },
   "source": [
    "Change the column names. <br>\n",
    "rating_x -> user_rating <br>\n",
    "rating_y -> movie_rating <br>"
   ]
  },
  {
   "cell_type": "code",
   "execution_count": 10,
   "metadata": {
    "colab": {
     "base_uri": "https://localhost:8080/",
     "height": 565
    },
    "id": "--tP4gy84nXE",
    "outputId": "1f00904e-6bb3-4fb7-faa9-763b8027d729"
   },
   "outputs": [
    {
     "data": {
      "text/html": [
       "<div>\n",
       "<style scoped>\n",
       "    .dataframe tbody tr th:only-of-type {\n",
       "        vertical-align: middle;\n",
       "    }\n",
       "\n",
       "    .dataframe tbody tr th {\n",
       "        vertical-align: top;\n",
       "    }\n",
       "\n",
       "    .dataframe thead th {\n",
       "        text-align: right;\n",
       "    }\n",
       "</style>\n",
       "<table border=\"1\" class=\"dataframe\">\n",
       "  <thead>\n",
       "    <tr style=\"text-align: right;\">\n",
       "      <th></th>\n",
       "      <th>review_date</th>\n",
       "      <th>movie_id</th>\n",
       "      <th>user_id</th>\n",
       "      <th>is_spoiler</th>\n",
       "      <th>review_text</th>\n",
       "      <th>user_rating</th>\n",
       "      <th>review_summary</th>\n",
       "      <th>plot_summary</th>\n",
       "      <th>duration</th>\n",
       "      <th>genre</th>\n",
       "      <th>movie_rating</th>\n",
       "      <th>release_date</th>\n",
       "      <th>plot_synopsis</th>\n",
       "    </tr>\n",
       "  </thead>\n",
       "  <tbody>\n",
       "    <tr>\n",
       "      <th>0</th>\n",
       "      <td>10 February 2006</td>\n",
       "      <td>tt0111161</td>\n",
       "      <td>ur1898687</td>\n",
       "      <td>True</td>\n",
       "      <td>In its Oscar year, Shawshank Redemption (writt...</td>\n",
       "      <td>10</td>\n",
       "      <td>A classic piece of unforgettable film-making.</td>\n",
       "      <td>Chronicles the experiences of a formerly succe...</td>\n",
       "      <td>2h 22min</td>\n",
       "      <td>[Crime, Drama]</td>\n",
       "      <td>9.3</td>\n",
       "      <td>1994-10-14</td>\n",
       "      <td>In 1947, Andy Dufresne (Tim Robbins), a banker...</td>\n",
       "    </tr>\n",
       "    <tr>\n",
       "      <th>1</th>\n",
       "      <td>6 September 2000</td>\n",
       "      <td>tt0111161</td>\n",
       "      <td>ur0842118</td>\n",
       "      <td>True</td>\n",
       "      <td>The Shawshank Redemption is without a doubt on...</td>\n",
       "      <td>10</td>\n",
       "      <td>Simply amazing. The best film of the 90's.</td>\n",
       "      <td>Chronicles the experiences of a formerly succe...</td>\n",
       "      <td>2h 22min</td>\n",
       "      <td>[Crime, Drama]</td>\n",
       "      <td>9.3</td>\n",
       "      <td>1994-10-14</td>\n",
       "      <td>In 1947, Andy Dufresne (Tim Robbins), a banker...</td>\n",
       "    </tr>\n",
       "    <tr>\n",
       "      <th>2</th>\n",
       "      <td>3 August 2001</td>\n",
       "      <td>tt0111161</td>\n",
       "      <td>ur1285640</td>\n",
       "      <td>True</td>\n",
       "      <td>I believe that this film is the best story eve...</td>\n",
       "      <td>8</td>\n",
       "      <td>The best story ever told on film</td>\n",
       "      <td>Chronicles the experiences of a formerly succe...</td>\n",
       "      <td>2h 22min</td>\n",
       "      <td>[Crime, Drama]</td>\n",
       "      <td>9.3</td>\n",
       "      <td>1994-10-14</td>\n",
       "      <td>In 1947, Andy Dufresne (Tim Robbins), a banker...</td>\n",
       "    </tr>\n",
       "    <tr>\n",
       "      <th>3</th>\n",
       "      <td>1 September 2002</td>\n",
       "      <td>tt0111161</td>\n",
       "      <td>ur1003471</td>\n",
       "      <td>True</td>\n",
       "      <td>**Yes, there are SPOILERS here**This film has ...</td>\n",
       "      <td>10</td>\n",
       "      <td>Busy dying or busy living?</td>\n",
       "      <td>Chronicles the experiences of a formerly succe...</td>\n",
       "      <td>2h 22min</td>\n",
       "      <td>[Crime, Drama]</td>\n",
       "      <td>9.3</td>\n",
       "      <td>1994-10-14</td>\n",
       "      <td>In 1947, Andy Dufresne (Tim Robbins), a banker...</td>\n",
       "    </tr>\n",
       "    <tr>\n",
       "      <th>4</th>\n",
       "      <td>20 May 2004</td>\n",
       "      <td>tt0111161</td>\n",
       "      <td>ur0226855</td>\n",
       "      <td>True</td>\n",
       "      <td>At the heart of this extraordinary movie is a ...</td>\n",
       "      <td>8</td>\n",
       "      <td>Great story, wondrously told and acted</td>\n",
       "      <td>Chronicles the experiences of a formerly succe...</td>\n",
       "      <td>2h 22min</td>\n",
       "      <td>[Crime, Drama]</td>\n",
       "      <td>9.3</td>\n",
       "      <td>1994-10-14</td>\n",
       "      <td>In 1947, Andy Dufresne (Tim Robbins), a banker...</td>\n",
       "    </tr>\n",
       "  </tbody>\n",
       "</table>\n",
       "</div>"
      ],
      "text/plain": [
       "        review_date   movie_id    user_id  is_spoiler  \\\n",
       "0  10 February 2006  tt0111161  ur1898687        True   \n",
       "1  6 September 2000  tt0111161  ur0842118        True   \n",
       "2     3 August 2001  tt0111161  ur1285640        True   \n",
       "3  1 September 2002  tt0111161  ur1003471        True   \n",
       "4       20 May 2004  tt0111161  ur0226855        True   \n",
       "\n",
       "                                         review_text  user_rating  \\\n",
       "0  In its Oscar year, Shawshank Redemption (writt...           10   \n",
       "1  The Shawshank Redemption is without a doubt on...           10   \n",
       "2  I believe that this film is the best story eve...            8   \n",
       "3  **Yes, there are SPOILERS here**This film has ...           10   \n",
       "4  At the heart of this extraordinary movie is a ...            8   \n",
       "\n",
       "                                  review_summary  \\\n",
       "0  A classic piece of unforgettable film-making.   \n",
       "1     Simply amazing. The best film of the 90's.   \n",
       "2               The best story ever told on film   \n",
       "3                     Busy dying or busy living?   \n",
       "4         Great story, wondrously told and acted   \n",
       "\n",
       "                                        plot_summary  duration  \\\n",
       "0  Chronicles the experiences of a formerly succe...  2h 22min   \n",
       "1  Chronicles the experiences of a formerly succe...  2h 22min   \n",
       "2  Chronicles the experiences of a formerly succe...  2h 22min   \n",
       "3  Chronicles the experiences of a formerly succe...  2h 22min   \n",
       "4  Chronicles the experiences of a formerly succe...  2h 22min   \n",
       "\n",
       "            genre  movie_rating release_date  \\\n",
       "0  [Crime, Drama]           9.3   1994-10-14   \n",
       "1  [Crime, Drama]           9.3   1994-10-14   \n",
       "2  [Crime, Drama]           9.3   1994-10-14   \n",
       "3  [Crime, Drama]           9.3   1994-10-14   \n",
       "4  [Crime, Drama]           9.3   1994-10-14   \n",
       "\n",
       "                                       plot_synopsis  \n",
       "0  In 1947, Andy Dufresne (Tim Robbins), a banker...  \n",
       "1  In 1947, Andy Dufresne (Tim Robbins), a banker...  \n",
       "2  In 1947, Andy Dufresne (Tim Robbins), a banker...  \n",
       "3  In 1947, Andy Dufresne (Tim Robbins), a banker...  \n",
       "4  In 1947, Andy Dufresne (Tim Robbins), a banker...  "
      ]
     },
     "execution_count": 10,
     "metadata": {},
     "output_type": "execute_result"
    }
   ],
   "source": [
    "df.rename(columns = {'rating_x': 'user_rating', 'rating_y': 'movie_rating'}, inplace = True)\n",
    "df.head()"
   ]
  },
  {
   "cell_type": "markdown",
   "metadata": {
    "id": "1KvL8e1Nvhy5"
   },
   "source": [
    "## Dataset analysis"
   ]
  },
  {
   "cell_type": "markdown",
   "metadata": {
    "id": "Yu1DmY2Xhvph"
   },
   "source": [
    "We find the number of reviews per each movie."
   ]
  },
  {
   "cell_type": "code",
   "execution_count": 40,
   "metadata": {
    "id": "TE6_u7bpeAvc"
   },
   "outputs": [
    {
     "data": {
      "text/plain": [
       "tt0468569    4845\n",
       "tt0111161    4361\n",
       "tt0167260    2729\n",
       "tt0137523    2480\n",
       "tt0068646    2137\n",
       "             ... \n",
       "tt0107719      12\n",
       "tt6294822      11\n",
       "tt0104014       5\n",
       "tt0201265       4\n",
       "tt0114142       2\n",
       "Name: movie_id, Length: 1572, dtype: int64"
      ]
     },
     "execution_count": 40,
     "metadata": {},
     "output_type": "execute_result"
    },
    {
     "data": {
      "image/png": "[encoded data removed]",
      "text/plain": [
       "<Figure size 432x288 with 1 Axes>"
      ]
     },
     "metadata": {
      "needs_background": "light"
     },
     "output_type": "display_data"
    }
   ],
   "source": [
    "import seaborn as sns\n",
    "\n",
    "sns.countplot(data = df, x = 'movie_id', order = df['movie_id'].value_counts().index)\n",
    "\n",
    "df['movie_id'].value_counts()"
   ]
  },
  {
   "cell_type": "markdown",
   "metadata": {
    "id": "j2pPmr4Dh2Qf"
   },
   "source": [
    "We realised that some movies have a large number of reviews (more than 2000) while some movies have less than 10 reviews. <br>\n",
    "\n",
    "We may consider to filter out movies with less than 300 reviews. (wait why?)"
   ]
  },
  {
   "cell_type": "code",
   "execution_count": 38,
   "metadata": {},
   "outputs": [
    {
     "data": {
      "text/html": [
       "<div>\n",
       "<style scoped>\n",
       "    .dataframe tbody tr th:only-of-type {\n",
       "        vertical-align: middle;\n",
       "    }\n",
       "\n",
       "    .dataframe tbody tr th {\n",
       "        vertical-align: top;\n",
       "    }\n",
       "\n",
       "    .dataframe thead th {\n",
       "        text-align: right;\n",
       "    }\n",
       "</style>\n",
       "<table border=\"1\" class=\"dataframe\">\n",
       "  <thead>\n",
       "    <tr style=\"text-align: right;\">\n",
       "      <th></th>\n",
       "      <th>num_reviews</th>\n",
       "    </tr>\n",
       "  </thead>\n",
       "  <tbody>\n",
       "    <tr>\n",
       "      <th>tt0468569</th>\n",
       "      <td>4845</td>\n",
       "    </tr>\n",
       "    <tr>\n",
       "      <th>tt0111161</th>\n",
       "      <td>4361</td>\n",
       "    </tr>\n",
       "    <tr>\n",
       "      <th>tt0167260</th>\n",
       "      <td>2729</td>\n",
       "    </tr>\n",
       "    <tr>\n",
       "      <th>tt0137523</th>\n",
       "      <td>2480</td>\n",
       "    </tr>\n",
       "    <tr>\n",
       "      <th>tt0068646</th>\n",
       "      <td>2137</td>\n",
       "    </tr>\n",
       "  </tbody>\n",
       "</table>\n",
       "</div>"
      ],
      "text/plain": [
       "           num_reviews\n",
       "tt0468569         4845\n",
       "tt0111161         4361\n",
       "tt0167260         2729\n",
       "tt0137523         2480\n",
       "tt0068646         2137"
      ]
     },
     "execution_count": 38,
     "metadata": {},
     "output_type": "execute_result"
    }
   ],
   "source": [
    "# Plot frequency of movie reviews against count of movie reviews\n",
    "col = \"num_reviews\"\n",
    "temp_df = df['movie_id'].value_counts().to_frame(name=col)\n",
    "#.groupby(col).count()\n",
    "temp_df.head()"
   ]
  },
  {
   "cell_type": "code",
   "execution_count": 46,
   "metadata": {},
   "outputs": [
    {
     "data": {
      "text/plain": [
       "<AxesSubplot: xlabel='num_reviews', ylabel='Count'>"
      ]
     },
     "execution_count": 46,
     "metadata": {},
     "output_type": "execute_result"
    },
    {
     "data": {
      "image/png": "[encoded data removed]",
      "text/plain": [
       "<Figure size 432x288 with 1 Axes>"
      ]
     },
     "metadata": {
      "needs_background": "light"
     },
     "output_type": "display_data"
    }
   ],
   "source": [
    "sns.histplot(data=temp_df, x=col, bins=50)"
   ]
  },
  {
   "cell_type": "markdown",
   "metadata": {
    "id": "E-r3_yxCZ3oY"
   },
   "source": [
    "Find the distribution between classes. \n",
    "(spoiler or non-spoiler)"
   ]
  },
  {
   "cell_type": "code",
   "execution_count": 47,
   "metadata": {
    "id": "NGDayMsmaSu5"
   },
   "outputs": [
    {
     "name": "stdout",
     "output_type": "stream",
     "text": [
      "False    73.702634\n",
      "True     26.297366\n",
      "Name: is_spoiler, dtype: float64\n"
     ]
    },
    {
     "data": {
      "image/png": "[encoded data removed]",
      "text/plain": [
       "<Figure size 432x288 with 1 Axes>"
      ]
     },
     "metadata": {
      "needs_background": "light"
     },
     "output_type": "display_data"
    }
   ],
   "source": [
    "import matplotlib.pyplot as plt\n",
    "\n",
    "spoiler_count = df.is_spoiler.value_counts(normalize = True) * 100\n",
    "\n",
    "print(spoiler_count)\n",
    "\n",
    "spoiler_count.plot(kind = 'bar')\n",
    "plt.title('is spoiler')\n",
    "plt.show()"
   ]
  },
  {
   "cell_type": "markdown",
   "metadata": {
    "id": "nqU1YzPfbPeD"
   },
   "source": [
    "The dataset seems to be imbalanced. <br>\n",
    "Percentage of spoilers = 26.3% <br>\n",
    "Percentage of non-spoilers = 73.7% <br>\n",
    "\n",
    "We have twice the number of non-spoilers than spoliers. <br>\n",
    "\n",
    "We have to do something about it (undersampling / oversampling) before we can train our model. <br>"
   ]
  },
  {
   "cell_type": "code",
   "execution_count": 48,
   "metadata": {},
   "outputs": [
    {
     "ename": "SyntaxError",
     "evalue": "invalid syntax. Perhaps you forgot a comma? (3281589649.py, line 3)",
     "output_type": "error",
     "traceback": [
      "\u001b[0;36m  Input \u001b[0;32mIn [48]\u001b[0;36m\u001b[0m\n\u001b[0;31m    df[df[]].head()\u001b[0m\n\u001b[0m       ^\u001b[0m\n\u001b[0;31mSyntaxError\u001b[0m\u001b[0;31m:\u001b[0m invalid syntax. Perhaps you forgot a comma?\n"
     ]
    }
   ],
   "source": [
    "# Exploring visually the diff between spoiler and non-spoiler\n",
    "\n",
    "df[df[]].head()"
   ]
  },
  {
   "cell_type": "markdown",
   "metadata": {
    "id": "QQAB07az8hH0"
   },
   "source": [
    "# Data processing"
   ]
  },
  {
   "cell_type": "markdown",
   "metadata": {
    "id": "bt3ojDXo3lYu"
   },
   "source": [
    "Fisrt, we will check for missing data."
   ]
  },
  {
   "cell_type": "code",
   "execution_count": null,
   "metadata": {
    "id": "-eo4u3zo3gvY"
   },
   "outputs": [],
   "source": [
    "count = df_reviews.isnull().sum().sort_values(ascending = False)\n",
    "percentage = ((df_reviews.isnull().sum() / len(df_reviews) * 100)).sort_values(ascending = False)\n",
    "missing_data = pd.concat([count,percentage] ,axis = 1, keys = ['Count', 'Percentage'])\n",
    "\n",
    "print('Missing data in user reviews dataset')\n",
    "print(missing_data)"
   ]
  },
  {
   "cell_type": "markdown",
   "metadata": {
    "id": "xv9JfkHrAM2O"
   },
   "source": [
    "From the output above, there is no missing value in the user reviews dataset."
   ]
  },
  {
   "cell_type": "code",
   "execution_count": null,
   "metadata": {
    "id": "Xv-i88EjfQTV"
   },
   "outputs": [],
   "source": [
    "count = df_movie_details.isnull().sum().sort_values(ascending = False)\n",
    "percentage = ((df_movie_details.isnull().sum() / len(df_movie_details) * 100)).sort_values(ascending = False)\n",
    "missing_data = pd.concat([count,percentage] ,axis = 1, keys = ['Count','Percentage'])\n",
    "\n",
    "print('Missing data in movie details dataset')\n",
    "print(missing_data)"
   ]
  },
  {
   "cell_type": "markdown",
   "metadata": {
    "id": "P5dlWo3Mfl7K"
   },
   "source": [
    "From the above output, we do not have missing value for the movie details dataset too."
   ]
  },
  {
   "cell_type": "code",
   "execution_count": null,
   "metadata": {
    "id": "NFgb3c_c15Dq"
   },
   "outputs": [],
   "source": [
    "count = df.isnull().sum().sort_values(ascending = False)\n",
    "percentage = ((df.isnull().sum() / len(df) * 100)).sort_values(ascending = False)\n",
    "missing_data = pd.concat([count,percentage] ,axis = 1, keys = ['Count','Percentage'])\n",
    "\n",
    "print('Missing data in merged dataset')\n",
    "print(missing_data)"
   ]
  },
  {
   "cell_type": "markdown",
   "metadata": {
    "id": "nSRkv5C7HU1T"
   },
   "source": [
    "Find if there is any relationship between the user ratings and spoiler by plotting a bar graph."
   ]
  },
  {
   "cell_type": "code",
   "execution_count": null,
   "metadata": {
    "id": "2hYLtPiK80HW"
   },
   "outputs": [],
   "source": [
    "import matplotlib.pyplot as plt\n",
    "\n",
    "group = df.groupby('user_rating')\n",
    "\n",
    "group_is_spoiler = df[df['is_spoiler'] == True].groupby('user_rating')\n",
    "total_review_for_vote = group.size() # Get the number of reviews foreach vote\n",
    "total_spoiler_for_vote = group_is_spoiler.size() # Get the number of spoiler review foreach vote\n",
    "percentage = ((total_spoiler_for_vote / total_review_for_vote) * 100)\n",
    "\n",
    "# Print % graph\n",
    "\n",
    "y_axis = ['1', '2', '3', '4', '5', '6', '7', '8', '9', '10']\n",
    "x_axis = percentage.tolist()\n",
    "\n",
    "plt.barh(y_axis, x_axis,color = ['red','cyan','blue','purple','lime','magenta','orange','brown','silver','Green'])\n",
    "plt.xlim(0,100)\n",
    "plt.title('Percentage of spoiler reviews per user rating')\n",
    "plt.ylabel('User Ratings')\n",
    "plt.xlabel('Percentages')\n",
    "plt.show()"
   ]
  },
  {
   "cell_type": "markdown",
   "metadata": {
    "id": "GDikcmrbHQn4"
   },
   "source": [
    "From the above bar graph, it seems that lower user ratings have a higher spoiler rate."
   ]
  },
  {
   "cell_type": "markdown",
   "metadata": {
    "id": "8Yar4XPq8UO3"
   },
   "source": [
    "Find is there is any relationship between movie rating and spoilers."
   ]
  },
  {
   "cell_type": "code",
   "execution_count": null,
   "metadata": {
    "id": "5FmLrWQG8OaA"
   },
   "outputs": [],
   "source": [
    "import seaborn as sns\n",
    "\n",
    "group = df.groupby('movie_rating')\n",
    "group_is_spoiler = df[df['is_spoiler'] == True].groupby('movie_rating')\n",
    "\n",
    "total_review_for_vote = group.size()        \n",
    "total_spoiler_for_vote = group_is_spoiler.size()   \n",
    "percentage = ((total_spoiler_for_vote / total_review_for_vote) * 100)\n",
    "\n",
    "# plt.barh(df['movie_rating'].unique(), percentage)\n",
    "# plt.xlim(0, 100)\n",
    "# plt.title('Percentage of spoiler reviews per movie rating')\n",
    "# plt.ylabel('Movie Ratings')\n",
    "# plt.xlabel('Percentages')\n",
    "# plt.show()\n",
    "\n",
    "# plt.hist(percentage, density = True)\n",
    "\n",
    "sns.histplot(data = df, x = 'movie_rating', hue = 'is_spoiler', multiple = 'stack')"
   ]
  },
  {
   "cell_type": "markdown",
   "metadata": {
    "id": "XeShUepDElLG"
   },
   "source": [
    "Analysis the review_text columns. <br>\n",
    "Identify the reviews that contains the word 'spoiler' and find the relationship between spoilers."
   ]
  },
  {
   "cell_type": "code",
   "execution_count": null,
   "metadata": {
    "id": "5BmMd91QEFH4"
   },
   "outputs": [],
   "source": [
    "def contains_word(word, df):\n",
    "  col_name = 'contains_word_' + word\n",
    "  df[col_name] = df['review_text'].apply(lambda text: word in text.upper())\n",
    "  return df"
   ]
  },
  {
   "cell_type": "code",
   "execution_count": null,
   "metadata": {
    "colab": {
     "base_uri": "https://localhost:8080/",
     "height": 565
    },
    "id": "MNbVRvtYWmnV",
    "outputId": "3f1321d0-931d-4155-d151-b77e7264db6b"
   },
   "outputs": [
    {
     "data": {
      "text/html": [
       "\n",
       "  <div id=\"df-c28433fc-51f6-476b-bbe5-7501c7af439e\">\n",
       "    <div class=\"colab-df-container\">\n",
       "      <div>\n",
       "<style scoped>\n",
       "    .dataframe tbody tr th:only-of-type {\n",
       "        vertical-align: middle;\n",
       "    }\n",
       "\n",
       "    .dataframe tbody tr th {\n",
       "        vertical-align: top;\n",
       "    }\n",
       "\n",
       "    .dataframe thead th {\n",
       "        text-align: right;\n",
       "    }\n",
       "</style>\n",
       "<table border=\"1\" class=\"dataframe\">\n",
       "  <thead>\n",
       "    <tr style=\"text-align: right;\">\n",
       "      <th></th>\n",
       "      <th>review_date</th>\n",
       "      <th>movie_id</th>\n",
       "      <th>user_id</th>\n",
       "      <th>is_spoiler</th>\n",
       "      <th>review_text</th>\n",
       "      <th>user_rating</th>\n",
       "      <th>review_summary</th>\n",
       "      <th>plot_summary</th>\n",
       "      <th>duration</th>\n",
       "      <th>genre</th>\n",
       "      <th>movie_rating</th>\n",
       "      <th>release_date</th>\n",
       "      <th>plot_synopsis</th>\n",
       "      <th>contains_word_SPOILER</th>\n",
       "    </tr>\n",
       "  </thead>\n",
       "  <tbody>\n",
       "    <tr>\n",
       "      <th>0</th>\n",
       "      <td>10 February 2006</td>\n",
       "      <td>tt0111161</td>\n",
       "      <td>ur1898687</td>\n",
       "      <td>True</td>\n",
       "      <td>In its Oscar year, Shawshank Redemption (writt...</td>\n",
       "      <td>10</td>\n",
       "      <td>A classic piece of unforgettable film-making.</td>\n",
       "      <td>Chronicles the experiences of a formerly succe...</td>\n",
       "      <td>2h 22min</td>\n",
       "      <td>[Crime, Drama]</td>\n",
       "      <td>9.3</td>\n",
       "      <td>1994-10-14</td>\n",
       "      <td>In 1947, Andy Dufresne (Tim Robbins), a banker...</td>\n",
       "      <td>False</td>\n",
       "    </tr>\n",
       "    <tr>\n",
       "      <th>1</th>\n",
       "      <td>6 September 2000</td>\n",
       "      <td>tt0111161</td>\n",
       "      <td>ur0842118</td>\n",
       "      <td>True</td>\n",
       "      <td>The Shawshank Redemption is without a doubt on...</td>\n",
       "      <td>10</td>\n",
       "      <td>Simply amazing. The best film of the 90's.</td>\n",
       "      <td>Chronicles the experiences of a formerly succe...</td>\n",
       "      <td>2h 22min</td>\n",
       "      <td>[Crime, Drama]</td>\n",
       "      <td>9.3</td>\n",
       "      <td>1994-10-14</td>\n",
       "      <td>In 1947, Andy Dufresne (Tim Robbins), a banker...</td>\n",
       "      <td>False</td>\n",
       "    </tr>\n",
       "    <tr>\n",
       "      <th>2</th>\n",
       "      <td>3 August 2001</td>\n",
       "      <td>tt0111161</td>\n",
       "      <td>ur1285640</td>\n",
       "      <td>True</td>\n",
       "      <td>I believe that this film is the best story eve...</td>\n",
       "      <td>8</td>\n",
       "      <td>The best story ever told on film</td>\n",
       "      <td>Chronicles the experiences of a formerly succe...</td>\n",
       "      <td>2h 22min</td>\n",
       "      <td>[Crime, Drama]</td>\n",
       "      <td>9.3</td>\n",
       "      <td>1994-10-14</td>\n",
       "      <td>In 1947, Andy Dufresne (Tim Robbins), a banker...</td>\n",
       "      <td>False</td>\n",
       "    </tr>\n",
       "    <tr>\n",
       "      <th>3</th>\n",
       "      <td>1 September 2002</td>\n",
       "      <td>tt0111161</td>\n",
       "      <td>ur1003471</td>\n",
       "      <td>True</td>\n",
       "      <td>**Yes, there are SPOILERS here**This film has ...</td>\n",
       "      <td>10</td>\n",
       "      <td>Busy dying or busy living?</td>\n",
       "      <td>Chronicles the experiences of a formerly succe...</td>\n",
       "      <td>2h 22min</td>\n",
       "      <td>[Crime, Drama]</td>\n",
       "      <td>9.3</td>\n",
       "      <td>1994-10-14</td>\n",
       "      <td>In 1947, Andy Dufresne (Tim Robbins), a banker...</td>\n",
       "      <td>True</td>\n",
       "    </tr>\n",
       "    <tr>\n",
       "      <th>4</th>\n",
       "      <td>20 May 2004</td>\n",
       "      <td>tt0111161</td>\n",
       "      <td>ur0226855</td>\n",
       "      <td>True</td>\n",
       "      <td>At the heart of this extraordinary movie is a ...</td>\n",
       "      <td>8</td>\n",
       "      <td>Great story, wondrously told and acted</td>\n",
       "      <td>Chronicles the experiences of a formerly succe...</td>\n",
       "      <td>2h 22min</td>\n",
       "      <td>[Crime, Drama]</td>\n",
       "      <td>9.3</td>\n",
       "      <td>1994-10-14</td>\n",
       "      <td>In 1947, Andy Dufresne (Tim Robbins), a banker...</td>\n",
       "      <td>False</td>\n",
       "    </tr>\n",
       "  </tbody>\n",
       "</table>\n",
       "</div>\n",
       "      <button class=\"colab-df-convert\" onclick=\"convertToInteractive('df-c28433fc-51f6-476b-bbe5-7501c7af439e')\"\n",
       "              title=\"Convert this dataframe to an interactive table.\"\n",
       "              style=\"display:none;\">\n",
       "        \n",
       "  <svg xmlns=\"http://www.w3.org/2000/svg\" height=\"24px\"viewBox=\"0 0 24 24\"\n",
       "       width=\"24px\">\n",
       "    <path d=\"M0 0h24v24H0V0z\" fill=\"none\"/>\n",
       "    <path d=\"M18.56 5.44l.94 2.06.94-2.06 2.06-.94-2.06-.94-.94-2.06-.94 2.06-2.06.94zm-11 1L8.5 8.5l.94-2.06 2.06-.94-2.06-.94L8.5 2.5l-.94 2.06-2.06.94zm10 10l.94 2.06.94-2.06 2.06-.94-2.06-.94-.94-2.06-.94 2.06-2.06.94z\"/><path d=\"M17.41 7.96l-1.37-1.37c-.4-.4-.92-.59-1.43-.59-.52 0-1.04.2-1.43.59L10.3 9.45l-7.72 7.72c-.78.78-.78 2.05 0 2.83L4 21.41c.39.39.9.59 1.41.59.51 0 1.02-.2 1.41-.59l7.78-7.78 2.81-2.81c.8-.78.8-2.07 0-2.86zM5.41 20L4 18.59l7.72-7.72 1.47 1.35L5.41 20z\"/>\n",
       "  </svg>\n",
       "      </button>\n",
       "      \n",
       "  <style>\n",
       "    .colab-df-container {\n",
       "      display:flex;\n",
       "      flex-wrap:wrap;\n",
       "      gap: 12px;\n",
       "    }\n",
       "\n",
       "    .colab-df-convert {\n",
       "      background-color: #E8F0FE;\n",
       "      border: none;\n",
       "      border-radius: 50%;\n",
       "      cursor: pointer;\n",
       "      display: none;\n",
       "      fill: #1967D2;\n",
       "      height: 32px;\n",
       "      padding: 0 0 0 0;\n",
       "      width: 32px;\n",
       "    }\n",
       "\n",
       "    .colab-df-convert:hover {\n",
       "      background-color: #E2EBFA;\n",
       "      box-shadow: 0px 1px 2px rgba(60, 64, 67, 0.3), 0px 1px 3px 1px rgba(60, 64, 67, 0.15);\n",
       "      fill: #174EA6;\n",
       "    }\n",
       "\n",
       "    [theme=dark] .colab-df-convert {\n",
       "      background-color: #3B4455;\n",
       "      fill: #D2E3FC;\n",
       "    }\n",
       "\n",
       "    [theme=dark] .colab-df-convert:hover {\n",
       "      background-color: #434B5C;\n",
       "      box-shadow: 0px 1px 3px 1px rgba(0, 0, 0, 0.15);\n",
       "      filter: drop-shadow(0px 1px 2px rgba(0, 0, 0, 0.3));\n",
       "      fill: #FFFFFF;\n",
       "    }\n",
       "  </style>\n",
       "\n",
       "      <script>\n",
       "        const buttonEl =\n",
       "          document.querySelector('#df-c28433fc-51f6-476b-bbe5-7501c7af439e button.colab-df-convert');\n",
       "        buttonEl.style.display =\n",
       "          google.colab.kernel.accessAllowed ? 'block' : 'none';\n",
       "\n",
       "        async function convertToInteractive(key) {\n",
       "          const element = document.querySelector('#df-c28433fc-51f6-476b-bbe5-7501c7af439e');\n",
       "          const dataTable =\n",
       "            await google.colab.kernel.invokeFunction('convertToInteractive',\n",
       "                                                     [key], {});\n",
       "          if (!dataTable) return;\n",
       "\n",
       "          const docLinkHtml = 'Like what you see? Visit the ' +\n",
       "            '<a target=\"_blank\" href=https://colab.research.google.com/notebooks/data_table.ipynb>data table notebook</a>'\n",
       "            + ' to learn more about interactive tables.';\n",
       "          element.innerHTML = '';\n",
       "          dataTable['output_type'] = 'display_data';\n",
       "          await google.colab.output.renderOutput(dataTable, element);\n",
       "          const docLink = document.createElement('div');\n",
       "          docLink.innerHTML = docLinkHtml;\n",
       "          element.appendChild(docLink);\n",
       "        }\n",
       "      </script>\n",
       "    </div>\n",
       "  </div>\n",
       "  "
      ],
      "text/plain": [
       "        review_date   movie_id    user_id  is_spoiler  \\\n",
       "0  10 February 2006  tt0111161  ur1898687        True   \n",
       "1  6 September 2000  tt0111161  ur0842118        True   \n",
       "2     3 August 2001  tt0111161  ur1285640        True   \n",
       "3  1 September 2002  tt0111161  ur1003471        True   \n",
       "4       20 May 2004  tt0111161  ur0226855        True   \n",
       "\n",
       "                                         review_text  user_rating  \\\n",
       "0  In its Oscar year, Shawshank Redemption (writt...           10   \n",
       "1  The Shawshank Redemption is without a doubt on...           10   \n",
       "2  I believe that this film is the best story eve...            8   \n",
       "3  **Yes, there are SPOILERS here**This film has ...           10   \n",
       "4  At the heart of this extraordinary movie is a ...            8   \n",
       "\n",
       "                                  review_summary  \\\n",
       "0  A classic piece of unforgettable film-making.   \n",
       "1     Simply amazing. The best film of the 90's.   \n",
       "2               The best story ever told on film   \n",
       "3                     Busy dying or busy living?   \n",
       "4         Great story, wondrously told and acted   \n",
       "\n",
       "                                        plot_summary  duration  \\\n",
       "0  Chronicles the experiences of a formerly succe...  2h 22min   \n",
       "1  Chronicles the experiences of a formerly succe...  2h 22min   \n",
       "2  Chronicles the experiences of a formerly succe...  2h 22min   \n",
       "3  Chronicles the experiences of a formerly succe...  2h 22min   \n",
       "4  Chronicles the experiences of a formerly succe...  2h 22min   \n",
       "\n",
       "            genre  movie_rating release_date  \\\n",
       "0  [Crime, Drama]           9.3   1994-10-14   \n",
       "1  [Crime, Drama]           9.3   1994-10-14   \n",
       "2  [Crime, Drama]           9.3   1994-10-14   \n",
       "3  [Crime, Drama]           9.3   1994-10-14   \n",
       "4  [Crime, Drama]           9.3   1994-10-14   \n",
       "\n",
       "                                       plot_synopsis  contains_word_SPOILER  \n",
       "0  In 1947, Andy Dufresne (Tim Robbins), a banker...                  False  \n",
       "1  In 1947, Andy Dufresne (Tim Robbins), a banker...                  False  \n",
       "2  In 1947, Andy Dufresne (Tim Robbins), a banker...                  False  \n",
       "3  In 1947, Andy Dufresne (Tim Robbins), a banker...                   True  \n",
       "4  In 1947, Andy Dufresne (Tim Robbins), a banker...                  False  "
      ]
     },
     "execution_count": 112,
     "metadata": {},
     "output_type": "execute_result"
    }
   ],
   "source": [
    "df = contains_word('SPOILER', df)\n",
    "df.head()"
   ]
  },
  {
   "cell_type": "code",
   "execution_count": null,
   "metadata": {
    "id": "At_7tr1VgwUM"
   },
   "outputs": [],
   "source": [
    "import matplotlib.pyplot as plt\n",
    "import numpy as np\n",
    "\n",
    "num_of_spoiler = df[df['is_spoiler'] == True].shape[0]\n",
    "num_of_spoiler_with_spoiler_word = df[(df['is_spoiler'] == True) & (df['contains_word_SPOILER'] == True)].shape[0]\n",
    "num_of_non_spoiler_with_spoiler_word = df[(df['is_spoiler'] == False) & (df['contains_word_SPOILER'] == True)].shape[0]\n",
    "num_of_reviews_with_spoiler_word = df[df['contains_word_SPOILER'] == True].shape[0]\n",
    "\n",
    "# plot 2 pie charts\n",
    "fig, (ax1, ax2) = plt.subplots(1, 2, figsize = (15, 15)) \n",
    "fig.tight_layout(pad = 10.0)\n",
    "\n",
    "labels = ['Spoiler', 'Non-spoiler']\n",
    "values = np.array([(num_of_spoiler_with_spoiler_word / num_of_reviews_with_spoiler_word) * 100,\n",
    "           (num_of_non_spoiler_with_spoiler_word / num_of_reviews_with_spoiler_word) * 100])\n",
    "ax1.pie(values, labels = labels, colors = ['#ff9999','#66b3ff'], autopct = '%1.2f%%')\n",
    "ax1.set_title('Reviews containing the word spoiler')\n",
    "\n",
    "labels = ['Containing the word spoiler', 'Not containing the word spoiler']\n",
    "values = np.array([(num_of_spoiler_with_spoiler_word / num_of_spoiler) * 100,\n",
    "           ((num_of_spoiler - num_of_spoiler_with_spoiler_word) / num_of_spoiler) * 100])\n",
    "ax2.pie(values,labels = labels, colors = ['#ff9999', '#ffcc99'],autopct = '%1.2f%%') #plot second pie\n",
    "ax2.set_title('Spoiler reviews')"
   ]
  },
  {
   "cell_type": "markdown",
   "metadata": {
    "id": "ZaGSMXPzi0fR"
   },
   "source": [
    "From the pie charts above, for the reviews that contain the word 'spoiler', 71.9% are spoilers and 24.1% are non-spoilers. <br>\n",
    "\n",
    "Out of the all spoilers' reviews, only 12.6% conatains the word spoiler. 87.4% of the spoiler reviews do not contain the word spoiler."
   ]
  },
  {
   "cell_type": "markdown",
   "metadata": {
    "id": "15HzQs3zjVfx"
   },
   "source": [
    "## Picking a Movie"
   ]
  },
  {
   "cell_type": "code",
   "execution_count": null,
   "metadata": {
    "id": "M1gjXz6vjbQD"
   },
   "outputs": [],
   "source": [
    "def pick_movie(movie_id):\n",
    "  global df\n",
    "  df = df.loc[df['movie_id'] == movie_id, :]"
   ]
  },
  {
   "cell_type": "code",
   "execution_count": null,
   "metadata": {
    "id": "tZ0fgd7akDez"
   },
   "outputs": [],
   "source": [
    "pick_movie('tt0468569')"
   ]
  },
  {
   "cell_type": "code",
   "execution_count": null,
   "metadata": {
    "colab": {
     "base_uri": "https://localhost:8080/",
     "height": 565
    },
    "id": "gGeZXQZklE1i",
    "outputId": "2533f1b5-3969-4de1-e81a-457850b33722"
   },
   "outputs": [
    {
     "data": {
      "text/html": [
       "\n",
       "  <div id=\"df-73fc2c5e-5dff-44fe-a824-5ec6ac0095f3\">\n",
       "    <div class=\"colab-df-container\">\n",
       "      <div>\n",
       "<style scoped>\n",
       "    .dataframe tbody tr th:only-of-type {\n",
       "        vertical-align: middle;\n",
       "    }\n",
       "\n",
       "    .dataframe tbody tr th {\n",
       "        vertical-align: top;\n",
       "    }\n",
       "\n",
       "    .dataframe thead th {\n",
       "        text-align: right;\n",
       "    }\n",
       "</style>\n",
       "<table border=\"1\" class=\"dataframe\">\n",
       "  <thead>\n",
       "    <tr style=\"text-align: right;\">\n",
       "      <th></th>\n",
       "      <th>review_date</th>\n",
       "      <th>movie_id</th>\n",
       "      <th>user_id</th>\n",
       "      <th>is_spoiler</th>\n",
       "      <th>review_text</th>\n",
       "      <th>user_rating</th>\n",
       "      <th>review_summary</th>\n",
       "      <th>plot_summary</th>\n",
       "      <th>duration</th>\n",
       "      <th>genre</th>\n",
       "      <th>movie_rating</th>\n",
       "      <th>release_date</th>\n",
       "      <th>plot_synopsis</th>\n",
       "      <th>contains_word_SPOILER</th>\n",
       "    </tr>\n",
       "  </thead>\n",
       "  <tbody>\n",
       "    <tr>\n",
       "      <th>0</th>\n",
       "      <td>20 July 2008</td>\n",
       "      <td>tt0468569</td>\n",
       "      <td>ur1293485</td>\n",
       "      <td>True</td>\n",
       "      <td>I got to see The Dark Knight on Wednesday nigh...</td>\n",
       "      <td>10</td>\n",
       "      <td>The Batman of our dreams! So much more than a ...</td>\n",
       "      <td>Set within a year after the events of Batman B...</td>\n",
       "      <td>2h 32min</td>\n",
       "      <td>[Action, Crime, Drama]</td>\n",
       "      <td>9.0</td>\n",
       "      <td>2008-07-18</td>\n",
       "      <td>The movie begins with a gang of men with clown...</td>\n",
       "      <td>False</td>\n",
       "    </tr>\n",
       "    <tr>\n",
       "      <th>1</th>\n",
       "      <td>16 July 2008</td>\n",
       "      <td>tt0468569</td>\n",
       "      <td>ur13846894</td>\n",
       "      <td>True</td>\n",
       "      <td>I must say I was excited for this movie since ...</td>\n",
       "      <td>10</td>\n",
       "      <td>Certainly Dark - Worth The Wait</td>\n",
       "      <td>Set within a year after the events of Batman B...</td>\n",
       "      <td>2h 32min</td>\n",
       "      <td>[Action, Crime, Drama]</td>\n",
       "      <td>9.0</td>\n",
       "      <td>2008-07-18</td>\n",
       "      <td>The movie begins with a gang of men with clown...</td>\n",
       "      <td>False</td>\n",
       "    </tr>\n",
       "    <tr>\n",
       "      <th>2</th>\n",
       "      <td>16 July 2008</td>\n",
       "      <td>tt0468569</td>\n",
       "      <td>ur2371300</td>\n",
       "      <td>True</td>\n",
       "      <td>I thought Batman Begins was a very well concei...</td>\n",
       "      <td>10</td>\n",
       "      <td>Best. Comic. Movie. EVER.</td>\n",
       "      <td>Set within a year after the events of Batman B...</td>\n",
       "      <td>2h 32min</td>\n",
       "      <td>[Action, Crime, Drama]</td>\n",
       "      <td>9.0</td>\n",
       "      <td>2008-07-18</td>\n",
       "      <td>The movie begins with a gang of men with clown...</td>\n",
       "      <td>False</td>\n",
       "    </tr>\n",
       "    <tr>\n",
       "      <th>3</th>\n",
       "      <td>16 July 2008</td>\n",
       "      <td>tt0468569</td>\n",
       "      <td>ur5237888</td>\n",
       "      <td>True</td>\n",
       "      <td>I think the big question...or the question eve...</td>\n",
       "      <td>10</td>\n",
       "      <td>The Dark Knight is as good as everyone says an...</td>\n",
       "      <td>Set within a year after the events of Batman B...</td>\n",
       "      <td>2h 32min</td>\n",
       "      <td>[Action, Crime, Drama]</td>\n",
       "      <td>9.0</td>\n",
       "      <td>2008-07-18</td>\n",
       "      <td>The movie begins with a gang of men with clown...</td>\n",
       "      <td>False</td>\n",
       "    </tr>\n",
       "    <tr>\n",
       "      <th>4</th>\n",
       "      <td>17 July 2008</td>\n",
       "      <td>tt0468569</td>\n",
       "      <td>ur2747265</td>\n",
       "      <td>True</td>\n",
       "      <td>(Synopsis) Bruce Wayne/Batman (Christian Bale)...</td>\n",
       "      <td>10</td>\n",
       "      <td>The dark and sinister mood of the film really ...</td>\n",
       "      <td>Set within a year after the events of Batman B...</td>\n",
       "      <td>2h 32min</td>\n",
       "      <td>[Action, Crime, Drama]</td>\n",
       "      <td>9.0</td>\n",
       "      <td>2008-07-18</td>\n",
       "      <td>The movie begins with a gang of men with clown...</td>\n",
       "      <td>False</td>\n",
       "    </tr>\n",
       "  </tbody>\n",
       "</table>\n",
       "</div>\n",
       "      <button class=\"colab-df-convert\" onclick=\"convertToInteractive('df-73fc2c5e-5dff-44fe-a824-5ec6ac0095f3')\"\n",
       "              title=\"Convert this dataframe to an interactive table.\"\n",
       "              style=\"display:none;\">\n",
       "        \n",
       "  <svg xmlns=\"http://www.w3.org/2000/svg\" height=\"24px\"viewBox=\"0 0 24 24\"\n",
       "       width=\"24px\">\n",
       "    <path d=\"M0 0h24v24H0V0z\" fill=\"none\"/>\n",
       "    <path d=\"M18.56 5.44l.94 2.06.94-2.06 2.06-.94-2.06-.94-.94-2.06-.94 2.06-2.06.94zm-11 1L8.5 8.5l.94-2.06 2.06-.94-2.06-.94L8.5 2.5l-.94 2.06-2.06.94zm10 10l.94 2.06.94-2.06 2.06-.94-2.06-.94-.94-2.06-.94 2.06-2.06.94z\"/><path d=\"M17.41 7.96l-1.37-1.37c-.4-.4-.92-.59-1.43-.59-.52 0-1.04.2-1.43.59L10.3 9.45l-7.72 7.72c-.78.78-.78 2.05 0 2.83L4 21.41c.39.39.9.59 1.41.59.51 0 1.02-.2 1.41-.59l7.78-7.78 2.81-2.81c.8-.78.8-2.07 0-2.86zM5.41 20L4 18.59l7.72-7.72 1.47 1.35L5.41 20z\"/>\n",
       "  </svg>\n",
       "      </button>\n",
       "      \n",
       "  <style>\n",
       "    .colab-df-container {\n",
       "      display:flex;\n",
       "      flex-wrap:wrap;\n",
       "      gap: 12px;\n",
       "    }\n",
       "\n",
       "    .colab-df-convert {\n",
       "      background-color: #E8F0FE;\n",
       "      border: none;\n",
       "      border-radius: 50%;\n",
       "      cursor: pointer;\n",
       "      display: none;\n",
       "      fill: #1967D2;\n",
       "      height: 32px;\n",
       "      padding: 0 0 0 0;\n",
       "      width: 32px;\n",
       "    }\n",
       "\n",
       "    .colab-df-convert:hover {\n",
       "      background-color: #E2EBFA;\n",
       "      box-shadow: 0px 1px 2px rgba(60, 64, 67, 0.3), 0px 1px 3px 1px rgba(60, 64, 67, 0.15);\n",
       "      fill: #174EA6;\n",
       "    }\n",
       "\n",
       "    [theme=dark] .colab-df-convert {\n",
       "      background-color: #3B4455;\n",
       "      fill: #D2E3FC;\n",
       "    }\n",
       "\n",
       "    [theme=dark] .colab-df-convert:hover {\n",
       "      background-color: #434B5C;\n",
       "      box-shadow: 0px 1px 3px 1px rgba(0, 0, 0, 0.15);\n",
       "      filter: drop-shadow(0px 1px 2px rgba(0, 0, 0, 0.3));\n",
       "      fill: #FFFFFF;\n",
       "    }\n",
       "  </style>\n",
       "\n",
       "      <script>\n",
       "        const buttonEl =\n",
       "          document.querySelector('#df-73fc2c5e-5dff-44fe-a824-5ec6ac0095f3 button.colab-df-convert');\n",
       "        buttonEl.style.display =\n",
       "          google.colab.kernel.accessAllowed ? 'block' : 'none';\n",
       "\n",
       "        async function convertToInteractive(key) {\n",
       "          const element = document.querySelector('#df-73fc2c5e-5dff-44fe-a824-5ec6ac0095f3');\n",
       "          const dataTable =\n",
       "            await google.colab.kernel.invokeFunction('convertToInteractive',\n",
       "                                                     [key], {});\n",
       "          if (!dataTable) return;\n",
       "\n",
       "          const docLinkHtml = 'Like what you see? Visit the ' +\n",
       "            '<a target=\"_blank\" href=https://colab.research.google.com/notebooks/data_table.ipynb>data table notebook</a>'\n",
       "            + ' to learn more about interactive tables.';\n",
       "          element.innerHTML = '';\n",
       "          dataTable['output_type'] = 'display_data';\n",
       "          await google.colab.output.renderOutput(dataTable, element);\n",
       "          const docLink = document.createElement('div');\n",
       "          docLink.innerHTML = docLinkHtml;\n",
       "          element.appendChild(docLink);\n",
       "        }\n",
       "      </script>\n",
       "    </div>\n",
       "  </div>\n",
       "  "
      ],
      "text/plain": [
       "    review_date   movie_id     user_id  is_spoiler  \\\n",
       "0  20 July 2008  tt0468569   ur1293485        True   \n",
       "1  16 July 2008  tt0468569  ur13846894        True   \n",
       "2  16 July 2008  tt0468569   ur2371300        True   \n",
       "3  16 July 2008  tt0468569   ur5237888        True   \n",
       "4  17 July 2008  tt0468569   ur2747265        True   \n",
       "\n",
       "                                         review_text  user_rating  \\\n",
       "0  I got to see The Dark Knight on Wednesday nigh...           10   \n",
       "1  I must say I was excited for this movie since ...           10   \n",
       "2  I thought Batman Begins was a very well concei...           10   \n",
       "3  I think the big question...or the question eve...           10   \n",
       "4  (Synopsis) Bruce Wayne/Batman (Christian Bale)...           10   \n",
       "\n",
       "                                      review_summary  \\\n",
       "0  The Batman of our dreams! So much more than a ...   \n",
       "1                    Certainly Dark - Worth The Wait   \n",
       "2                          Best. Comic. Movie. EVER.   \n",
       "3  The Dark Knight is as good as everyone says an...   \n",
       "4  The dark and sinister mood of the film really ...   \n",
       "\n",
       "                                        plot_summary  duration  \\\n",
       "0  Set within a year after the events of Batman B...  2h 32min   \n",
       "1  Set within a year after the events of Batman B...  2h 32min   \n",
       "2  Set within a year after the events of Batman B...  2h 32min   \n",
       "3  Set within a year after the events of Batman B...  2h 32min   \n",
       "4  Set within a year after the events of Batman B...  2h 32min   \n",
       "\n",
       "                    genre  movie_rating release_date  \\\n",
       "0  [Action, Crime, Drama]           9.0   2008-07-18   \n",
       "1  [Action, Crime, Drama]           9.0   2008-07-18   \n",
       "2  [Action, Crime, Drama]           9.0   2008-07-18   \n",
       "3  [Action, Crime, Drama]           9.0   2008-07-18   \n",
       "4  [Action, Crime, Drama]           9.0   2008-07-18   \n",
       "\n",
       "                                       plot_synopsis  contains_word_SPOILER  \n",
       "0  The movie begins with a gang of men with clown...                  False  \n",
       "1  The movie begins with a gang of men with clown...                  False  \n",
       "2  The movie begins with a gang of men with clown...                  False  \n",
       "3  The movie begins with a gang of men with clown...                  False  \n",
       "4  The movie begins with a gang of men with clown...                  False  "
      ]
     },
     "execution_count": 16,
     "metadata": {},
     "output_type": "execute_result"
    }
   ],
   "source": [
    "df.reset_index(inplace=True)\n",
    "df = df.drop('index', axis=1)\n",
    "df.head()"
   ]
  },
  {
   "cell_type": "code",
   "execution_count": null,
   "metadata": {
    "colab": {
     "base_uri": "https://localhost:8080/"
    },
    "id": "-YFBvkADlMu6",
    "outputId": "90dfe764-f2eb-4020-b331-83c83e28757d"
   },
   "outputs": [
    {
     "name": "stdout",
     "output_type": "stream",
     "text": [
      "<class 'pandas.core.frame.DataFrame'>\n",
      "RangeIndex: 4845 entries, 0 to 4844\n",
      "Data columns (total 14 columns):\n",
      " #   Column                 Non-Null Count  Dtype  \n",
      "---  ------                 --------------  -----  \n",
      " 0   review_date            4845 non-null   object \n",
      " 1   movie_id               4845 non-null   object \n",
      " 2   user_id                4845 non-null   object \n",
      " 3   is_spoiler             4845 non-null   bool   \n",
      " 4   review_text            4845 non-null   object \n",
      " 5   user_rating            4845 non-null   int64  \n",
      " 6   review_summary         4845 non-null   object \n",
      " 7   plot_summary           4845 non-null   object \n",
      " 8   duration               4845 non-null   object \n",
      " 9   genre                  4845 non-null   object \n",
      " 10  movie_rating           4845 non-null   float64\n",
      " 11  release_date           4845 non-null   object \n",
      " 12  plot_synopsis          4845 non-null   object \n",
      " 13  contains_word_SPOILER  4845 non-null   bool   \n",
      "dtypes: bool(2), float64(1), int64(1), object(10)\n",
      "memory usage: 463.8+ KB\n"
     ]
    }
   ],
   "source": [
    "df.info()"
   ]
  },
  {
   "cell_type": "markdown",
   "metadata": {
    "id": "r-pGHYFDePd6"
   },
   "source": [
    "## Under-sampling"
   ]
  },
  {
   "cell_type": "markdown",
   "metadata": {
    "id": "--7MDdw7ePd6"
   },
   "source": [
    "This is done before data cleaning."
   ]
  },
  {
   "cell_type": "code",
   "execution_count": null,
   "metadata": {
    "id": "6pzBLTnOePd7"
   },
   "outputs": [],
   "source": [
    "def under_sampling():\n",
    "    global df\n",
    "    df_0 = df[df['is_spoiler'] == False]\n",
    "    df_1 = df[df['is_spoiler'] == True]\n",
    "    sample_size = df_1.shape[0]\n",
    "    df_0 = df_0.sample(sample_size)\n",
    "    df = pd.concat([df_0, df_1])\n"
   ]
  },
  {
   "cell_type": "code",
   "execution_count": null,
   "metadata": {
    "id": "UQXlZm9pePd7"
   },
   "outputs": [],
   "source": [
    "under_sampling()"
   ]
  },
  {
   "cell_type": "code",
   "execution_count": null,
   "metadata": {
    "colab": {
     "base_uri": "https://localhost:8080/",
     "height": 565
    },
    "id": "_L7byaPVePd7",
    "outputId": "ef170256-2e93-41d8-b01f-4cfa95c2e5e3"
   },
   "outputs": [
    {
     "data": {
      "text/html": [
       "\n",
       "  <div id=\"df-62136e38-b3a2-489b-befb-d7e5d5fd36c7\">\n",
       "    <div class=\"colab-df-container\">\n",
       "      <div>\n",
       "<style scoped>\n",
       "    .dataframe tbody tr th:only-of-type {\n",
       "        vertical-align: middle;\n",
       "    }\n",
       "\n",
       "    .dataframe tbody tr th {\n",
       "        vertical-align: top;\n",
       "    }\n",
       "\n",
       "    .dataframe thead th {\n",
       "        text-align: right;\n",
       "    }\n",
       "</style>\n",
       "<table border=\"1\" class=\"dataframe\">\n",
       "  <thead>\n",
       "    <tr style=\"text-align: right;\">\n",
       "      <th></th>\n",
       "      <th>review_date</th>\n",
       "      <th>movie_id</th>\n",
       "      <th>user_id</th>\n",
       "      <th>is_spoiler</th>\n",
       "      <th>review_text</th>\n",
       "      <th>user_rating</th>\n",
       "      <th>review_summary</th>\n",
       "      <th>plot_summary</th>\n",
       "      <th>duration</th>\n",
       "      <th>genre</th>\n",
       "      <th>movie_rating</th>\n",
       "      <th>release_date</th>\n",
       "      <th>plot_synopsis</th>\n",
       "      <th>contains_word_SPOILER</th>\n",
       "    </tr>\n",
       "  </thead>\n",
       "  <tbody>\n",
       "    <tr>\n",
       "      <th>0</th>\n",
       "      <td>30 June 2002</td>\n",
       "      <td>tt0167404</td>\n",
       "      <td>ur1821533</td>\n",
       "      <td>False</td>\n",
       "      <td>I saw this film in the U.S. when I was there, ...</td>\n",
       "      <td>10</td>\n",
       "      <td>M. Night Shyamalan - remember that name!</td>\n",
       "      <td>Malcom Crowe (Bruce Willis)is a child psycholo...</td>\n",
       "      <td>1h 47min</td>\n",
       "      <td>[Drama, Mystery, Thriller]</td>\n",
       "      <td>8.1</td>\n",
       "      <td>1999-08-06</td>\n",
       "      <td>Dr. Malcolm Crowe (Bruce Willis), a prominent ...</td>\n",
       "      <td>False</td>\n",
       "    </tr>\n",
       "    <tr>\n",
       "      <th>1</th>\n",
       "      <td>27 July 2015</td>\n",
       "      <td>tt1937390</td>\n",
       "      <td>ur0278527</td>\n",
       "      <td>False</td>\n",
       "      <td>Apparently this film has received considerable...</td>\n",
       "      <td>5</td>\n",
       "      <td>So, I Saw This Title on Netflix.....</td>\n",
       "      <td>A man named Seligman finds a fainted wounded w...</td>\n",
       "      <td>1h 57min</td>\n",
       "      <td>[Drama]</td>\n",
       "      <td>7.0</td>\n",
       "      <td>2014-03-06</td>\n",
       "      <td>The film starts with a repetitive sound effect...</td>\n",
       "      <td>False</td>\n",
       "    </tr>\n",
       "    <tr>\n",
       "      <th>2</th>\n",
       "      <td>26 December 2016</td>\n",
       "      <td>tt4550098</td>\n",
       "      <td>ur56801091</td>\n",
       "      <td>False</td>\n",
       "      <td>Well, after Amy Adams picking this flop and th...</td>\n",
       "      <td>2</td>\n",
       "      <td>Little hope for Adams' \"Dis-Enchanted\"</td>\n",
       "      <td>A \"story inside a story,\" in which the first p...</td>\n",
       "      <td>1h 56min</td>\n",
       "      <td>[Crime, Drama, Romance]</td>\n",
       "      <td>7.5</td>\n",
       "      <td>2016-12-09</td>\n",
       "      <td>The movie begins with obese women, dancing nak...</td>\n",
       "      <td>False</td>\n",
       "    </tr>\n",
       "    <tr>\n",
       "      <th>3</th>\n",
       "      <td>3 November 2007</td>\n",
       "      <td>tt0765429</td>\n",
       "      <td>ur5118543</td>\n",
       "      <td>False</td>\n",
       "      <td>When I first heard about this film, I was hope...</td>\n",
       "      <td>5</td>\n",
       "      <td>Irresponsible and Dull</td>\n",
       "      <td>Following the death of his employer and mentor...</td>\n",
       "      <td>2h 37min</td>\n",
       "      <td>[Biography, Crime, Drama]</td>\n",
       "      <td>7.8</td>\n",
       "      <td>2007-11-02</td>\n",
       "      <td>The film opens with Bumpy Johnson (Clarence Wi...</td>\n",
       "      <td>False</td>\n",
       "    </tr>\n",
       "    <tr>\n",
       "      <th>4</th>\n",
       "      <td>3 March 2007</td>\n",
       "      <td>tt0443706</td>\n",
       "      <td>ur6663090</td>\n",
       "      <td>False</td>\n",
       "      <td>After having read other critiques, I will conc...</td>\n",
       "      <td>9</td>\n",
       "      <td>A fresh take on the elusive serial killer....</td>\n",
       "      <td>A serial killer in the San Francisco Bay Area ...</td>\n",
       "      <td>2h 37min</td>\n",
       "      <td>[Crime, Drama, History]</td>\n",
       "      <td>7.7</td>\n",
       "      <td>2007-03-02</td>\n",
       "      <td>The film starts on July 4, 1969, with the Zodi...</td>\n",
       "      <td>False</td>\n",
       "    </tr>\n",
       "  </tbody>\n",
       "</table>\n",
       "</div>\n",
       "      <button class=\"colab-df-convert\" onclick=\"convertToInteractive('df-62136e38-b3a2-489b-befb-d7e5d5fd36c7')\"\n",
       "              title=\"Convert this dataframe to an interactive table.\"\n",
       "              style=\"display:none;\">\n",
       "        \n",
       "  <svg xmlns=\"http://www.w3.org/2000/svg\" height=\"24px\"viewBox=\"0 0 24 24\"\n",
       "       width=\"24px\">\n",
       "    <path d=\"M0 0h24v24H0V0z\" fill=\"none\"/>\n",
       "    <path d=\"M18.56 5.44l.94 2.06.94-2.06 2.06-.94-2.06-.94-.94-2.06-.94 2.06-2.06.94zm-11 1L8.5 8.5l.94-2.06 2.06-.94-2.06-.94L8.5 2.5l-.94 2.06-2.06.94zm10 10l.94 2.06.94-2.06 2.06-.94-2.06-.94-.94-2.06-.94 2.06-2.06.94z\"/><path d=\"M17.41 7.96l-1.37-1.37c-.4-.4-.92-.59-1.43-.59-.52 0-1.04.2-1.43.59L10.3 9.45l-7.72 7.72c-.78.78-.78 2.05 0 2.83L4 21.41c.39.39.9.59 1.41.59.51 0 1.02-.2 1.41-.59l7.78-7.78 2.81-2.81c.8-.78.8-2.07 0-2.86zM5.41 20L4 18.59l7.72-7.72 1.47 1.35L5.41 20z\"/>\n",
       "  </svg>\n",
       "      </button>\n",
       "      \n",
       "  <style>\n",
       "    .colab-df-container {\n",
       "      display:flex;\n",
       "      flex-wrap:wrap;\n",
       "      gap: 12px;\n",
       "    }\n",
       "\n",
       "    .colab-df-convert {\n",
       "      background-color: #E8F0FE;\n",
       "      border: none;\n",
       "      border-radius: 50%;\n",
       "      cursor: pointer;\n",
       "      display: none;\n",
       "      fill: #1967D2;\n",
       "      height: 32px;\n",
       "      padding: 0 0 0 0;\n",
       "      width: 32px;\n",
       "    }\n",
       "\n",
       "    .colab-df-convert:hover {\n",
       "      background-color: #E2EBFA;\n",
       "      box-shadow: 0px 1px 2px rgba(60, 64, 67, 0.3), 0px 1px 3px 1px rgba(60, 64, 67, 0.15);\n",
       "      fill: #174EA6;\n",
       "    }\n",
       "\n",
       "    [theme=dark] .colab-df-convert {\n",
       "      background-color: #3B4455;\n",
       "      fill: #D2E3FC;\n",
       "    }\n",
       "\n",
       "    [theme=dark] .colab-df-convert:hover {\n",
       "      background-color: #434B5C;\n",
       "      box-shadow: 0px 1px 3px 1px rgba(0, 0, 0, 0.15);\n",
       "      filter: drop-shadow(0px 1px 2px rgba(0, 0, 0, 0.3));\n",
       "      fill: #FFFFFF;\n",
       "    }\n",
       "  </style>\n",
       "\n",
       "      <script>\n",
       "        const buttonEl =\n",
       "          document.querySelector('#df-62136e38-b3a2-489b-befb-d7e5d5fd36c7 button.colab-df-convert');\n",
       "        buttonEl.style.display =\n",
       "          google.colab.kernel.accessAllowed ? 'block' : 'none';\n",
       "\n",
       "        async function convertToInteractive(key) {\n",
       "          const element = document.querySelector('#df-62136e38-b3a2-489b-befb-d7e5d5fd36c7');\n",
       "          const dataTable =\n",
       "            await google.colab.kernel.invokeFunction('convertToInteractive',\n",
       "                                                     [key], {});\n",
       "          if (!dataTable) return;\n",
       "\n",
       "          const docLinkHtml = 'Like what you see? Visit the ' +\n",
       "            '<a target=\"_blank\" href=https://colab.research.google.com/notebooks/data_table.ipynb>data table notebook</a>'\n",
       "            + ' to learn more about interactive tables.';\n",
       "          element.innerHTML = '';\n",
       "          dataTable['output_type'] = 'display_data';\n",
       "          await google.colab.output.renderOutput(dataTable, element);\n",
       "          const docLink = document.createElement('div');\n",
       "          docLink.innerHTML = docLinkHtml;\n",
       "          element.appendChild(docLink);\n",
       "        }\n",
       "      </script>\n",
       "    </div>\n",
       "  </div>\n",
       "  "
      ],
      "text/plain": [
       "        review_date   movie_id     user_id  is_spoiler  \\\n",
       "0      30 June 2002  tt0167404   ur1821533       False   \n",
       "1      27 July 2015  tt1937390   ur0278527       False   \n",
       "2  26 December 2016  tt4550098  ur56801091       False   \n",
       "3   3 November 2007  tt0765429   ur5118543       False   \n",
       "4      3 March 2007  tt0443706   ur6663090       False   \n",
       "\n",
       "                                         review_text  user_rating  \\\n",
       "0  I saw this film in the U.S. when I was there, ...           10   \n",
       "1  Apparently this film has received considerable...            5   \n",
       "2  Well, after Amy Adams picking this flop and th...            2   \n",
       "3  When I first heard about this film, I was hope...            5   \n",
       "4  After having read other critiques, I will conc...            9   \n",
       "\n",
       "                                  review_summary  \\\n",
       "0       M. Night Shyamalan - remember that name!   \n",
       "1           So, I Saw This Title on Netflix.....   \n",
       "2         Little hope for Adams' \"Dis-Enchanted\"   \n",
       "3                         Irresponsible and Dull   \n",
       "4  A fresh take on the elusive serial killer....   \n",
       "\n",
       "                                        plot_summary  duration  \\\n",
       "0  Malcom Crowe (Bruce Willis)is a child psycholo...  1h 47min   \n",
       "1  A man named Seligman finds a fainted wounded w...  1h 57min   \n",
       "2  A \"story inside a story,\" in which the first p...  1h 56min   \n",
       "3  Following the death of his employer and mentor...  2h 37min   \n",
       "4  A serial killer in the San Francisco Bay Area ...  2h 37min   \n",
       "\n",
       "                        genre  movie_rating release_date  \\\n",
       "0  [Drama, Mystery, Thriller]           8.1   1999-08-06   \n",
       "1                     [Drama]           7.0   2014-03-06   \n",
       "2     [Crime, Drama, Romance]           7.5   2016-12-09   \n",
       "3   [Biography, Crime, Drama]           7.8   2007-11-02   \n",
       "4     [Crime, Drama, History]           7.7   2007-03-02   \n",
       "\n",
       "                                       plot_synopsis  contains_word_SPOILER  \n",
       "0  Dr. Malcolm Crowe (Bruce Willis), a prominent ...                  False  \n",
       "1  The film starts with a repetitive sound effect...                  False  \n",
       "2  The movie begins with obese women, dancing nak...                  False  \n",
       "3  The film opens with Bumpy Johnson (Clarence Wi...                  False  \n",
       "4  The film starts on July 4, 1969, with the Zodi...                  False  "
      ]
     },
     "execution_count": 115,
     "metadata": {},
     "output_type": "execute_result"
    }
   ],
   "source": [
    "df.reset_index(inplace=True)\n",
    "df = df.drop('index', axis=1)\n",
    "df.head()"
   ]
  },
  {
   "cell_type": "code",
   "execution_count": null,
   "metadata": {
    "colab": {
     "base_uri": "https://localhost:8080/"
    },
    "id": "GFnnRi2aePd7",
    "outputId": "7c95b9ad-7880-426b-beb0-7830306722fc"
   },
   "outputs": [
    {
     "name": "stdout",
     "output_type": "stream",
     "text": [
      "<class 'pandas.core.frame.DataFrame'>\n",
      "RangeIndex: 301848 entries, 0 to 301847\n",
      "Data columns (total 14 columns):\n",
      " #   Column                 Non-Null Count   Dtype  \n",
      "---  ------                 --------------   -----  \n",
      " 0   review_date            301848 non-null  object \n",
      " 1   movie_id               301848 non-null  object \n",
      " 2   user_id                301848 non-null  object \n",
      " 3   is_spoiler             301848 non-null  bool   \n",
      " 4   review_text            301848 non-null  object \n",
      " 5   user_rating            301848 non-null  int64  \n",
      " 6   review_summary         301848 non-null  object \n",
      " 7   plot_summary           301848 non-null  object \n",
      " 8   duration               301848 non-null  object \n",
      " 9   genre                  301848 non-null  object \n",
      " 10  movie_rating           301848 non-null  float64\n",
      " 11  release_date           301848 non-null  object \n",
      " 12  plot_synopsis          301848 non-null  object \n",
      " 13  contains_word_SPOILER  301848 non-null  bool   \n",
      "dtypes: bool(2), float64(1), int64(1), object(10)\n",
      "memory usage: 28.2+ MB\n"
     ]
    }
   ],
   "source": [
    "df.info()"
   ]
  },
  {
   "cell_type": "code",
   "execution_count": null,
   "metadata": {
    "colab": {
     "base_uri": "https://localhost:8080/",
     "height": 349
    },
    "id": "is0Znof8ePd8",
    "outputId": "3076a294-9939-4702-8218-34c0bec17da4"
   },
   "outputs": [
    {
     "name": "stdout",
     "output_type": "stream",
     "text": [
      "False    50.0\n",
      "True     50.0\n",
      "Name: is_spoiler, dtype: float64\n"
     ]
    },
    {
     "data": {
      "image/png": "[encoded data removed]",
      "text/plain": [
       "<Figure size 432x288 with 1 Axes>"
      ]
     },
     "metadata": {
      "needs_background": "light"
     },
     "output_type": "display_data"
    }
   ],
   "source": [
    "import matplotlib.pyplot as plt\n",
    "spoiler_count = df.is_spoiler.value_counts(normalize = True) * 100\n",
    "\n",
    "print(spoiler_count)\n",
    "\n",
    "spoiler_count.plot(kind = 'bar')\n",
    "plt.title('is spoiler')\n",
    "plt.show()"
   ]
  },
  {
   "cell_type": "markdown",
   "metadata": {
    "id": "jnX4hGpEePd8"
   },
   "source": [
    "Now the dataset is balanced!"
   ]
  },
  {
   "cell_type": "markdown",
   "metadata": {
    "id": "ltsQRzqc6TiS"
   },
   "source": [
    "## Size Reduction"
   ]
  },
  {
   "cell_type": "code",
   "execution_count": null,
   "metadata": {
    "id": "w-sc7Qe_6WLh"
   },
   "outputs": [],
   "source": [
    "def reduce_data_size():\n",
    "    global df\n",
    "    frac = 0.1\n",
    "    df = df.sample(frac=frac)"
   ]
  },
  {
   "cell_type": "code",
   "execution_count": null,
   "metadata": {
    "id": "b557J8uKDA1r"
   },
   "outputs": [],
   "source": [
    "reduce_data_size()"
   ]
  },
  {
   "cell_type": "code",
   "execution_count": null,
   "metadata": {
    "colab": {
     "base_uri": "https://localhost:8080/"
    },
    "id": "50wwG7NMDLLW",
    "outputId": "242951f1-8a0c-436e-cf31-4589396fc23b"
   },
   "outputs": [
    {
     "name": "stdout",
     "output_type": "stream",
     "text": [
      "<class 'pandas.core.frame.DataFrame'>\n",
      "RangeIndex: 30185 entries, 0 to 30184\n",
      "Data columns (total 14 columns):\n",
      " #   Column                 Non-Null Count  Dtype  \n",
      "---  ------                 --------------  -----  \n",
      " 0   review_date            30185 non-null  object \n",
      " 1   movie_id               30185 non-null  object \n",
      " 2   user_id                30185 non-null  object \n",
      " 3   is_spoiler             30185 non-null  bool   \n",
      " 4   review_text            30185 non-null  object \n",
      " 5   user_rating            30185 non-null  int64  \n",
      " 6   review_summary         30185 non-null  object \n",
      " 7   plot_summary           30185 non-null  object \n",
      " 8   duration               30185 non-null  object \n",
      " 9   genre                  30185 non-null  object \n",
      " 10  movie_rating           30185 non-null  float64\n",
      " 11  release_date           30185 non-null  object \n",
      " 12  plot_synopsis          30185 non-null  object \n",
      " 13  contains_word_SPOILER  30185 non-null  bool   \n",
      "dtypes: bool(2), float64(1), int64(1), object(10)\n",
      "memory usage: 2.8+ MB\n"
     ]
    }
   ],
   "source": [
    "df.reset_index(inplace=True)\n",
    "df = df.drop('index', axis=1)\n",
    "df.info()"
   ]
  },
  {
   "cell_type": "markdown",
   "metadata": {
    "id": "Rrn31k7Qm5wM"
   },
   "source": [
    "## Data Cleaning"
   ]
  },
  {
   "cell_type": "code",
   "execution_count": null,
   "metadata": {
    "colab": {
     "base_uri": "https://localhost:8080/"
    },
    "id": "gBfRAgnYm8Jq",
    "outputId": "6907b756-9400-4270-8a57-2f10b3503e46"
   },
   "outputs": [
    {
     "name": "stdout",
     "output_type": "stream",
     "text": [
      "here is a link: \n"
     ]
    }
   ],
   "source": [
    "import re\n",
    "def removeLinks(text):\n",
    "  return re.sub(r'http\\S+', '', text)\n",
    "print(removeLinks('here is a link: https://google.com'))"
   ]
  },
  {
   "cell_type": "markdown",
   "metadata": {
    "id": "c0DbIQawgFDo"
   },
   "source": [
    "First, we will remove the links in the review_text column."
   ]
  },
  {
   "cell_type": "code",
   "execution_count": null,
   "metadata": {
    "id": "tmP2DeeYrgB0"
   },
   "outputs": [],
   "source": [
    "for i in df.index:\n",
    "  df.at[i, 'review_text'] = removeLinks(df.at[i, 'review_text'])"
   ]
  },
  {
   "cell_type": "markdown",
   "metadata": {
    "id": "iVcFKkCg1mF1"
   },
   "source": [
    "Next, we will expand contraction words."
   ]
  },
  {
   "cell_type": "code",
   "execution_count": null,
   "metadata": {
    "colab": {
     "base_uri": "https://localhost:8080/"
    },
    "id": "Ivzvl1mhePd9",
    "outputId": "f4d5f403-4faa-49b2-9fcf-4ede2f08fd87"
   },
   "outputs": [
    {
     "name": "stdout",
     "output_type": "stream",
     "text": [
      "Looking in indexes: https://pypi.org/simple, https://us-python.pkg.dev/colab-wheels/public/simple/\n",
      "Collecting contractions\n",
      "  Downloading contractions-0.1.72-py2.py3-none-any.whl (8.3 kB)\n",
      "Collecting textsearch>=0.0.21\n",
      "  Downloading textsearch-0.0.24-py2.py3-none-any.whl (7.6 kB)\n",
      "Collecting pyahocorasick\n",
      "  Downloading pyahocorasick-1.4.4-cp37-cp37m-manylinux_2_17_x86_64.manylinux2014_x86_64.whl (106 kB)\n",
      "\u001b[K     |████████████████████████████████| 106 kB 7.3 MB/s \n",
      "\u001b[?25hCollecting anyascii\n",
      "  Downloading anyascii-0.3.1-py3-none-any.whl (287 kB)\n",
      "\u001b[K     |████████████████████████████████| 287 kB 25.9 MB/s \n",
      "\u001b[?25hInstalling collected packages: pyahocorasick, anyascii, textsearch, contractions\n",
      "Successfully installed anyascii-0.3.1 contractions-0.1.72 pyahocorasick-1.4.4 textsearch-0.0.24\n"
     ]
    }
   ],
   "source": [
    "!pip install contractions"
   ]
  },
  {
   "cell_type": "code",
   "execution_count": null,
   "metadata": {
    "colab": {
     "base_uri": "https://localhost:8080/"
    },
    "id": "rgMq7Mrw9RxQ",
    "outputId": "2b6f2b83-33ab-4448-8948-f49b300d749c"
   },
   "outputs": [
    {
     "name": "stdout",
     "output_type": "stream",
     "text": [
      "I have completed this function\n"
     ]
    }
   ],
   "source": [
    "import contractions\n",
    "def expandContractions(text):\n",
    "  expandedWords = []\n",
    "  for word in text.split():\n",
    "    expandedWords.append(contractions.fix(word))  \n",
    "  return ' '.join(expandedWords)\n",
    "print(expandContractions('I\\'ve completed this function'))"
   ]
  },
  {
   "cell_type": "code",
   "execution_count": null,
   "metadata": {
    "id": "rlGdUeZN1yMK"
   },
   "outputs": [],
   "source": [
    "for i in df.index:\n",
    "  df.at[i, 'review_text'] = expandContractions(df.at[i, 'review_text'])"
   ]
  },
  {
   "cell_type": "markdown",
   "metadata": {
    "id": "Ns0jlXxY13Ks"
   },
   "source": [
    "Then, we do stopwords removal.\n",
    "\n"
   ]
  },
  {
   "cell_type": "code",
   "execution_count": null,
   "metadata": {
    "colab": {
     "base_uri": "https://localhost:8080/"
    },
    "id": "8IwV8UgukCBw",
    "outputId": "be5466cb-e14c-4969-b85e-5283d1620a14"
   },
   "outputs": [
    {
     "name": "stderr",
     "output_type": "stream",
     "text": [
      "[nltk_data] Downloading package stopwords to /root/nltk_data...\n",
      "[nltk_data]   Unzipping corpora/stopwords.zip.\n"
     ]
    },
    {
     "data": {
      "text/plain": [
       "True"
      ]
     },
     "execution_count": 28,
     "metadata": {},
     "output_type": "execute_result"
    }
   ],
   "source": [
    "import nltk\n",
    "nltk.download('stopwords')"
   ]
  },
  {
   "cell_type": "code",
   "execution_count": null,
   "metadata": {
    "id": "yw4WI4_8rtd4"
   },
   "outputs": [],
   "source": [
    "# Stop words removal\n",
    "# Stemming\n",
    "from nltk.corpus import stopwords\n",
    "from nltk.stem import PorterStemmer\n",
    "stemmer = PorterStemmer()\n",
    "stop_words_set = set(stopwords.words('english'))\n",
    "def myAnalyzer(text):\n",
    "  text_words = analyzer(text)\n",
    "  words = []\n",
    "  for word in text_words:\n",
    "    stemmed_word = stemmer.stem(word)\n",
    "    # if stemmed_word not in stop_words_set:\n",
    "    #   words.append(stemmed_word)\n",
    "    words.append(stemmed_word)\n",
    "  return words"
   ]
  },
  {
   "cell_type": "markdown",
   "metadata": {
    "id": "LEy7yXBn2CA7"
   },
   "source": [
    "We will count the total number of words left in each review text. Before counting the words, we need to remove all the special character."
   ]
  },
  {
   "cell_type": "code",
   "execution_count": null,
   "metadata": {
    "id": "uawB26k62KU4"
   },
   "outputs": [],
   "source": [
    "import string\n",
    "\n",
    "def remove_special_character(sentence):\n",
    "  pattern = r\"[^a-zA-Z]\"\n",
    "  sentence = re.sub(pattern, ' ', sentence)\n",
    "  return sentence\n",
    "\n",
    "def word_count(sentence):\n",
    "  num = len(sentence.split())\n",
    "  # num = sum([i.strip(string.punctuation).isalpha() for i in sentence.split()])\n",
    "  return num"
   ]
  },
  {
   "cell_type": "code",
   "execution_count": null,
   "metadata": {
    "colab": {
     "base_uri": "https://localhost:8080/",
     "height": 565
    },
    "id": "RyVwaALrHiTl",
    "outputId": "21bf07aa-c0a0-449c-da37-cdea9ac38acc"
   },
   "outputs": [
    {
     "data": {
      "text/html": [
       "\n",
       "  <div id=\"df-d071f009-bea6-46ba-9336-270f6d1025ac\">\n",
       "    <div class=\"colab-df-container\">\n",
       "      <div>\n",
       "<style scoped>\n",
       "    .dataframe tbody tr th:only-of-type {\n",
       "        vertical-align: middle;\n",
       "    }\n",
       "\n",
       "    .dataframe tbody tr th {\n",
       "        vertical-align: top;\n",
       "    }\n",
       "\n",
       "    .dataframe thead th {\n",
       "        text-align: right;\n",
       "    }\n",
       "</style>\n",
       "<table border=\"1\" class=\"dataframe\">\n",
       "  <thead>\n",
       "    <tr style=\"text-align: right;\">\n",
       "      <th></th>\n",
       "      <th>review_date</th>\n",
       "      <th>movie_id</th>\n",
       "      <th>user_id</th>\n",
       "      <th>is_spoiler</th>\n",
       "      <th>review_text</th>\n",
       "      <th>user_rating</th>\n",
       "      <th>review_summary</th>\n",
       "      <th>plot_summary</th>\n",
       "      <th>duration</th>\n",
       "      <th>genre</th>\n",
       "      <th>movie_rating</th>\n",
       "      <th>release_date</th>\n",
       "      <th>plot_synopsis</th>\n",
       "      <th>contains_word_SPOILER</th>\n",
       "      <th>review_text_word_count</th>\n",
       "    </tr>\n",
       "  </thead>\n",
       "  <tbody>\n",
       "    <tr>\n",
       "      <th>0</th>\n",
       "      <td>7 February 2003</td>\n",
       "      <td>tt0208092</td>\n",
       "      <td>ur1937029</td>\n",
       "      <td>False</td>\n",
       "      <td>While its not as good as LSATSB  it comes clos...</td>\n",
       "      <td>9</td>\n",
       "      <td>Cool movie</td>\n",
       "      <td>Turkish and his close friend/accomplice Tommy ...</td>\n",
       "      <td>1h 42min</td>\n",
       "      <td>[Comedy, Crime]</td>\n",
       "      <td>8.3</td>\n",
       "      <td>2001-01-19</td>\n",
       "      <td>The film opens as we see boxing promoter Turki...</td>\n",
       "      <td>False</td>\n",
       "      <td>116.0</td>\n",
       "    </tr>\n",
       "    <tr>\n",
       "      <th>1</th>\n",
       "      <td>12 November 2013</td>\n",
       "      <td>tt1951264</td>\n",
       "      <td>ur43364424</td>\n",
       "      <td>False</td>\n",
       "      <td>OK so I have been going through these reviews ...</td>\n",
       "      <td>10</td>\n",
       "      <td>This is not about the Hunger Games!</td>\n",
       "      <td>Twelve months after winning the 74th Hunger Ga...</td>\n",
       "      <td>2h 26min</td>\n",
       "      <td>[Action, Adventure, Mystery]</td>\n",
       "      <td>7.5</td>\n",
       "      <td>2013-11-22</td>\n",
       "      <td>Six months after winning the 74th Hunger Games...</td>\n",
       "      <td>False</td>\n",
       "      <td>325.0</td>\n",
       "    </tr>\n",
       "    <tr>\n",
       "      <th>2</th>\n",
       "      <td>8 May 2015</td>\n",
       "      <td>tt2661044</td>\n",
       "      <td>ur51687135</td>\n",
       "      <td>True</td>\n",
       "      <td>If you could get page the fact that only attra...</td>\n",
       "      <td>7</td>\n",
       "      <td>It's a nice show</td>\n",
       "      <td>The series is set 97 years after a devastating...</td>\n",
       "      <td>43min</td>\n",
       "      <td>[Drama, Mystery, Sci-Fi]</td>\n",
       "      <td>7.8</td>\n",
       "      <td>2014-05-03</td>\n",
       "      <td>Story is post nuclear, according to the narrat...</td>\n",
       "      <td>False</td>\n",
       "      <td>310.0</td>\n",
       "    </tr>\n",
       "    <tr>\n",
       "      <th>3</th>\n",
       "      <td>18 February 2000</td>\n",
       "      <td>tt0124315</td>\n",
       "      <td>ur0161567</td>\n",
       "      <td>False</td>\n",
       "      <td>My wife and I who are    something is loved th...</td>\n",
       "      <td>10</td>\n",
       "      <td>From a couple of seniors</td>\n",
       "      <td>Homer is an orphan in remote St. Cloud, Maine....</td>\n",
       "      <td>2h 6min</td>\n",
       "      <td>[Drama, Romance]</td>\n",
       "      <td>7.4</td>\n",
       "      <td>2000-01-07</td>\n",
       "      <td>Homer Wells (Tobey Maguire), an orphan, is the...</td>\n",
       "      <td>False</td>\n",
       "      <td>43.0</td>\n",
       "    </tr>\n",
       "    <tr>\n",
       "      <th>4</th>\n",
       "      <td>25 December 2017</td>\n",
       "      <td>tt0068646</td>\n",
       "      <td>ur81865706</td>\n",
       "      <td>True</td>\n",
       "      <td>I love this movie  The continuation is also ex...</td>\n",
       "      <td>10</td>\n",
       "      <td>Love this</td>\n",
       "      <td>When the aging head of a famous crime family d...</td>\n",
       "      <td>2h 55min</td>\n",
       "      <td>[Crime, Drama]</td>\n",
       "      <td>9.2</td>\n",
       "      <td>1972-03-24</td>\n",
       "      <td>In late summer 1945, guests are gathered for t...</td>\n",
       "      <td>False</td>\n",
       "      <td>39.0</td>\n",
       "    </tr>\n",
       "  </tbody>\n",
       "</table>\n",
       "</div>\n",
       "      <button class=\"colab-df-convert\" onclick=\"convertToInteractive('df-d071f009-bea6-46ba-9336-270f6d1025ac')\"\n",
       "              title=\"Convert this dataframe to an interactive table.\"\n",
       "              style=\"display:none;\">\n",
       "        \n",
       "  <svg xmlns=\"http://www.w3.org/2000/svg\" height=\"24px\"viewBox=\"0 0 24 24\"\n",
       "       width=\"24px\">\n",
       "    <path d=\"M0 0h24v24H0V0z\" fill=\"none\"/>\n",
       "    <path d=\"M18.56 5.44l.94 2.06.94-2.06 2.06-.94-2.06-.94-.94-2.06-.94 2.06-2.06.94zm-11 1L8.5 8.5l.94-2.06 2.06-.94-2.06-.94L8.5 2.5l-.94 2.06-2.06.94zm10 10l.94 2.06.94-2.06 2.06-.94-2.06-.94-.94-2.06-.94 2.06-2.06.94z\"/><path d=\"M17.41 7.96l-1.37-1.37c-.4-.4-.92-.59-1.43-.59-.52 0-1.04.2-1.43.59L10.3 9.45l-7.72 7.72c-.78.78-.78 2.05 0 2.83L4 21.41c.39.39.9.59 1.41.59.51 0 1.02-.2 1.41-.59l7.78-7.78 2.81-2.81c.8-.78.8-2.07 0-2.86zM5.41 20L4 18.59l7.72-7.72 1.47 1.35L5.41 20z\"/>\n",
       "  </svg>\n",
       "      </button>\n",
       "      \n",
       "  <style>\n",
       "    .colab-df-container {\n",
       "      display:flex;\n",
       "      flex-wrap:wrap;\n",
       "      gap: 12px;\n",
       "    }\n",
       "\n",
       "    .colab-df-convert {\n",
       "      background-color: #E8F0FE;\n",
       "      border: none;\n",
       "      border-radius: 50%;\n",
       "      cursor: pointer;\n",
       "      display: none;\n",
       "      fill: #1967D2;\n",
       "      height: 32px;\n",
       "      padding: 0 0 0 0;\n",
       "      width: 32px;\n",
       "    }\n",
       "\n",
       "    .colab-df-convert:hover {\n",
       "      background-color: #E2EBFA;\n",
       "      box-shadow: 0px 1px 2px rgba(60, 64, 67, 0.3), 0px 1px 3px 1px rgba(60, 64, 67, 0.15);\n",
       "      fill: #174EA6;\n",
       "    }\n",
       "\n",
       "    [theme=dark] .colab-df-convert {\n",
       "      background-color: #3B4455;\n",
       "      fill: #D2E3FC;\n",
       "    }\n",
       "\n",
       "    [theme=dark] .colab-df-convert:hover {\n",
       "      background-color: #434B5C;\n",
       "      box-shadow: 0px 1px 3px 1px rgba(0, 0, 0, 0.15);\n",
       "      filter: drop-shadow(0px 1px 2px rgba(0, 0, 0, 0.3));\n",
       "      fill: #FFFFFF;\n",
       "    }\n",
       "  </style>\n",
       "\n",
       "      <script>\n",
       "        const buttonEl =\n",
       "          document.querySelector('#df-d071f009-bea6-46ba-9336-270f6d1025ac button.colab-df-convert');\n",
       "        buttonEl.style.display =\n",
       "          google.colab.kernel.accessAllowed ? 'block' : 'none';\n",
       "\n",
       "        async function convertToInteractive(key) {\n",
       "          const element = document.querySelector('#df-d071f009-bea6-46ba-9336-270f6d1025ac');\n",
       "          const dataTable =\n",
       "            await google.colab.kernel.invokeFunction('convertToInteractive',\n",
       "                                                     [key], {});\n",
       "          if (!dataTable) return;\n",
       "\n",
       "          const docLinkHtml = 'Like what you see? Visit the ' +\n",
       "            '<a target=\"_blank\" href=https://colab.research.google.com/notebooks/data_table.ipynb>data table notebook</a>'\n",
       "            + ' to learn more about interactive tables.';\n",
       "          element.innerHTML = '';\n",
       "          dataTable['output_type'] = 'display_data';\n",
       "          await google.colab.output.renderOutput(dataTable, element);\n",
       "          const docLink = document.createElement('div');\n",
       "          docLink.innerHTML = docLinkHtml;\n",
       "          element.appendChild(docLink);\n",
       "        }\n",
       "      </script>\n",
       "    </div>\n",
       "  </div>\n",
       "  "
      ],
      "text/plain": [
       "        review_date   movie_id     user_id  is_spoiler  \\\n",
       "0   7 February 2003  tt0208092   ur1937029       False   \n",
       "1  12 November 2013  tt1951264  ur43364424       False   \n",
       "2        8 May 2015  tt2661044  ur51687135        True   \n",
       "3  18 February 2000  tt0124315   ur0161567       False   \n",
       "4  25 December 2017  tt0068646  ur81865706        True   \n",
       "\n",
       "                                         review_text  user_rating  \\\n",
       "0  While its not as good as LSATSB  it comes clos...            9   \n",
       "1  OK so I have been going through these reviews ...           10   \n",
       "2  If you could get page the fact that only attra...            7   \n",
       "3  My wife and I who are    something is loved th...           10   \n",
       "4  I love this movie  The continuation is also ex...           10   \n",
       "\n",
       "                        review_summary  \\\n",
       "0                           Cool movie   \n",
       "1  This is not about the Hunger Games!   \n",
       "2                     It's a nice show   \n",
       "3             From a couple of seniors   \n",
       "4                            Love this   \n",
       "\n",
       "                                        plot_summary  duration  \\\n",
       "0  Turkish and his close friend/accomplice Tommy ...  1h 42min   \n",
       "1  Twelve months after winning the 74th Hunger Ga...  2h 26min   \n",
       "2  The series is set 97 years after a devastating...     43min   \n",
       "3  Homer is an orphan in remote St. Cloud, Maine....   2h 6min   \n",
       "4  When the aging head of a famous crime family d...  2h 55min   \n",
       "\n",
       "                          genre  movie_rating release_date  \\\n",
       "0               [Comedy, Crime]           8.3   2001-01-19   \n",
       "1  [Action, Adventure, Mystery]           7.5   2013-11-22   \n",
       "2      [Drama, Mystery, Sci-Fi]           7.8   2014-05-03   \n",
       "3              [Drama, Romance]           7.4   2000-01-07   \n",
       "4                [Crime, Drama]           9.2   1972-03-24   \n",
       "\n",
       "                                       plot_synopsis  contains_word_SPOILER  \\\n",
       "0  The film opens as we see boxing promoter Turki...                  False   \n",
       "1  Six months after winning the 74th Hunger Games...                  False   \n",
       "2  Story is post nuclear, according to the narrat...                  False   \n",
       "3  Homer Wells (Tobey Maguire), an orphan, is the...                  False   \n",
       "4  In late summer 1945, guests are gathered for t...                  False   \n",
       "\n",
       "   review_text_word_count  \n",
       "0                   116.0  \n",
       "1                   325.0  \n",
       "2                   310.0  \n",
       "3                    43.0  \n",
       "4                    39.0  "
      ]
     },
     "execution_count": 126,
     "metadata": {},
     "output_type": "execute_result"
    }
   ],
   "source": [
    "for i in df.index:\n",
    "  df.at[i, 'review_text'] = remove_special_character(df.at[i, 'review_text'])\n",
    "  df.at[i, 'review_text_word_count'] = word_count(df.at[i, 'review_text'])\n",
    "\n",
    "df.head()"
   ]
  },
  {
   "cell_type": "markdown",
   "metadata": {
    "id": "2Z6z9vno8pKB"
   },
   "source": [
    "# Feature extracting"
   ]
  },
  {
   "cell_type": "code",
   "execution_count": null,
   "metadata": {
    "id": "lM9JhSj6ePeB"
   },
   "outputs": [],
   "source": [
    "review_text = df['review_text'].to_list()"
   ]
  },
  {
   "cell_type": "code",
   "execution_count": null,
   "metadata": {
    "id": "oaXcM3eR7P0g"
   },
   "outputs": [],
   "source": [
    "from sklearn.feature_extraction.text import TfidfVectorizer\n",
    "analyzer = TfidfVectorizer().build_analyzer()\n",
    "vectorizer = TfidfVectorizer(analyzer=myAnalyzer, min_df=0.01)\n"
   ]
  },
  {
   "cell_type": "code",
   "execution_count": null,
   "metadata": {
    "id": "rHTKtIjOePeB"
   },
   "outputs": [],
   "source": [
    "# test_vectorizer = TfidfVectorizer(analyzer=myAnalyzer)\n",
    "# test_counts = test_vectorizer.fit_transform(('Here\\'s not an example!!!',\n",
    "#   'There is a man who loves study', \n",
    "#   'I\\'ve been STUDYING',\n",
    "#   'What is this iiii',\n",
    "#   'I\\'ve been tmr learning cooool',\n",
    "#   'What is that tomorrow',\n",
    "#   'It is an apple mans'))\n",
    "# print(test_vectorizer.get_feature_names_out())\n",
    "# print(test_counts.toarray())"
   ]
  },
  {
   "cell_type": "code",
   "execution_count": null,
   "metadata": {
    "id": "JNM5WoeYePeB"
   },
   "outputs": [],
   "source": [
    "review_text_tfidf = vectorizer.fit_transform(review_text)"
   ]
  },
  {
   "cell_type": "markdown",
   "metadata": {
    "id": "O2srWr-ZjhEk"
   },
   "source": [
    "# Models"
   ]
  },
  {
   "cell_type": "code",
   "execution_count": null,
   "metadata": {
    "id": "nKDwb1MBjkcI"
   },
   "outputs": [],
   "source": [
    "import pandas as pd"
   ]
  },
  {
   "cell_type": "code",
   "execution_count": null,
   "metadata": {
    "id": "E_gYSEg7kk8z"
   },
   "outputs": [],
   "source": [
    "review_text_tfidf_df = pd.DataFrame(review_text_tfidf.toarray())\n",
    "review_text_tfidf_df.head()"
   ]
  },
  {
   "cell_type": "code",
   "execution_count": null,
   "metadata": {
    "colab": {
     "base_uri": "https://localhost:8080/"
    },
    "id": "YS2_0t3Lk9Db",
    "outputId": "dbee1301-9628-4649-ffb4-dcc7ec67b07b"
   },
   "outputs": [
    {
     "name": "stdout",
     "output_type": "stream",
     "text": [
      "2964\n",
      "2964\n"
     ]
    }
   ],
   "source": [
    "labels = df['is_spoiler'].to_list()\n",
    "print(len(labels))\n",
    "print(review_text_tfidf_df.shape[0])"
   ]
  },
  {
   "cell_type": "code",
   "execution_count": null,
   "metadata": {
    "colab": {
     "base_uri": "https://localhost:8080/"
    },
    "id": "hxOti3cKePeD",
    "outputId": "bc45619e-927d-4cfa-bb96-f5e00aced964"
   },
   "outputs": [
    {
     "name": "stdout",
     "output_type": "stream",
     "text": [
      "<class 'pandas.core.frame.DataFrame'>\n",
      "RangeIndex: 2964 entries, 0 to 2963\n",
      "Columns: 12512 entries, 0 to 12511\n",
      "dtypes: float64(12512)\n",
      "memory usage: 282.9 MB\n"
     ]
    }
   ],
   "source": [
    "review_text_tfidf_df.info()"
   ]
  },
  {
   "cell_type": "markdown",
   "metadata": {
    "id": "4R3VC_rghS1W"
   },
   "source": [
    "## SVM"
   ]
  },
  {
   "cell_type": "code",
   "execution_count": null,
   "metadata": {
    "id": "sUOZBpDHnP29"
   },
   "outputs": [],
   "source": [
    "from sklearn.model_selection import train_test_split\n",
    "x_train, x_test, y_train, y_test = train_test_split(review_text_tfidf_df, labels, train_size = 0.8)"
   ]
  },
  {
   "cell_type": "code",
   "execution_count": null,
   "metadata": {
    "colab": {
     "base_uri": "https://localhost:8080/"
    },
    "id": "dfUu8gMZhScf",
    "outputId": "3f90b042-30ab-449f-c9ef-5921b43707f8"
   },
   "outputs": [
    {
     "data": {
      "text/plain": [
       "SVC()"
      ]
     },
     "execution_count": 105,
     "metadata": {},
     "output_type": "execute_result"
    }
   ],
   "source": [
    "import numpy as np\n",
    "from sklearn.svm import SVC\n",
    "svc_clf = SVC()\n",
    "svc_clf.fit(x_train, y_train)"
   ]
  },
  {
   "cell_type": "code",
   "execution_count": null,
   "metadata": {
    "colab": {
     "base_uri": "https://localhost:8080/"
    },
    "id": "4sW5MQYdyqFg",
    "outputId": "f76efd8e-2730-46c8-ecbe-44c3c80643a8"
   },
   "outputs": [
    {
     "data": {
      "text/plain": [
       "0.6526138279932546"
      ]
     },
     "execution_count": 106,
     "metadata": {},
     "output_type": "execute_result"
    }
   ],
   "source": [
    "svc_clf.score(x_test, y_test)"
   ]
  },
  {
   "cell_type": "markdown",
   "metadata": {
    "id": "vIuUC1H8vtHp"
   },
   "source": [
    "🤣"
   ]
  }
 ],
 "metadata": {
  "colab": {
   "collapsed_sections": [],
   "provenance": []
  },
  "kernelspec": {
   "display_name": "Python 3 (ipykernel)",
   "language": "python",
   "name": "python3"
  },
  "language_info": {
   "codemirror_mode": {
    "name": "ipython",
    "version": 3
   },
   "file_extension": ".py",
   "mimetype": "text/x-python",
   "name": "python",
   "nbconvert_exporter": "python",
   "pygments_lexer": "ipython3",
   "version": "3.10.4"
  },
  "vscode": {
   "interpreter": {
    "hash": "6b712581859dbae910b64d5825ac80b682c26101bc3cac39b80109db51785933"
   }
  }
 },
 "nbformat": 4,
 "nbformat_minor": 1
}
