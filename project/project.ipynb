{
 "cells": [
  {
   "cell_type": "markdown",
   "metadata": {
    "id": "F2NvJ7ECw4xh"
   },
   "source": [
    "ideas: \n",
    "* https://ijarsct.co.in/Paper4350.pdf\n",
    "\n",
    "* https://sahilvaidya99.medium.com/spoiler-detection-in-movie-reviews-51312d6146ef\n",
    "* https://www.sas.com/content/dam/SAS/support/en/sas-global-forum-proceedings/2020/5012-2020.pdf (86% accuracy)"
   ]
  },
  {
   "cell_type": "markdown",
   "metadata": {
    "id": "CGmEhi2vtQCu"
   },
   "source": [
    "# Data preparing"
   ]
  },
  {
   "cell_type": "code",
   "execution_count": null,
   "metadata": {
    "colab": {
     "base_uri": "https://localhost:8080/"
    },
    "id": "mKmC4fwEfMzT",
    "outputId": "ce0367f4-6249-4119-a9f9-8854eb9ce97d"
   },
   "outputs": [
    {
     "name": "stdout",
     "output_type": "stream",
     "text": [
      "Drive already mounted at /content/drive; to attempt to forcibly remount, call drive.mount(\"/content/drive\", force_remount=True).\n"
     ]
    }
   ],
   "source": [
    "# https://www.kaggle.com/datasets/rmisra/imdb-spoiler-dataset\n",
    "\n",
    "import json\n",
    "import pandas as pd\n",
    "from google.colab import drive\n",
    "\n",
    "drive.mount('/content/drive')\n",
    "\n",
    "df_movie_details = pd.read_json('/content/drive/My Drive/CS3244 project/IMDB_movie_details.json', lines = True)\n",
    "df_reviews = pd.read_json('/content/drive/My Drive/CS3244 project/IMDB_reviews.json', lines = True)"
   ]
  },
  {
   "cell_type": "code",
   "execution_count": 1,
   "metadata": {},
   "outputs": [
    {
     "ename": "NameError",
     "evalue": "name 'pd' is not defined",
     "output_type": "error",
     "traceback": [
      "\u001b[0;31m---------------------------------------------------------------------------\u001b[0m",
      "\u001b[0;31mNameError\u001b[0m                                 Traceback (most recent call last)",
      "Input \u001b[0;32mIn [1]\u001b[0m, in \u001b[0;36m<cell line: 2>\u001b[0;34m()\u001b[0m\n\u001b[1;32m      1\u001b[0m \u001b[38;5;66;03m# Permanently changes the pandas settings\u001b[39;00m\n\u001b[0;32m----> 2\u001b[0m \u001b[43mpd\u001b[49m\u001b[38;5;241m.\u001b[39mset_option(\u001b[38;5;124m'\u001b[39m\u001b[38;5;124mdisplay.max_rows\u001b[39m\u001b[38;5;124m'\u001b[39m, \u001b[38;5;28;01mNone\u001b[39;00m)\n\u001b[1;32m      3\u001b[0m pd\u001b[38;5;241m.\u001b[39mset_option(\u001b[38;5;124m'\u001b[39m\u001b[38;5;124mdisplay.max_columns\u001b[39m\u001b[38;5;124m'\u001b[39m, \u001b[38;5;28;01mNone\u001b[39;00m)\n\u001b[1;32m      4\u001b[0m pd\u001b[38;5;241m.\u001b[39mset_option(\u001b[38;5;124m'\u001b[39m\u001b[38;5;124mdisplay.width\u001b[39m\u001b[38;5;124m'\u001b[39m, \u001b[38;5;28;01mNone\u001b[39;00m)\n",
      "\u001b[0;31mNameError\u001b[0m: name 'pd' is not defined"
     ]
    }
   ],
   "source": []
  },
  {
   "cell_type": "code",
   "execution_count": 2,
   "metadata": {
    "id": "K9EfXRZ3ePdv"
   },
   "outputs": [
    {
     "name": "stdout",
     "output_type": "stream",
     "text": [
      "/media/randell-crapy/0E9103460E910346/NUS/CS3244/project\n"
     ]
    }
   ],
   "source": [
    "# If using jupyter notebook\n",
    "import json\n",
    "import pandas as pd\n",
    "import os\n",
    "\n",
    "print(os.getcwd())\n",
    "\n",
    "df_movie_details = pd.read_json('../datasets/IMDB_movie_details.json', lines = True)\n",
    "df_reviews = pd.read_json('../datasets/IMDB_reviews.json', lines = True)"
   ]
  },
  {
   "cell_type": "code",
   "execution_count": null,
   "metadata": {},
   "outputs": [],
   "source": [
    "# Permanently changes the pandas settings\n",
    "pd.set_option('display.max_rows', None)\n",
    "pd.set_option('display.max_columns', None)\n",
    "pd.set_option('display.width', None)\n",
    "pd.set_option('display.max_colwidth', -1)"
   ]
  },
  {
   "cell_type": "code",
   "execution_count": 61,
   "metadata": {
    "id": "DWIHWT05YZ07"
   },
   "outputs": [
    {
     "name": "stdout",
     "output_type": "stream",
     "text": [
      "User reviews shape:  (573913, 7)\n",
      "<class 'pandas.core.frame.DataFrame'>\n",
      "RangeIndex: 573913 entries, 0 to 573912\n",
      "Data columns (total 7 columns):\n",
      " #   Column          Non-Null Count   Dtype \n",
      "---  ------          --------------   ----- \n",
      " 0   review_date     573913 non-null  object\n",
      " 1   movie_id        573913 non-null  object\n",
      " 2   user_id         573913 non-null  object\n",
      " 3   is_spoiler      573913 non-null  bool  \n",
      " 4   review_text     573913 non-null  object\n",
      " 5   rating          573913 non-null  int64 \n",
      " 6   review_summary  573913 non-null  object\n",
      "dtypes: bool(1), int64(1), object(5)\n",
      "memory usage: 26.8+ MB\n",
      "None\n"
     ]
    },
    {
     "data": {
      "text/html": [
       "<div>\n",
       "<style scoped>\n",
       "    .dataframe tbody tr th:only-of-type {\n",
       "        vertical-align: middle;\n",
       "    }\n",
       "\n",
       "    .dataframe tbody tr th {\n",
       "        vertical-align: top;\n",
       "    }\n",
       "\n",
       "    .dataframe thead th {\n",
       "        text-align: right;\n",
       "    }\n",
       "</style>\n",
       "<table border=\"1\" class=\"dataframe\">\n",
       "  <thead>\n",
       "    <tr style=\"text-align: right;\">\n",
       "      <th></th>\n",
       "      <th>review_date</th>\n",
       "      <th>movie_id</th>\n",
       "      <th>user_id</th>\n",
       "      <th>is_spoiler</th>\n",
       "      <th>review_text</th>\n",
       "      <th>rating</th>\n",
       "      <th>review_summary</th>\n",
       "    </tr>\n",
       "  </thead>\n",
       "  <tbody>\n",
       "    <tr>\n",
       "      <th>0</th>\n",
       "      <td>10 February 2006</td>\n",
       "      <td>tt0111161</td>\n",
       "      <td>ur1898687</td>\n",
       "      <td>True</td>\n",
       "      <td>In its Oscar year, Shawshank Redemption (writt...</td>\n",
       "      <td>10</td>\n",
       "      <td>A classic piece of unforgettable film-making.</td>\n",
       "    </tr>\n",
       "    <tr>\n",
       "      <th>1</th>\n",
       "      <td>6 September 2000</td>\n",
       "      <td>tt0111161</td>\n",
       "      <td>ur0842118</td>\n",
       "      <td>True</td>\n",
       "      <td>The Shawshank Redemption is without a doubt on...</td>\n",
       "      <td>10</td>\n",
       "      <td>Simply amazing. The best film of the 90's.</td>\n",
       "    </tr>\n",
       "    <tr>\n",
       "      <th>2</th>\n",
       "      <td>3 August 2001</td>\n",
       "      <td>tt0111161</td>\n",
       "      <td>ur1285640</td>\n",
       "      <td>True</td>\n",
       "      <td>I believe that this film is the best story eve...</td>\n",
       "      <td>8</td>\n",
       "      <td>The best story ever told on film</td>\n",
       "    </tr>\n",
       "    <tr>\n",
       "      <th>3</th>\n",
       "      <td>1 September 2002</td>\n",
       "      <td>tt0111161</td>\n",
       "      <td>ur1003471</td>\n",
       "      <td>True</td>\n",
       "      <td>**Yes, there are SPOILERS here**This film has ...</td>\n",
       "      <td>10</td>\n",
       "      <td>Busy dying or busy living?</td>\n",
       "    </tr>\n",
       "    <tr>\n",
       "      <th>4</th>\n",
       "      <td>20 May 2004</td>\n",
       "      <td>tt0111161</td>\n",
       "      <td>ur0226855</td>\n",
       "      <td>True</td>\n",
       "      <td>At the heart of this extraordinary movie is a ...</td>\n",
       "      <td>8</td>\n",
       "      <td>Great story, wondrously told and acted</td>\n",
       "    </tr>\n",
       "    <tr>\n",
       "      <th>5</th>\n",
       "      <td>12 August 2004</td>\n",
       "      <td>tt0111161</td>\n",
       "      <td>ur1532177</td>\n",
       "      <td>True</td>\n",
       "      <td>In recent years the IMDB top 250 movies has ha...</td>\n",
       "      <td>8</td>\n",
       "      <td>Good , But It Is Overrated By Some</td>\n",
       "    </tr>\n",
       "    <tr>\n",
       "      <th>6</th>\n",
       "      <td>9 October 2005</td>\n",
       "      <td>tt0111161</td>\n",
       "      <td>ur6574726</td>\n",
       "      <td>True</td>\n",
       "      <td>I have been a fan of this movie for a long tim...</td>\n",
       "      <td>9</td>\n",
       "      <td>This Movie Saved My Life.</td>\n",
       "    </tr>\n",
       "    <tr>\n",
       "      <th>7</th>\n",
       "      <td>4 February 2012</td>\n",
       "      <td>tt0111161</td>\n",
       "      <td>ur31182745</td>\n",
       "      <td>True</td>\n",
       "      <td>I made my account on IMDb Just to Rate this mo...</td>\n",
       "      <td>10</td>\n",
       "      <td>Movie you can see 1000 times</td>\n",
       "    </tr>\n",
       "    <tr>\n",
       "      <th>8</th>\n",
       "      <td>24 October 2008</td>\n",
       "      <td>tt0111161</td>\n",
       "      <td>ur9871443</td>\n",
       "      <td>True</td>\n",
       "      <td>A friend of mine listed \"The Shawshank Redempt...</td>\n",
       "      <td>10</td>\n",
       "      <td>The Shawshank Redemption</td>\n",
       "    </tr>\n",
       "    <tr>\n",
       "      <th>9</th>\n",
       "      <td>30 July 2011</td>\n",
       "      <td>tt0111161</td>\n",
       "      <td>ur2707735</td>\n",
       "      <td>True</td>\n",
       "      <td>Well I guess I'm a little late to the party as...</td>\n",
       "      <td>10</td>\n",
       "      <td>\"I'm a convicted murderer who provides sound f...</td>\n",
       "    </tr>\n",
       "  </tbody>\n",
       "</table>\n",
       "</div>"
      ],
      "text/plain": [
       "        review_date   movie_id     user_id  is_spoiler  \\\n",
       "0  10 February 2006  tt0111161   ur1898687        True   \n",
       "1  6 September 2000  tt0111161   ur0842118        True   \n",
       "2     3 August 2001  tt0111161   ur1285640        True   \n",
       "3  1 September 2002  tt0111161   ur1003471        True   \n",
       "4       20 May 2004  tt0111161   ur0226855        True   \n",
       "5    12 August 2004  tt0111161   ur1532177        True   \n",
       "6    9 October 2005  tt0111161   ur6574726        True   \n",
       "7   4 February 2012  tt0111161  ur31182745        True   \n",
       "8   24 October 2008  tt0111161   ur9871443        True   \n",
       "9      30 July 2011  tt0111161   ur2707735        True   \n",
       "\n",
       "                                         review_text  rating  \\\n",
       "0  In its Oscar year, Shawshank Redemption (writt...      10   \n",
       "1  The Shawshank Redemption is without a doubt on...      10   \n",
       "2  I believe that this film is the best story eve...       8   \n",
       "3  **Yes, there are SPOILERS here**This film has ...      10   \n",
       "4  At the heart of this extraordinary movie is a ...       8   \n",
       "5  In recent years the IMDB top 250 movies has ha...       8   \n",
       "6  I have been a fan of this movie for a long tim...       9   \n",
       "7  I made my account on IMDb Just to Rate this mo...      10   \n",
       "8  A friend of mine listed \"The Shawshank Redempt...      10   \n",
       "9  Well I guess I'm a little late to the party as...      10   \n",
       "\n",
       "                                      review_summary  \n",
       "0      A classic piece of unforgettable film-making.  \n",
       "1         Simply amazing. The best film of the 90's.  \n",
       "2                   The best story ever told on film  \n",
       "3                         Busy dying or busy living?  \n",
       "4             Great story, wondrously told and acted  \n",
       "5                 Good , But It Is Overrated By Some  \n",
       "6                          This Movie Saved My Life.  \n",
       "7                       Movie you can see 1000 times  \n",
       "8                           The Shawshank Redemption  \n",
       "9  \"I'm a convicted murderer who provides sound f...  "
      ]
     },
     "execution_count": 61,
     "metadata": {},
     "output_type": "execute_result"
    }
   ],
   "source": [
    "print('User reviews shape: ', df_reviews.shape)\n",
    "print(df_reviews.info())\n",
    "df_reviews.head(10)"
   ]
  },
  {
   "cell_type": "markdown",
   "metadata": {
    "id": "KSLWU9WEa8zT"
   },
   "source": [
    "We have a total of 573,913 user reviews. <br>\n",
    "Each review comes with a label True or False depending on the spoiler content in the review."
   ]
  },
  {
   "cell_type": "code",
   "execution_count": 6,
   "metadata": {
    "id": "N8NyGIvWZE9C"
   },
   "outputs": [
    {
     "name": "stdout",
     "output_type": "stream",
     "text": [
      "Movie details shape:  (1572, 7)\n",
      "<class 'pandas.core.frame.DataFrame'>\n",
      "RangeIndex: 1572 entries, 0 to 1571\n",
      "Data columns (total 7 columns):\n",
      " #   Column         Non-Null Count  Dtype  \n",
      "---  ------         --------------  -----  \n",
      " 0   movie_id       1572 non-null   object \n",
      " 1   plot_summary   1572 non-null   object \n",
      " 2   duration       1572 non-null   object \n",
      " 3   genre          1572 non-null   object \n",
      " 4   rating         1572 non-null   float64\n",
      " 5   release_date   1572 non-null   object \n",
      " 6   plot_synopsis  1572 non-null   object \n",
      "dtypes: float64(1), object(6)\n",
      "memory usage: 86.1+ KB\n",
      "None\n"
     ]
    },
    {
     "data": {
      "text/html": [
       "<div>\n",
       "<style scoped>\n",
       "    .dataframe tbody tr th:only-of-type {\n",
       "        vertical-align: middle;\n",
       "    }\n",
       "\n",
       "    .dataframe tbody tr th {\n",
       "        vertical-align: top;\n",
       "    }\n",
       "\n",
       "    .dataframe thead th {\n",
       "        text-align: right;\n",
       "    }\n",
       "</style>\n",
       "<table border=\"1\" class=\"dataframe\">\n",
       "  <thead>\n",
       "    <tr style=\"text-align: right;\">\n",
       "      <th></th>\n",
       "      <th>movie_id</th>\n",
       "      <th>plot_summary</th>\n",
       "      <th>duration</th>\n",
       "      <th>genre</th>\n",
       "      <th>rating</th>\n",
       "      <th>release_date</th>\n",
       "      <th>plot_synopsis</th>\n",
       "    </tr>\n",
       "  </thead>\n",
       "  <tbody>\n",
       "    <tr>\n",
       "      <th>0</th>\n",
       "      <td>tt0105112</td>\n",
       "      <td>Former CIA analyst, Jack Ryan is in England wi...</td>\n",
       "      <td>1h 57min</td>\n",
       "      <td>[Action, Thriller]</td>\n",
       "      <td>6.9</td>\n",
       "      <td>1992-06-05</td>\n",
       "      <td>Jack Ryan (Ford) is on a \"working vacation\" in...</td>\n",
       "    </tr>\n",
       "    <tr>\n",
       "      <th>1</th>\n",
       "      <td>tt1204975</td>\n",
       "      <td>Billy (Michael Douglas), Paddy (Robert De Niro...</td>\n",
       "      <td>1h 45min</td>\n",
       "      <td>[Comedy]</td>\n",
       "      <td>6.6</td>\n",
       "      <td>2013-11-01</td>\n",
       "      <td>Four boys around the age of 10 are friends in ...</td>\n",
       "    </tr>\n",
       "    <tr>\n",
       "      <th>2</th>\n",
       "      <td>tt0243655</td>\n",
       "      <td>The setting is Camp Firewood, the year 1981. I...</td>\n",
       "      <td>1h 37min</td>\n",
       "      <td>[Comedy, Romance]</td>\n",
       "      <td>6.7</td>\n",
       "      <td>2002-04-11</td>\n",
       "      <td></td>\n",
       "    </tr>\n",
       "    <tr>\n",
       "      <th>3</th>\n",
       "      <td>tt0040897</td>\n",
       "      <td>Fred C. Dobbs and Bob Curtin, both down on the...</td>\n",
       "      <td>2h 6min</td>\n",
       "      <td>[Adventure, Drama, Western]</td>\n",
       "      <td>8.3</td>\n",
       "      <td>1948-01-24</td>\n",
       "      <td>Fred Dobbs (Humphrey Bogart) and Bob Curtin (T...</td>\n",
       "    </tr>\n",
       "    <tr>\n",
       "      <th>4</th>\n",
       "      <td>tt0126886</td>\n",
       "      <td>Tracy Flick is running unopposed for this year...</td>\n",
       "      <td>1h 43min</td>\n",
       "      <td>[Comedy, Drama, Romance]</td>\n",
       "      <td>7.3</td>\n",
       "      <td>1999-05-07</td>\n",
       "      <td>Jim McAllister (Matthew Broderick) is a much-a...</td>\n",
       "    </tr>\n",
       "    <tr>\n",
       "      <th>5</th>\n",
       "      <td>tt0286716</td>\n",
       "      <td>Bruce Banner, a brilliant scientist with a clo...</td>\n",
       "      <td>2h 18min</td>\n",
       "      <td>[Action, Sci-Fi]</td>\n",
       "      <td>5.7</td>\n",
       "      <td>2003-06-20</td>\n",
       "      <td>Bruce Banner (Eric Bana) is a research scienti...</td>\n",
       "    </tr>\n",
       "    <tr>\n",
       "      <th>6</th>\n",
       "      <td>tt0090605</td>\n",
       "      <td>57 years after Ellen Ripley had a close encoun...</td>\n",
       "      <td>2h 17min</td>\n",
       "      <td>[Action, Adventure, Sci-Fi]</td>\n",
       "      <td>8.4</td>\n",
       "      <td>1986-07-18</td>\n",
       "      <td>After the opening credits, we see a spacecraft...</td>\n",
       "    </tr>\n",
       "    <tr>\n",
       "      <th>7</th>\n",
       "      <td>tt0243155</td>\n",
       "      <td>Bridget Jones is an average woman struggling a...</td>\n",
       "      <td>1h 37min</td>\n",
       "      <td>[Comedy, Drama, Romance]</td>\n",
       "      <td>6.7</td>\n",
       "      <td>2001-04-13</td>\n",
       "      <td>Bridget Jones (adorably played by Renee Zellwe...</td>\n",
       "    </tr>\n",
       "    <tr>\n",
       "      <th>8</th>\n",
       "      <td>tt0121765</td>\n",
       "      <td>Ten years after the invasion of Naboo, the Gal...</td>\n",
       "      <td>2h 22min</td>\n",
       "      <td>[Action, Adventure, Fantasy]</td>\n",
       "      <td>6.6</td>\n",
       "      <td>2002-05-16</td>\n",
       "      <td>The opening crawl reveals that the Galactic Re...</td>\n",
       "    </tr>\n",
       "    <tr>\n",
       "      <th>9</th>\n",
       "      <td>tt0443453</td>\n",
       "      <td>Borat Sagdiyev is a TV reporter of a popular s...</td>\n",
       "      <td>1h 24min</td>\n",
       "      <td>[Comedy]</td>\n",
       "      <td>7.3</td>\n",
       "      <td>2006-11-03</td>\n",
       "      <td>Borat Sagdiyev is a TV reporter of a popular s...</td>\n",
       "    </tr>\n",
       "  </tbody>\n",
       "</table>\n",
       "</div>"
      ],
      "text/plain": [
       "    movie_id                                       plot_summary  duration  \\\n",
       "0  tt0105112  Former CIA analyst, Jack Ryan is in England wi...  1h 57min   \n",
       "1  tt1204975  Billy (Michael Douglas), Paddy (Robert De Niro...  1h 45min   \n",
       "2  tt0243655  The setting is Camp Firewood, the year 1981. I...  1h 37min   \n",
       "3  tt0040897  Fred C. Dobbs and Bob Curtin, both down on the...   2h 6min   \n",
       "4  tt0126886  Tracy Flick is running unopposed for this year...  1h 43min   \n",
       "5  tt0286716  Bruce Banner, a brilliant scientist with a clo...  2h 18min   \n",
       "6  tt0090605  57 years after Ellen Ripley had a close encoun...  2h 17min   \n",
       "7  tt0243155  Bridget Jones is an average woman struggling a...  1h 37min   \n",
       "8  tt0121765  Ten years after the invasion of Naboo, the Gal...  2h 22min   \n",
       "9  tt0443453  Borat Sagdiyev is a TV reporter of a popular s...  1h 24min   \n",
       "\n",
       "                          genre  rating release_date  \\\n",
       "0            [Action, Thriller]     6.9   1992-06-05   \n",
       "1                      [Comedy]     6.6   2013-11-01   \n",
       "2             [Comedy, Romance]     6.7   2002-04-11   \n",
       "3   [Adventure, Drama, Western]     8.3   1948-01-24   \n",
       "4      [Comedy, Drama, Romance]     7.3   1999-05-07   \n",
       "5              [Action, Sci-Fi]     5.7   2003-06-20   \n",
       "6   [Action, Adventure, Sci-Fi]     8.4   1986-07-18   \n",
       "7      [Comedy, Drama, Romance]     6.7   2001-04-13   \n",
       "8  [Action, Adventure, Fantasy]     6.6   2002-05-16   \n",
       "9                      [Comedy]     7.3   2006-11-03   \n",
       "\n",
       "                                       plot_synopsis  \n",
       "0  Jack Ryan (Ford) is on a \"working vacation\" in...  \n",
       "1  Four boys around the age of 10 are friends in ...  \n",
       "2                                                     \n",
       "3  Fred Dobbs (Humphrey Bogart) and Bob Curtin (T...  \n",
       "4  Jim McAllister (Matthew Broderick) is a much-a...  \n",
       "5  Bruce Banner (Eric Bana) is a research scienti...  \n",
       "6  After the opening credits, we see a spacecraft...  \n",
       "7  Bridget Jones (adorably played by Renee Zellwe...  \n",
       "8  The opening crawl reveals that the Galactic Re...  \n",
       "9  Borat Sagdiyev is a TV reporter of a popular s...  "
      ]
     },
     "execution_count": 6,
     "metadata": {},
     "output_type": "execute_result"
    }
   ],
   "source": [
    "print('Movie details shape: ', df_movie_details.shape)\n",
    "print(df_movie_details.info())\n",
    "df_movie_details.head(10)"
   ]
  },
  {
   "cell_type": "markdown",
   "metadata": {
    "id": "1NO4i6LTbFgS"
   },
   "source": [
    "We have a total of 1572 movies."
   ]
  },
  {
   "cell_type": "markdown",
   "metadata": {
    "id": "5h2GVlMZvrMv"
   },
   "source": [
    "## Datasets merging"
   ]
  },
  {
   "cell_type": "code",
   "execution_count": 3,
   "metadata": {
    "colab": {
     "base_uri": "https://localhost:8080/"
    },
    "id": "mB1jd_xgf3KU",
    "outputId": "135399a1-cc8a-4ad1-f6f2-d44a265f02a7"
   },
   "outputs": [
    {
     "data": {
      "text/plain": [
       "0       tt0105112\n",
       "1       tt1204975\n",
       "2       tt0243655\n",
       "3       tt0040897\n",
       "4       tt0126886\n",
       "          ...    \n",
       "1567    tt0289879\n",
       "1568    tt1723811\n",
       "1569    tt5013056\n",
       "1570    tt0104014\n",
       "1571    tt0114142\n",
       "Name: movie_id, Length: 1572, dtype: object"
      ]
     },
     "execution_count": 3,
     "metadata": {},
     "output_type": "execute_result"
    }
   ],
   "source": [
    "# remove '/' in the movie_id \n",
    "\n",
    "df_movie_details['movie_id'] = df_movie_details['movie_id'].str.replace('/', '')\n",
    "df_movie_details['movie_id']"
   ]
  },
  {
   "cell_type": "markdown",
   "metadata": {
    "id": "Q4KIpHgR35VD"
   },
   "source": [
    "We merge the two datasets."
   ]
  },
  {
   "cell_type": "code",
   "execution_count": 4,
   "metadata": {
    "colab": {
     "base_uri": "https://localhost:8080/"
    },
    "id": "lLtrHDHUW2mg",
    "outputId": "48037217-8fb0-4cba-b2fe-f3d4cc95fdc1"
   },
   "outputs": [
    {
     "name": "stdout",
     "output_type": "stream",
     "text": [
      "<class 'pandas.core.frame.DataFrame'>\n",
      "Int64Index: 573913 entries, 0 to 573912\n",
      "Data columns (total 13 columns):\n",
      " #   Column          Non-Null Count   Dtype  \n",
      "---  ------          --------------   -----  \n",
      " 0   review_date     573913 non-null  object \n",
      " 1   movie_id        573913 non-null  object \n",
      " 2   user_id         573913 non-null  object \n",
      " 3   is_spoiler      573913 non-null  bool   \n",
      " 4   review_text     573913 non-null  object \n",
      " 5   rating_x        573913 non-null  int64  \n",
      " 6   review_summary  573913 non-null  object \n",
      " 7   plot_summary    573913 non-null  object \n",
      " 8   duration        573913 non-null  object \n",
      " 9   genre           573913 non-null  object \n",
      " 10  rating_y        573913 non-null  float64\n",
      " 11  release_date    573913 non-null  object \n",
      " 12  plot_synopsis   573913 non-null  object \n",
      "dtypes: bool(1), float64(1), int64(1), object(10)\n",
      "memory usage: 57.5+ MB\n"
     ]
    }
   ],
   "source": [
    "df = pd.merge(df_reviews, df_movie_details, on = 'movie_id')\n",
    "df.info()"
   ]
  },
  {
   "cell_type": "markdown",
   "metadata": {
    "id": "BCGFdIyB4Xy2"
   },
   "source": [
    "Change the column names. <br>\n",
    "rating_x -> user_rating <br>\n",
    "rating_y -> movie_rating <br>"
   ]
  },
  {
   "cell_type": "code",
   "execution_count": 5,
   "metadata": {
    "colab": {
     "base_uri": "https://localhost:8080/",
     "height": 565
    },
    "id": "--tP4gy84nXE",
    "outputId": "1f00904e-6bb3-4fb7-faa9-763b8027d729"
   },
   "outputs": [
    {
     "data": {
      "text/html": [
       "<div>\n",
       "<style scoped>\n",
       "    .dataframe tbody tr th:only-of-type {\n",
       "        vertical-align: middle;\n",
       "    }\n",
       "\n",
       "    .dataframe tbody tr th {\n",
       "        vertical-align: top;\n",
       "    }\n",
       "\n",
       "    .dataframe thead th {\n",
       "        text-align: right;\n",
       "    }\n",
       "</style>\n",
       "<table border=\"1\" class=\"dataframe\">\n",
       "  <thead>\n",
       "    <tr style=\"text-align: right;\">\n",
       "      <th></th>\n",
       "      <th>review_date</th>\n",
       "      <th>movie_id</th>\n",
       "      <th>user_id</th>\n",
       "      <th>is_spoiler</th>\n",
       "      <th>review_text</th>\n",
       "      <th>user_rating</th>\n",
       "      <th>review_summary</th>\n",
       "      <th>plot_summary</th>\n",
       "      <th>duration</th>\n",
       "      <th>genre</th>\n",
       "      <th>movie_rating</th>\n",
       "      <th>release_date</th>\n",
       "      <th>plot_synopsis</th>\n",
       "    </tr>\n",
       "  </thead>\n",
       "  <tbody>\n",
       "    <tr>\n",
       "      <th>0</th>\n",
       "      <td>10 February 2006</td>\n",
       "      <td>tt0111161</td>\n",
       "      <td>ur1898687</td>\n",
       "      <td>True</td>\n",
       "      <td>In its Oscar year, Shawshank Redemption (writt...</td>\n",
       "      <td>10</td>\n",
       "      <td>A classic piece of unforgettable film-making.</td>\n",
       "      <td>Chronicles the experiences of a formerly succe...</td>\n",
       "      <td>2h 22min</td>\n",
       "      <td>[Crime, Drama]</td>\n",
       "      <td>9.3</td>\n",
       "      <td>1994-10-14</td>\n",
       "      <td>In 1947, Andy Dufresne (Tim Robbins), a banker...</td>\n",
       "    </tr>\n",
       "    <tr>\n",
       "      <th>1</th>\n",
       "      <td>6 September 2000</td>\n",
       "      <td>tt0111161</td>\n",
       "      <td>ur0842118</td>\n",
       "      <td>True</td>\n",
       "      <td>The Shawshank Redemption is without a doubt on...</td>\n",
       "      <td>10</td>\n",
       "      <td>Simply amazing. The best film of the 90's.</td>\n",
       "      <td>Chronicles the experiences of a formerly succe...</td>\n",
       "      <td>2h 22min</td>\n",
       "      <td>[Crime, Drama]</td>\n",
       "      <td>9.3</td>\n",
       "      <td>1994-10-14</td>\n",
       "      <td>In 1947, Andy Dufresne (Tim Robbins), a banker...</td>\n",
       "    </tr>\n",
       "    <tr>\n",
       "      <th>2</th>\n",
       "      <td>3 August 2001</td>\n",
       "      <td>tt0111161</td>\n",
       "      <td>ur1285640</td>\n",
       "      <td>True</td>\n",
       "      <td>I believe that this film is the best story eve...</td>\n",
       "      <td>8</td>\n",
       "      <td>The best story ever told on film</td>\n",
       "      <td>Chronicles the experiences of a formerly succe...</td>\n",
       "      <td>2h 22min</td>\n",
       "      <td>[Crime, Drama]</td>\n",
       "      <td>9.3</td>\n",
       "      <td>1994-10-14</td>\n",
       "      <td>In 1947, Andy Dufresne (Tim Robbins), a banker...</td>\n",
       "    </tr>\n",
       "    <tr>\n",
       "      <th>3</th>\n",
       "      <td>1 September 2002</td>\n",
       "      <td>tt0111161</td>\n",
       "      <td>ur1003471</td>\n",
       "      <td>True</td>\n",
       "      <td>**Yes, there are SPOILERS here**This film has ...</td>\n",
       "      <td>10</td>\n",
       "      <td>Busy dying or busy living?</td>\n",
       "      <td>Chronicles the experiences of a formerly succe...</td>\n",
       "      <td>2h 22min</td>\n",
       "      <td>[Crime, Drama]</td>\n",
       "      <td>9.3</td>\n",
       "      <td>1994-10-14</td>\n",
       "      <td>In 1947, Andy Dufresne (Tim Robbins), a banker...</td>\n",
       "    </tr>\n",
       "    <tr>\n",
       "      <th>4</th>\n",
       "      <td>20 May 2004</td>\n",
       "      <td>tt0111161</td>\n",
       "      <td>ur0226855</td>\n",
       "      <td>True</td>\n",
       "      <td>At the heart of this extraordinary movie is a ...</td>\n",
       "      <td>8</td>\n",
       "      <td>Great story, wondrously told and acted</td>\n",
       "      <td>Chronicles the experiences of a formerly succe...</td>\n",
       "      <td>2h 22min</td>\n",
       "      <td>[Crime, Drama]</td>\n",
       "      <td>9.3</td>\n",
       "      <td>1994-10-14</td>\n",
       "      <td>In 1947, Andy Dufresne (Tim Robbins), a banker...</td>\n",
       "    </tr>\n",
       "  </tbody>\n",
       "</table>\n",
       "</div>"
      ],
      "text/plain": [
       "        review_date   movie_id    user_id  is_spoiler  \\\n",
       "0  10 February 2006  tt0111161  ur1898687        True   \n",
       "1  6 September 2000  tt0111161  ur0842118        True   \n",
       "2     3 August 2001  tt0111161  ur1285640        True   \n",
       "3  1 September 2002  tt0111161  ur1003471        True   \n",
       "4       20 May 2004  tt0111161  ur0226855        True   \n",
       "\n",
       "                                         review_text  user_rating  \\\n",
       "0  In its Oscar year, Shawshank Redemption (writt...           10   \n",
       "1  The Shawshank Redemption is without a doubt on...           10   \n",
       "2  I believe that this film is the best story eve...            8   \n",
       "3  **Yes, there are SPOILERS here**This film has ...           10   \n",
       "4  At the heart of this extraordinary movie is a ...            8   \n",
       "\n",
       "                                  review_summary  \\\n",
       "0  A classic piece of unforgettable film-making.   \n",
       "1     Simply amazing. The best film of the 90's.   \n",
       "2               The best story ever told on film   \n",
       "3                     Busy dying or busy living?   \n",
       "4         Great story, wondrously told and acted   \n",
       "\n",
       "                                        plot_summary  duration  \\\n",
       "0  Chronicles the experiences of a formerly succe...  2h 22min   \n",
       "1  Chronicles the experiences of a formerly succe...  2h 22min   \n",
       "2  Chronicles the experiences of a formerly succe...  2h 22min   \n",
       "3  Chronicles the experiences of a formerly succe...  2h 22min   \n",
       "4  Chronicles the experiences of a formerly succe...  2h 22min   \n",
       "\n",
       "            genre  movie_rating release_date  \\\n",
       "0  [Crime, Drama]           9.3   1994-10-14   \n",
       "1  [Crime, Drama]           9.3   1994-10-14   \n",
       "2  [Crime, Drama]           9.3   1994-10-14   \n",
       "3  [Crime, Drama]           9.3   1994-10-14   \n",
       "4  [Crime, Drama]           9.3   1994-10-14   \n",
       "\n",
       "                                       plot_synopsis  \n",
       "0  In 1947, Andy Dufresne (Tim Robbins), a banker...  \n",
       "1  In 1947, Andy Dufresne (Tim Robbins), a banker...  \n",
       "2  In 1947, Andy Dufresne (Tim Robbins), a banker...  \n",
       "3  In 1947, Andy Dufresne (Tim Robbins), a banker...  \n",
       "4  In 1947, Andy Dufresne (Tim Robbins), a banker...  "
      ]
     },
     "execution_count": 5,
     "metadata": {},
     "output_type": "execute_result"
    }
   ],
   "source": [
    "df.rename(columns = {'rating_x': 'user_rating', 'rating_y': 'movie_rating'}, inplace = True)\n",
    "df.head()"
   ]
  },
  {
   "cell_type": "markdown",
   "metadata": {
    "id": "1KvL8e1Nvhy5"
   },
   "source": [
    "## Dataset analysis"
   ]
  },
  {
   "cell_type": "markdown",
   "metadata": {
    "id": "Yu1DmY2Xhvph"
   },
   "source": [
    "We find the number of reviews per each movie."
   ]
  },
  {
   "cell_type": "code",
   "execution_count": 6,
   "metadata": {
    "id": "TE6_u7bpeAvc"
   },
   "outputs": [
    {
     "data": {
      "text/plain": [
       "tt0468569    4845\n",
       "tt0111161    4361\n",
       "tt0167260    2729\n",
       "tt0137523    2480\n",
       "tt0068646    2137\n",
       "             ... \n",
       "tt0107719      12\n",
       "tt6294822      11\n",
       "tt0104014       5\n",
       "tt0201265       4\n",
       "tt0114142       2\n",
       "Name: movie_id, Length: 1572, dtype: int64"
      ]
     },
     "execution_count": 6,
     "metadata": {},
     "output_type": "execute_result"
    },
    {
     "data": {
      "image/png": "[encoded data removed]",
      "text/plain": [
       "<Figure size 432x288 with 1 Axes>"
      ]
     },
     "metadata": {
      "needs_background": "light"
     },
     "output_type": "display_data"
    }
   ],
   "source": [
    "import seaborn as sns\n",
    "\n",
    "sns.countplot(data = df, x = 'movie_id', order = df['movie_id'].value_counts().index)\n",
    "\n",
    "df['movie_id'].value_counts()"
   ]
  },
  {
   "cell_type": "markdown",
   "metadata": {
    "id": "j2pPmr4Dh2Qf"
   },
   "source": [
    "We realised that some movies have a large number of reviews (more than 2000) while some movies have less than 10 reviews. <br>\n",
    "\n",
    "We may consider to filter out movies with less than 300 reviews. (wait why?)"
   ]
  },
  {
   "cell_type": "code",
   "execution_count": 7,
   "metadata": {},
   "outputs": [
    {
     "data": {
      "text/html": [
       "<div>\n",
       "<style scoped>\n",
       "    .dataframe tbody tr th:only-of-type {\n",
       "        vertical-align: middle;\n",
       "    }\n",
       "\n",
       "    .dataframe tbody tr th {\n",
       "        vertical-align: top;\n",
       "    }\n",
       "\n",
       "    .dataframe thead th {\n",
       "        text-align: right;\n",
       "    }\n",
       "</style>\n",
       "<table border=\"1\" class=\"dataframe\">\n",
       "  <thead>\n",
       "    <tr style=\"text-align: right;\">\n",
       "      <th></th>\n",
       "      <th>num_reviews</th>\n",
       "    </tr>\n",
       "  </thead>\n",
       "  <tbody>\n",
       "    <tr>\n",
       "      <th>tt0468569</th>\n",
       "      <td>4845</td>\n",
       "    </tr>\n",
       "    <tr>\n",
       "      <th>tt0111161</th>\n",
       "      <td>4361</td>\n",
       "    </tr>\n",
       "    <tr>\n",
       "      <th>tt0167260</th>\n",
       "      <td>2729</td>\n",
       "    </tr>\n",
       "    <tr>\n",
       "      <th>tt0137523</th>\n",
       "      <td>2480</td>\n",
       "    </tr>\n",
       "    <tr>\n",
       "      <th>tt0068646</th>\n",
       "      <td>2137</td>\n",
       "    </tr>\n",
       "  </tbody>\n",
       "</table>\n",
       "</div>"
      ],
      "text/plain": [
       "           num_reviews\n",
       "tt0468569         4845\n",
       "tt0111161         4361\n",
       "tt0167260         2729\n",
       "tt0137523         2480\n",
       "tt0068646         2137"
      ]
     },
     "execution_count": 7,
     "metadata": {},
     "output_type": "execute_result"
    }
   ],
   "source": [
    "# Plot frequency of movie reviews against count of movie reviews\n",
    "col = \"num_reviews\"\n",
    "temp_df = df['movie_id'].value_counts().to_frame(name=col)\n",
    "#.groupby(col).count()\n",
    "temp_df.head()"
   ]
  },
  {
   "cell_type": "code",
   "execution_count": 46,
   "metadata": {},
   "outputs": [
    {
     "data": {
      "text/plain": [
       "<AxesSubplot: xlabel='num_reviews', ylabel='Count'>"
      ]
     },
     "execution_count": 46,
     "metadata": {},
     "output_type": "execute_result"
    },
    {
     "data": {
      "image/png": "[encoded data removed]",
      "text/plain": [
       "<Figure size 432x288 with 1 Axes>"
      ]
     },
     "metadata": {
      "needs_background": "light"
     },
     "output_type": "display_data"
    }
   ],
   "source": [
    "sns.histplot(data=temp_df, x=col, bins=50)"
   ]
  },
  {
   "cell_type": "markdown",
   "metadata": {
    "id": "E-r3_yxCZ3oY"
   },
   "source": [
    "Find the distribution between classes. \n",
    "(spoiler or non-spoiler)"
   ]
  },
  {
   "cell_type": "code",
   "execution_count": 47,
   "metadata": {
    "id": "NGDayMsmaSu5"
   },
   "outputs": [
    {
     "name": "stdout",
     "output_type": "stream",
     "text": [
      "False    73.702634\n",
      "True     26.297366\n",
      "Name: is_spoiler, dtype: float64\n"
     ]
    },
    {
     "data": {
      "image/png": "[encoded data removed]",
      "text/plain": [
       "<Figure size 432x288 with 1 Axes>"
      ]
     },
     "metadata": {
      "needs_background": "light"
     },
     "output_type": "display_data"
    }
   ],
   "source": [
    "import matplotlib.pyplot as plt\n",
    "r_has_links\n",
    "spoiler_count = df.is_spoiler.value_counts(normalize = True) * 100\n",
    "\n",
    "print(spoiler_count)\n",
    "\n",
    "spoiler_count.plot(kind = 'bar')\n",
    "plt.title('is spoiler')\n",
    "plt.show()"
   ]
  },
  {
   "cell_type": "markdown",
   "metadata": {
    "id": "nqU1YzPfbPeD"
   },
   "source": [
    "The dataset seems to be imbalanced. <br>\n",
    "Percentage of spoilers = 26.3% <br>\n",
    "Percentage of non-spoilers = 73.7% <br>\n",
    "\n",
    "We have twice the number of non-spoilers than spoliers. <br>\n",
    "\n",
    "We have to do something about it (undersampling / oversampling) before we can train our model. <br>"
   ]
  },
  {
   "cell_type": "code",
   "execution_count": 87,
   "metadata": {},
   "outputs": [],
   "source": [
    "# Exploring visually the diff between spoiler and non-spoiler\n",
    "spoiler_col = \"is_spoiler\"\n"
   ]
  },
  {
   "cell_type": "code",
   "execution_count": 90,
   "metadata": {},
   "outputs": [
    {
     "name": "stdout",
     "output_type": "stream",
     "text": [
      "I finally watched The Shawshank Redemption and I agree that it is an excellent film. The pacing, directing, and storyline, holds interest throughout, along with a superb supporting cast, and a very moving ending.The main character is Andy played by Tim Robbins who is imprisoned for the murder of his wife. Later on in the movie, the evidence comes out that he is truly innocent. However The Shawshank Redemption sends a powerful message that it doesn't matter whether you are innocent or not inside Shawshank penitentiary. This is because the prison is run by a sadistic and corrupt staff. In this facility, you must use all of the intellect you can, both book smarts, and street smarts to not only stay alive, but prevent yourself from going insane within the system.Andy befriends \"Red,\" a fellow inmate, played by Morgan Freeman in another great performance. He teaches Andy street smarts of survival within Shawshank's hell-hole. Andy, an experienced banker with a master ability for finance and book learning, manipulates the prison officials to get funds to set up a \"basic skills\" learning facility within the prison's library. Red helps him organize this, and HOW Andy sets up the funding is really an amazing part of the movie. Another inmate is the head librarian, known as \"Brooks,\" who delivers many amazing scenes in the movie.What is special about The Shawshank redemption is how the characters, especially Andy and Red, are able to use their inner abilities to rise above the conditions of the prison and the people who run it. There are some disturbing and violent images that show the harsh realities of prison life, such as fighting, and often getting beaten by the staff or punished for very small offenses and a lot of times for no reason at all. The Shawshank Redemption shows the abuse of power by prison authorities and how the inmates have to have the courage to rise above this abuse, because they need to do this, in order to keep living. They learn that failure to get this courage and survival skills from other inmates will destroy them. A great quote in this film is. \"you can get busy living, or you can get busy dying.\" Another interesting experience is how Red often wonders how at his advancing age he will be able to survive outside the prison if and when the parole board lets him go. An underlining message is that whether you \"get busy living or dying\" you become so accustomed to life in a controlling environment that the outside world, and the struggles, to reach it, to become physically and mentally \"free\" are an enormous challenge requiring great perseverance and the ultimate in determination.As good as this movie is, I was looking for that spark of magic that would put it at and over the top of all time classic films. However, I think that there are some outstanding prison movies that are just as good if not better than The Shawshank Redemption. Watch the Sean Penn Movie, \"Bad Boys\" for an outstanding portrayal inside and outside a juvenile prison. (Interestingly, Clancy Brown, who plays the bad officer in \"Shawshank,\" is just as good as a prison bully in \"Bad Boys.\") Another great movie is \"Midnight Express\" which is (although loosely) based on the real story of Billy Hayes who was arrested in Turkey for trying to smuggle hashish back to the USA in 1970. This is another amazing survival prison picture with an unforgettable musical score and some chilling moments.I see The Shawshank Redemption equal to, but no better than \"Midnight Express\" or \"Bad Boys.\" This is NOT a criticism of a fine movie! I am only putting The Shawshank Redemption in strikingly similar prison survival pictures that don't get the same credit that this movie does. Call this movie the greatest ever, and you have to do the same for \"Midnight Express\" or \"Bad Boys.\" All three films have the same emotional impact. Another under rated movie that you should see is \"An Innocent Man,\" which is also similar to The Shawshank Redemption but is considered only above average.The Shawshank Redemption is a great film for its time. But because of similarities to other similar prison pictures, I can't classify it as great for all time\n",
      "To tell the truth, I am speechless. I am a young movie fanatic, in fact, this film came out the same year I was born, and therefore I am more used to films incredible special effects, edge-of-your-seat action, et cetera. This film has none of that, and yet, it appeals so closely to me. The way Frank Darabont uses the narration of Red to drive on the story, the beauty of the soundtrack used (note the harmonica used just before Red's finding of the letter close to the end). The entire film, from beginning to end, from actions to sound, is a beacon of hope, judgement, and redemption. The cast is perfect, Morgan Freeman(Red) actually brings about a refreshing feel to the tale, and that is exactly what the movie is, what a movie should be. Highly recommended for every viewer, no matter your taste(or age- !judgement excludes use of language or violence!). I can't say it deserved its nO.1 position, i can't say any movie does, but if any movie should, this one might as well be it. *********\n",
      "From the director of 1990's \"Buried Alive\" comes perhaps the strongest drama of 1994. \"The Shawshank Redemption\" is emotionally fulfilling in every way, uplifting its audience again and again. Darabont's screenplay, adapted from (and expanded upon) Stephen King's short novella \"Rita Hayworth and the Shawshank Redemption\", is at once soul stirring, heart-rending and disarmingly funny. As director, Frank Darabont brings this poignant and oft times surprising (largely unpredictable thank goodness) script to the screen with the kind of loving care that only a writer/director can, ensuring that all the right elements are brought to the surface.Startling performances from Tim Robbins, Morgan Freeman and the entire support cast help make this picture a powerful production. As convicted double murderer Andy Du Fresne, Robbins portrays innocence and determination superbly. He's a man who not only strongly believes he has a future, but that it's a good one. Freeman is spot on as the world weary \"Red\", the lifer who specialises in the supply of merchandise (\"whatever you want\") to other inmates. He is gradually transformed, and always surprised, by Andy's optimism, geniality and brilliance. In support of these two leads are some very strong turns which provide an over all feast of superlative acting talents.The cinematography is superb, capturing some spectacular images of the foreboding Shawshank prison, while Thomas Newman's music is awe inspiring and must be duly recognised as a truly moving composition.\"The Shawshank Redemption\" is a long movie, though it would seem that to shorten it would mean to miss out on some powerful, if not crucial scenes. In this light, the editing team have done a marvellous job.What makes this film so effective is Darabont's brilliant script and astute direction, coupled with the strong acting and great support production. Darabont achieves all his objectives, making us laugh, cry, listen and think, he both surprises and inspires us many times. We're left in the end with an uplifting and wholly satisfying movie, which is unexpectedly memorable and magnificently rewarding. A definite triumph of the human spirit.Perhaps the conclusion could be called simplistic, but certainly not expected, and that's what makes this story so great. \"The Shawshank Redemption\" comes from nowhere to really hit you with its well written characters and even its carefully researched history. Wonderfully emotionally telling and thankfully intellectually sharp, its a pleasure that you must treat yourself to! Look for two brilliantly played characters in the form of the menacingly sinister Warden (Bob Gunton) and the despicable, ruthlessly violent Captain of the Guards (Clancy Brown).Thursday, July 27, 1995 - Waverley Pinewood Cinema\"The Shawshank Redemption\" was the surprise of 1994 from director Frank Darabont. Full of emotional highs both comic and poignant, it is by far the best prison film I've ever seen. Performances from Tim Robbins and Morgan Freeman are truly inspired, whilst a classy support cast lend strong backing. Cinematography is at times breathtaking and Thomas Newman's score is sweeping and melodic.For uplifting cinema that constantly comes form nowhere to move its audience you can't go past \"The Shawshank Redemption.\"Tuesday, April 30, 1996 - Astor Theatre\n",
      "Wow! what a film this baby is and yes this film is one of the most brilliant films ever written by man and i for one was literally stoked from the start, so as a future film maker, i hope to one day make a film like this because if i do i will definitely die a happier man. the film was just awesome in every sense and i really loved the plot, it had some great cliff hangers and great and classic scenes where the main character became himself more and you just fell in love with him so on that basis i would class this film as one of the all time greats and if you haven't seen it yet, go out and buy it because you won't be disappointed at all, believe you me.\n",
      "In 1947, banker Andy Dufresne (Tim Robbins) is convicted of murdering his wife and her lover, based on circumstantial evidence, and is sentenced to two consecutive life sentences at Shawshank State Penitentiary. Andy quickly befriends contraband smuggler Ellis \"Red\" Redding (Morgan Freeman), an inmate serving a life sentence. Red procures a rock hammer for Andy, allowing him to create small stone chess pieces. Red later gets him a large poster of Rita Hayworth, followed in later years by images of Marilyn Monroe and Raquel Welch. Andy works in the prison laundry, but is regularly assaulted by the \"bull queer\" gang \"the Sisters\" and their leader Bogs (Mark Rolston). In 1949, Andy overhears the brutal chief guard Byron Hadley (Clancy Brown) complaining about taxes on a forthcoming inheritance and informs him about a financial loophole. After another vicious assault by the Sisters nearly kills Andy, Hadley severely beats Bogs resulting in Bogs being sent to another prison. Andy is not attacked again. Warden Samuel Norton (Bob Gunton) meets with Andy and reassigns him to the prison library to assist elderly inmate Brooks Hatlen (James Whitmore), a pretext for Andy to manage financial duties for the prison. His advice and expertise are soon sought by other guards at Shawshank and from nearby prisons. Andy begins writing weekly letters to the state government for funds to improve the decrepit library. In 1954, Brooks is freed on parole, but unable to adjust to the outside world after 50 years in prison, he hangs himself. Andy receives a library donation that includes a recording of The Marriage of Figaro. He plays an excerpt over the public address system, resulting in his receiving solitary confinement. After his release, Andy explains that he holds onto hope as something that the prison cannot take from him, but Red dismisses the idea. In 1963, Norton begins exploiting prison labor for public works, profiting by undercutting skilled labor costs and receiving kickbacks. He has Andy launder the money using the alias \"Randall Stephens\". In 1965, Tommy Williams (Gil Bellows) is incarcerated for burglary. He joins Andy's and Red's circle of friends, and Andy helps him pass his General Educational Development (G.E.D.) examinations. In 1966, after hearing the details of Andy's case, Tommy reveals that an inmate at another prison claimed responsibility for an identical murder, suggesting Andy's innocence. Andy approaches Norton with this information, but the warden refuses to listen. Norton places Andy in solitary confinement and has Hadley murder Tommy, under the guise of an escape attempt. Andy refuses to continue with the scam, but Norton threatens to destroy the library and take away his protection and preferential treatment. After Andy is released from solitary confinement, he tells Red of his dream of living in Zihuatanejo, a Mexican Pacific coastal town. While Red shrugs it off as being unrealistic, Andy instructs him, should he ever be freed, to visit a specific hayfield near Buxton to retrieve a package. The next day at roll call, upon finding Andy's cell empty, an irate Norton throws one of Andy's rocks at the poster of Raquel Welch hanging on the wall. The rock tears through the poster, revealing a tunnel that Andy had dug with his rock hammer over the previous two decades. The previous night, Andy escaped through the tunnel and the prison's sewage pipe with Norton's ledger, containing details of the money laundering. While guards search for him the following morning, Andy, posing as Randall Stephens, visits several banks to withdraw the laundered money. Finally, he sends the ledger and evidence of the corruption and murders at Shawshank to a local newspaper. The police arrive at Shawshank and take Hadley into custody, while Norton commits suicide to avoid arrest. After serving 40 years, Red receives parole. He struggles to adapt to life outside prison and fears he never will. Remembering his promise to Andy, he visits Buxton and finds a cache containing money and a letter asking him to come to Zihuatanejo. Red violates his parole and travels to Fort Hancock, Texas to cross the border to Mexico, admitting he finally feels hope. On a beach in Zihuatanejo, he finds Andy, and the two friends are happily reunited.\n"
     ]
    },
    {
     "data": {
      "text/plain": [
       "10    None\n",
       "11    None\n",
       "12    None\n",
       "13    None\n",
       "14    None\n",
       "Name: review_text, dtype: object"
      ]
     },
     "execution_count": 90,
     "metadata": {},
     "output_type": "execute_result"
    }
   ],
   "source": [
    "start = 10\n",
    "end = 15\n",
    "df[df[spoiler_col] == True].iloc[start:end][\"review_text\"].apply(lambda x: print(x))"
   ]
  },
  {
   "cell_type": "code",
   "execution_count": 68,
   "metadata": {},
   "outputs": [
    {
     "data": {
      "text/plain": [
       "0    A classic piece of unforgettable film-making.\n",
       "1    Simply amazing. The best film of the 90's.   \n",
       "2    The best story ever told on film             \n",
       "3    Busy dying or busy living?                   \n",
       "4    Great story, wondrously told and acted       \n",
       "Name: review_summary, dtype: object"
      ]
     },
     "execution_count": 68,
     "metadata": {},
     "output_type": "execute_result"
    }
   ],
   "source": [
    "\n",
    "df[df[spoiler_col] == True].iloc[start:end][\"review_summary\"] \n",
    "#Seems like not super clear indicator. \n",
    "#Though spoilers tend to have facts on characters dying"
   ]
  },
  {
   "cell_type": "code",
   "execution_count": 89,
   "metadata": {},
   "outputs": [
    {
     "name": "stdout",
     "output_type": "stream",
     "text": [
      "Why do I want to write the 234th comment on The Shawshank Redemption? I am not sure - almost everything that could be possibly said about it has been said. But like so many other people who wrote comments, I was and am profoundly moved by this simple and eloquent depiction of hope and friendship and redemption. The only other movie I have ever seen that effects me as strongly is To Kill a Mockingbird. Both movies leave me feeling cleaner for having watched them.I didn't intend to see this movie at all: I do not like prison movies and I don't normally watch them. I work at a branch library and one day as I was checking The Shawshank Redemption out to one of our older patrons, she said to me, \"Whenever I feel down or depressed, I check out this movie and watch it and it always makes me feel better.\" At the time, I thought that was very strange. One day there was nothing on TV except things I absolutely would not watch under any circumstance or things that I had seen too many times already. I remembered what she said, so I watched it. I have watched it many many times since then and it gets better with every showing.No action, no special effects - just men in prison uniforms talking to each other.The Shawshank Redemption and To Kill a Mockingbird are the best movies I have ever seen. I do not judge it by it's technical merits - I don't really care about that. I have read that Citizen Kane or The Godfather or this or that movie is the best movie ever made. They may have the best technique or be the most influential motion pictures ever made, but not the best. The best movies are ones that touch the soul. It takes a movie like The Shawshank Redemption to touch the soul.\n",
      "Can Hollywood, usually creating things for entertainment purposes only, create art?  To create something of this nature, a director must approach it in a most meticulous manner, due to the delicacy of the process.  Such a daunting task requires an extremely capable artist with an undeniable managerial capacity and an acutely developed awareness of each element of art in their films, the most prominent; music, visuals, script, and acting. These elements, each equally important, must succeed independently, yet still form a harmonious union, because this mixture determines the fate of the artist's opus.  Though already well known amongst his colleagues for his notable skills at writing and directing, Frank Darabont emerges with his feature film directorial debut, The Shawshank Redemption.  Proving himself already a master of the craft, Darabont managed to create one of the most recognizable independent releases in the history of Hollywood.  The Shawshank Redemption defines a genre, defies the odds, compels the emotions, and brings an era of artistically influential films back to Hollywood.The story begins with the trial of a young banker, Andy Dufrense, victimized by circumstantial evidence, resulting in a conviction for the murder of his wife and her lover.  After a quick conviction, Andy finds himself serving a life sentence at Shawshank prison, with no hope of parole.  He exists in this prison only in appearance, keeping his mind free from the drab walls around him.  His ability to do this results in the gaining of respect from his fellow inmates, but most of all from Ellis Redding.  Ellis, commonly referred to as Red, finds gainful use of his entrepreneurial spirit within the drab walls of Shawshank by dealing in contraband and commodities rare to the confines of prison.  Andy's demeanor and undeniable sense of hope causes Red to take a deeper look at himself, and the world around him.  Andy proves to Red and the other inmates that in the conventional walls of Shawshank prison convention will find no home in his lifestyle.By creating the film's firm foundation, the meticulously chiseled screenplay paved the way for this film's success.  Frank Darabont outdoes himself with the phenomenal adaptation of Stephen King's equally noteworthy novella, Rita Hayworth and Shawshank Redemption.  In this novella, King demonstrates that he can break free from the genre he dominates and still create a marvelous piece of modern literature.  Though the film mirrors the novella in many ways, Darabont illustrates a focused objective of improving upon the areas where the novella came up short, resulting in one of the best book to film transitions ever.While maintaining some of the poetic and moving dialogue of the novella, Darabont also proves that a film's score can generate a great deal of emotional response from its audience, as dialogue does.  He employs the cunning Thomas Newman, son of the legendary Hollywood composer, Alfred Newman.  Darabont shows recognition for the film's needs by employing Newman, who makes the gentle piano chords whisper softly to the viewer, as if a part of the scripted dialogue.  Newman lends himself to individualism and tends to drive more towards the unique in the realm of score composition.  His effort in Shawshank did not go unnoticed, as his score received an Oscar nomination in 1995.  While unique and independent, Newman's score never once intrudes on your concentration or distracts from the film.With work from vast array of talented scene designers, costume designers, composers, cinematographers, and various other Hollywood artists, the cast of The Shawshank Redemption had a strong foundation to work with.  The marvelous cast of this film will dazzle you with some of the most convincing performances you will witness in a film.  While both Tim Robbins and Morgan Freeman shine as Andy and Red, respectively, the true spectacle of acting lies within the plethora of amazing supporting actors who easily disappear into their roles.  Most noticeable of these, the veteran film star James Whitmore, who portrays the elderly Brooks Hatlen.  Brooks, a man incarcerated for an unmentioned crime for so long that he finds himself attached to the Shawshank and the daily life he has lead.  Each of these actors show a true dedication to their art, and a focused purpose in their motivations, creating a convincing setting that never once caters to anything unbelievable.With all of the aesthetic touches and attention to cinematic detail, the most beautiful part of the film lies within its thematic material, such as its focus on the human desires for the most abstract concepts, like hope and freedom.  These themes, which concern things the human spirit undoubtedly yearns for, seem so intricately woven into the plot that it easily draws its audience in to its story.  Though full of hardened criminals, your heart will go out to these men as they display the most basic of human emotions, and deliver some of the most quotable lines in a film to date.  Like a great novel, this film manages to succeed at greater things than simply entertaining an audience.  Darabont tells his story most masterfully, illustrating principles and inspiring his audience to think.  He leaves us a poignant film with a powerful message of hope, and redemption, something we all seek.This film manages to redeem Hollywood in the eyes of people who feared it long lost in a dark sea of clichés and predictability.  Darabont shows us that artists still work in the Hollywood studios and production facilities. These artists show their capability to produce art; real art that inspires you to look at the deeper aspects of life and the world around you.  The Shawshank Redemption delivers much-needed breath of fresh air for anyone who realizes the capability of film.  It proves that masters of the craft still live on this earth, and still bless us with timeless masterpieces that we will never forget.\n",
      "This movie is not your ordinary Hollywood flick. It has a great and deep message. This movie has a foundation and just kept on being built on from their and that foundation is hope.Other than just the message of this movie the acting was phenomenal. Tim Robbins gave one of the greatest performances ever. He was inspiring, intelligent and most of all positive. His performance just made me smile. Robbins plays Andy Dufresne who was wrongfully convicted of murdering his wife and her lover. He is gets to life sentences but yet never gives up hope. In he becomes friends with Ellis Boyd \"Red\" Redding played by Morgan Freeman. Freeman who gives the finest performance of his career has unlike Robbins lost hope. He is in deep regret of the crime that he committed. His way of deflecting the pain away is by trying to not feel anything at all. With his friendship with Andy he learns that without our hopes and dreams we have nothing. Andy also becomes friends with the rest of Red's group. James Whitmore also gave a great performance as Brooks Halten who gets out of prison parole but in the words of Red he has been \"institutionalized\". The directing by Frank Darabont was just magnificent. He kept this movie at a great steady pace along with the writing and great cinematography. He portrayed prison life in such a horrifying way, but not in terms of the physical pain but the stress and pain that wares mentally on the inmates, some of which deserve a second chance. Whatever you do, don't listen to the people who say this movie is overrated because this is one of the most inspiring and greatest movies ever. It has everything you could possibly want.\n",
      "I'm trying to save you money; this is the last film title that you should consider borrowing. Renting Shawshank will cost you five bucks... just plunk down the $25 and own the title. You'll wind up going back to this gem time and time again. This is one of few movies that are truly timeless. And it's entertaining and moving, no matter how many times you view it.Forget about what others (including myself) might suggest you'll discover in \"The Shawshank Redemption;\" when you watch it, you'll identify something very personal in your own life with a scene, a character, or a moment in this uncomplicated movie. When you need hope, you'll look for Shawshank. When you want to believe in the will of overcoming even the greatest obstacles, Shawshank will uplift you in ways that you can't find in movies today. Some liken the film to some kind of spiritual awakening. Of course, some can go to a church or mosque to find enlightenment and Faith in humanity, but most places of worship are open only certain days or times. But when you need affirmation of the lasting bond of friendships that prevail over the most dire circumstances, Shawshank will give it to you. It makes grown men (like me) cry, still. I wonder whether Shawshank was truly meant for viewing in the privacy of the home, because it is a personal experience that really makes you look inward. Nominated for seven, this is the best film that never one a single Oscar. How ironic that an innocent man winds up being surrounded by the corruption of the legal system. Shawshank itself is similar to the character of Andy Dufresne. Prejudging this classic film, critics couldn't get past the title. The public followed suit, initially dismissing Shawshank, which failed in the box office just like \"It's a Wonderful Life\" and \"Citizen Kane.\" It could have just whithered away on the store shelves, like Andy Dufresne could have in his own cell. But the characters prevailed, because Andy -- And Shawshank -- stayed true. Now, these movies are right up there as the most popular films of all time. Anyone who has yet to watch Shawshank may be so jaded of movies, or the film's title, or how a 2-1/2- hour movie set inside the walls of a prison can manage to tap the soul of such a wide range of people. Shawshank has not one explosion. I wonder if it even has a single special effect or digitally- enhanced frame. But every aspect of Shawshank fit together. The acting from the top to the bit part. The musical score. The editing. The photography. The story, from opening credits to final scene. All involved, including the town of Mansfield, Ohio (where Shawshank was actually filmed) played their roles perfectly. Shawshank is a must- see, must- own title.\n",
      "The Shawshank Redemption is written and directed by Frank Darabont. It is an adaptation of the Stephen King novella Rita Hayworth and Shawshank Redemption. Starring Tim Robbins and Morgan Freeman, the film portrays the story of Andy Dufresne (Robbins), a banker who is sentenced to two life sentences at Shawshank State Prison for apparently murdering his wife and her lover. Andy finds it tough going but finds solace in the friendship he forms with fellow inmate, Ellis \"Red\" Redding (Freeman). While things start to pick up when the warden finds Andy a prison job more befitting his talents as a banker. However, the arrival of another inmate is going to vastly change things for all of them.There was no fanfare or bunting put out for the release of the film back in 94, with a title that didn't give much inkling to anyone about what it was about, and with Columbia Pictures unsure how to market it, Shawshank Redemption barely registered at the box office. However, come Academy Award time the film received several nominations, and although it won none, it stirred up interest in the film for its home entertainment release. The rest, as they say, is history. For the film finally found an audience that saw the film propelled to almost mythical proportions as an endearing modern day classic. Something that has delighted its fans, whilst simultaneously baffling its detractors. One thing is for sure, though, is that which ever side of the Shawshank fence you sit on, the film continues to gather new fans and simply will never go away.It's possibly the simplicity of it all that sends some haters of the film into cinematic spasms. The implausible plot and an apparent sentimental edge that makes a nonsense of prison life, are but two chief complaints from those that dislike the film with a passion. But when characters are this richly drawn, and so movingly performed, it strikes me as churlish to do down a human drama that's dealing in hope, friendship and faith. The sentimental aspect is indeed there, but that acts as a counterpoint to the suffering, degradation and shattering of the soul involving our protagonist. Cosy prison life you say? No chance. The need for human connection is never more needed than during incarceration, surely? And given the quite terrific performances of Robbins (never better) & Freeman (sublimely making it easy), it's the easiest thing in the world to warm to Andy and Red.Those in support aren't faring too bad either. Bob Gunton is coiled spring smarm as Warden Norton, James Whitmore is heart achingly great as the \"Birdman Of Shawshank,\" Clancy Brown is menacing as antagonist Capt. Byron Hadley, William Sadler amusing as Heywood & Mark Rolston is impressively vile as Bogs Diamond. Then there's Roger Deakins' lush cinematography as the camera gracefully glides in and out of the prison offering almost ethereal hope to our characters (yes, they are ours). The music pings in conjunction with the emotional flow of the movie too. Thomas Newman's score is mostly piano based, dovetailing neatly with Andy's state of mind, while the excellently selected soundtrack ranges from the likes of Hank Williams to the gorgeous Le Nozze di Figaro by Mozart.If you love Shawshank then it's a love that lasts a lifetime. Every viewing brings the same array of emotions - anger - revilement - happiness - sadness - inspiration and a warmth that can reduce the most hardened into misty eyed wonderment. Above all else, though, Shawshank offers hope - not just for characters in a movie, but for a better life and a better world for all of us. 10/10\n"
     ]
    },
    {
     "data": {
      "text/plain": [
       "956    None\n",
       "957    None\n",
       "958    None\n",
       "959    None\n",
       "960    None\n",
       "Name: review_text, dtype: object"
      ]
     },
     "execution_count": 89,
     "metadata": {},
     "output_type": "execute_result"
    }
   ],
   "source": [
    "start = 0\n",
    "end = 5\n",
    "df[df[spoiler_col] == False].iloc[start:end][\"review_text\"].apply(lambda x: print(x))"
   ]
  },
  {
   "cell_type": "code",
   "execution_count": 69,
   "metadata": {
    "scrolled": true
   },
   "outputs": [
    {
     "data": {
      "text/plain": [
       "956    Tied for the best movie I have ever seen\n",
       "957    Shawshank Redeems Hollywood             \n",
       "958    This is How Movies Should Be Made       \n",
       "959    Don't Rent Shawshank.                   \n",
       "960    Some birds aren't meant to be caged.    \n",
       "Name: review_summary, dtype: object"
      ]
     },
     "execution_count": 69,
     "metadata": {},
     "output_type": "execute_result"
    }
   ],
   "source": [
    "df[df[spoiler_col] == False].iloc[start:end][\"review_summary\"] "
   ]
  },
  {
   "cell_type": "markdown",
   "metadata": {},
   "source": [
    "Certain reviews seem to contain more than one movie content, so gotta cross check against all other movie content per se"
   ]
  },
  {
   "cell_type": "code",
   "execution_count": 8,
   "metadata": {},
   "outputs": [
    {
     "name": "stderr",
     "output_type": "stream",
     "text": [
      "/tmp/ipykernel_2455015/2387160883.py:5: UserWarning: This pattern is interpreted as a regular expression, and has match groups. To actually get the groups, use str.extract.\n",
      "  df[\"r_has_links\"] = df[\"review_text\"].str.contains(url_regex,regex=True)\n"
     ]
    },
    {
     "data": {
      "text/plain": [
       "True     358502\n",
       "False    215411\n",
       "Name: r_has_links, dtype: int64"
      ]
     },
     "execution_count": 8,
     "metadata": {},
     "output_type": "execute_result"
    }
   ],
   "source": [
    "# Investigating how many of these have links\n",
    "\n",
    "url_regex = r'[-a-zA-Z0-9@:%._\\+~#=]{1,256}\\.[a-zA-Z0-9()]{1,6}\\b([-a-zA-Z0-9()@:%_\\+.~#?&//=]*)'\n",
    "\n",
    "df[\"r_has_links\"] = df[\"review_text\"].str.contains(url_regex,regex=True)\n",
    "df[\"r_has_links\"].value_counts()"
   ]
  },
  {
   "cell_type": "code",
   "execution_count": 10,
   "metadata": {},
   "outputs": [],
   "source": [
    "group = df.groupby('r_has_links')\n",
    "\n",
    "group_is_spoiler = df[df['is_spoiler'] == True].groupby('r_has_links')\n",
    "group_no_spoiler = df[df['is_spoiler'] == False].groupby('r_has_links')\n",
    "group_have_links = df[df['r_has_links'] == True].groupby('is_spoiler')\n",
    "group_no_links = df[df['r_has_links'] == False].groupby('is_spoiler')"
   ]
  },
  {
   "cell_type": "code",
   "execution_count": 28,
   "metadata": {
    "scrolled": true
   },
   "outputs": [
    {
     "data": {
      "text/plain": [
       "r_has_links\n",
       "False    215411\n",
       "True     358502\n",
       "Name: is_spoiler, dtype: int64"
      ]
     },
     "execution_count": 28,
     "metadata": {},
     "output_type": "execute_result"
    }
   ],
   "source": [
    "# df.groupby('r_has_links').count()[\"is_spoiler\"]"
   ]
  },
  {
   "cell_type": "code",
   "execution_count": 31,
   "metadata": {},
   "outputs": [
    {
     "data": {
      "text/plain": [
       "r_has_links\n",
       "False    215411\n",
       "True     358502\n",
       "dtype: int64"
      ]
     },
     "execution_count": 31,
     "metadata": {},
     "output_type": "execute_result"
    }
   ],
   "source": [
    "df.groupby('r_has_links').size()"
   ]
  },
  {
   "cell_type": "code",
   "execution_count": 17,
   "metadata": {
    "scrolled": false
   },
   "outputs": [],
   "source": [
    "import matplotlib.pyplot as plt\n",
    "import seaborn\n",
    "\n",
    "# viz_df = group[['is_spoiler', 'r_has_links']]\n",
    "# print(viz_df.head())\n",
    "# print(viz_df.value_counts())\n",
    "# # print(viz_df['r_has_links'].value_counts())\n",
    "# has_spoiler = viz_df[viz_df['is_spoiler'] == True].size()#groupby('is_spoiler').count()\n",
    "# has_spoiler.index\n",
    "# # plt.pie(has_spoiler)"
   ]
  },
  {
   "cell_type": "code",
   "execution_count": 114,
   "metadata": {},
   "outputs": [
    {
     "data": {
      "text/plain": [
       "422982    1\n",
       "150924    1\n",
       "dtype: int64"
      ]
     },
     "execution_count": 114,
     "metadata": {},
     "output_type": "execute_result"
    }
   ],
   "source": [
    "has_spoiler.value_counts()"
   ]
  },
  {
   "cell_type": "code",
   "execution_count": 24,
   "metadata": {},
   "outputs": [
    {
     "data": {
      "text/html": [
       "<div>\n",
       "<style scoped>\n",
       "    .dataframe tbody tr th:only-of-type {\n",
       "        vertical-align: middle;\n",
       "    }\n",
       "\n",
       "    .dataframe tbody tr th {\n",
       "        vertical-align: top;\n",
       "    }\n",
       "\n",
       "    .dataframe thead th {\n",
       "        text-align: right;\n",
       "    }\n",
       "</style>\n",
       "<table border=\"1\" class=\"dataframe\">\n",
       "  <thead>\n",
       "    <tr style=\"text-align: right;\">\n",
       "      <th></th>\n",
       "      <th>is_spoiler</th>\n",
       "    </tr>\n",
       "    <tr>\n",
       "      <th>r_has_links</th>\n",
       "      <th></th>\n",
       "    </tr>\n",
       "  </thead>\n",
       "  <tbody>\n",
       "    <tr>\n",
       "      <th>False</th>\n",
       "      <td>45660</td>\n",
       "    </tr>\n",
       "    <tr>\n",
       "      <th>True</th>\n",
       "      <td>105264</td>\n",
       "    </tr>\n",
       "  </tbody>\n",
       "</table>\n",
       "</div>"
      ],
      "text/plain": [
       "             is_spoiler\n",
       "r_has_links            \n",
       "False             45660\n",
       "True             105264"
      ]
     },
     "execution_count": 24,
     "metadata": {},
     "output_type": "execute_result"
    }
   ],
   "source": [
    "group_is_spoiler[['is_spoiler']].count()"
   ]
  },
  {
   "cell_type": "code",
   "execution_count": 37,
   "metadata": {
    "scrolled": false
   },
   "outputs": [
    {
     "data": {
      "text/plain": [
       "([<matplotlib.patches.Wedge at 0x7fb5b20410c0>,\n",
       "  <matplotlib.patches.Wedge at 0x7fb5b2041750>],\n",
       " [Text(-0.6394522442151263, 0.8950423606557617, 'No Links'),\n",
       "  Text(0.6394522442151261, -0.8950423606557618, 'Has At Least one')],\n",
       " [Text(-0.34879213320825064, 0.4882049239940518, '69.75%'),\n",
       "  Text(0.3487921332082506, -0.48820492399405185, '30.25%')])"
      ]
     },
     "execution_count": 37,
     "metadata": {},
     "output_type": "execute_result"
    },
    {
     "data": {
      "image/png": "[encoded data removed]",
      "text/plain": [
       "<Figure size 432x288 with 1 Axes>"
      ]
     },
     "metadata": {},
     "output_type": "display_data"
    }
   ],
   "source": [
    "plt.pie(df[df['is_spoiler'] == True]['r_has_links'].value_counts(), labels=[ \"Has At Least one\", \"No Links\"], autopct='%.2f%%')"
   ]
  },
  {
   "cell_type": "code",
   "execution_count": 38,
   "metadata": {},
   "outputs": [
    {
     "data": {
      "text/plain": [
       "([<matplotlib.patches.Wedge at 0x7fb5ad10cc10>,\n",
       "  <matplotlib.patches.Wedge at 0x7fb5ad10d180>],\n",
       " [Text(-0.3356004655834127, 1.0475554054560536, 'Has At Least one'),\n",
       "  Text(0.3356005636626263, -1.0475553740348658, 'No Links')],\n",
       " [Text(-0.1830547994091342, 0.5713938575214838, '59.87%'),\n",
       "  Text(0.18305485290688706, -0.5713938403826541, '40.13%')])"
      ]
     },
     "execution_count": 38,
     "metadata": {},
     "output_type": "execute_result"
    },
    {
     "data": {
      "image/png": "[encoded data removed]",
      "text/plain": [
       "<Figure size 432x288 with 1 Axes>"
      ]
     },
     "metadata": {},
     "output_type": "display_data"
    }
   ],
   "source": [
    "plt.pie(df[df['is_spoiler'] == False]['r_has_links'].value_counts(), labels=[ \"Has At Least one\", \"No Links\"], autopct='%.2f%%')"
   ]
  },
  {
   "cell_type": "code",
   "execution_count": 41,
   "metadata": {},
   "outputs": [
    {
     "data": {
      "text/plain": [
       "([<matplotlib.patches.Wedge at 0x7fb5ad0a5f30>,\n",
       "  <matplotlib.patches.Wedge at 0x7fb5ad0a65c0>],\n",
       " [Text(-0.8649880041030209, 0.6795555553138186, 'No Spoilers'),\n",
       "  Text(0.8649880359153109, -0.6795555148208076, 'Has spoiler(s))')],\n",
       " [Text(-0.47181163860164765, 0.3706666665348101, '78.80%'),\n",
       "  Text(0.4718116559538059, -0.3706666444477132, '21.20%')])"
      ]
     },
     "execution_count": 41,
     "metadata": {},
     "output_type": "execute_result"
    },
    {
     "data": {
      "image/png": "[encoded data removed]",
      "text/plain": [
       "<Figure size 432x288 with 1 Axes>"
      ]
     },
     "metadata": {},
     "output_type": "display_data"
    }
   ],
   "source": [
    "plt.pie(df[df['r_has_links'] == False]['is_spoiler'].value_counts(), labels=[ \"No Spoilers\", \"Has spoiler(s))\"], autopct='%.2f%%')"
   ]
  },
  {
   "cell_type": "code",
   "execution_count": 42,
   "metadata": {
    "scrolled": true
   },
   "outputs": [
    {
     "data": {
      "text/plain": [
       "([<matplotlib.patches.Wedge at 0x7fb5acf70ac0>,\n",
       "  <matplotlib.patches.Wedge at 0x7fb5acf71150>],\n",
       " [Text(-0.6642647764404961, 0.8767852113148682, 'No Spoilers'),\n",
       "  Text(0.664264776440496, -0.8767852113148683, 'Has spoiler(s))')],\n",
       " [Text(-0.362326241694816, 0.47824647889901895, '70.64%'),\n",
       "  Text(0.3623262416948159, -0.478246478899019, '29.36%')])"
      ]
     },
     "execution_count": 42,
     "metadata": {},
     "output_type": "execute_result"
    },
    {
     "data": {
      "image/png": "[encoded data removed]",
      "text/plain": [
       "<Figure size 432x288 with 1 Axes>"
      ]
     },
     "metadata": {},
     "output_type": "display_data"
    }
   ],
   "source": [
    "plt.pie(df[df['r_has_links'] == True]['is_spoiler'].value_counts(), labels=[ \"No Spoilers\", \"Has spoiler(s))\"], autopct='%.2f%%')"
   ]
  },
  {
   "cell_type": "markdown",
   "metadata": {},
   "source": [
    "Simply prescense of link doesn't distinguish spoiler reivews\n",
    "\n",
    "\n",
    "It may be because of the prescense of generic links like google.com"
   ]
  },
  {
   "cell_type": "code",
   "execution_count": 18,
   "metadata": {
    "scrolled": false
   },
   "outputs": [
    {
     "ename": "NameError",
     "evalue": "name 'has_spoilers_link_grp' is not defined",
     "output_type": "error",
     "traceback": [
      "\u001b[0;31m---------------------------------------------------------------------------\u001b[0m",
      "\u001b[0;31mNameError\u001b[0m                                 Traceback (most recent call last)",
      "Input \u001b[0;32mIn [18]\u001b[0m, in \u001b[0;36m<cell line: 1>\u001b[0;34m()\u001b[0m\n\u001b[0;32m----> 1\u001b[0m plt\u001b[38;5;241m.\u001b[39mpie(\u001b[43mhas_spoilers_link_grp\u001b[49m, labels\u001b[38;5;241m=\u001b[39m[\u001b[38;5;124m\"\u001b[39m\u001b[38;5;124mNo Spoiler\u001b[39m\u001b[38;5;124m\"\u001b[39m, \u001b[38;5;124m\"\u001b[39m\u001b[38;5;124mHas At Least spoiler\u001b[39m\u001b[38;5;124m\"\u001b[39m], autopct\u001b[38;5;241m=\u001b[39m\u001b[38;5;124m'\u001b[39m\u001b[38;5;132;01m%.2f\u001b[39;00m\u001b[38;5;132;01m%%\u001b[39;00m\u001b[38;5;124m'\u001b[39m)\n",
      "\u001b[0;31mNameError\u001b[0m: name 'has_spoilers_link_grp' is not defined"
     ]
    }
   ],
   "source": [
    "plt.pie(has_spoilers_link_grp, labels=[\"No Spoiler\", \"Has At Least spoiler\"], autopct='%.2f%%')"
   ]
  },
  {
   "cell_type": "markdown",
   "metadata": {},
   "source": [
    "## Investigating genre\n",
    "\n",
    "Hypothesis: There may be certain genres where the user base are more toxic, thus with a higher tendency to release spoilers\n",
    "\n"
   ]
  },
  {
   "cell_type": "code",
   "execution_count": 47,
   "metadata": {},
   "outputs": [],
   "source": [
    "genre_col = 'genre'"
   ]
  },
  {
   "cell_type": "code",
   "execution_count": 46,
   "metadata": {},
   "outputs": [
    {
     "data": {
      "text/plain": [
       "[Action, Adventure, Sci-Fi]     39842\n",
       "[Action, Adventure, Fantasy]    22658\n",
       "[Crime, Drama]                  19258\n",
       "[Drama]                         17976\n",
       "[Drama, Romance]                16418\n",
       "                                ...  \n",
       "[Action, Comedy, Family]           34\n",
       "[Adventure, Family, Romance]       32\n",
       "[Comedy, Crime, Fantasy]           25\n",
       "[Romance]                          18\n",
       "[Family, Fantasy, Music]           12\n",
       "Name: genre, Length: 237, dtype: int64"
      ]
     },
     "execution_count": 46,
     "metadata": {},
     "output_type": "execute_result"
    }
   ],
   "source": [
    "df[genre_col].value_counts()"
   ]
  },
  {
   "cell_type": "markdown",
   "metadata": {},
   "source": [
    "Since genre is a list, let's one hot encode this"
   ]
  },
  {
   "cell_type": "code",
   "execution_count": 49,
   "metadata": {},
   "outputs": [
    {
     "name": "stdout",
     "output_type": "stream",
     "text": [
      "Collecting sklearn\n",
      "  Downloading sklearn-0.0.tar.gz (1.1 kB)\n",
      "  Preparing metadata (setup.py) ... \u001b[?25ldone\n",
      "\u001b[?25hCollecting scikit-learn\n",
      "  Downloading scikit_learn-1.1.3-cp310-cp310-manylinux_2_17_x86_64.manylinux2014_x86_64.whl (30.5 MB)\n",
      "\u001b[2K     \u001b[38;2;114;156;31m━━━━━━━━━━━━━━━━━━━━━━━━━━━━━━━━━━━━━━━━\u001b[0m \u001b[32m30.5/30.5 MB\u001b[0m \u001b[31m11.3 MB/s\u001b[0m eta \u001b[36m0:00:00\u001b[0mm eta \u001b[36m0:00:01\u001b[0m[36m0:00:01\u001b[0m\n",
      "\u001b[?25hCollecting joblib>=1.0.0\n",
      "  Downloading joblib-1.2.0-py3-none-any.whl (297 kB)\n",
      "\u001b[2K     \u001b[38;2;114;156;31m━━━━━━━━━━━━━━━━━━━━━━━━━━━━━━━━━━━━━━━\u001b[0m \u001b[32m298.0/298.0 kB\u001b[0m \u001b[31m7.9 MB/s\u001b[0m eta \u001b[36m0:00:00\u001b[0mm eta \u001b[36m0:00:01\u001b[0m\n",
      "\u001b[?25hRequirement already satisfied: numpy>=1.17.3 in /home/randell-crapy/miniconda3/envs/finance/lib/python3.10/site-packages (from scikit-learn->sklearn) (1.23.3)\n",
      "Collecting scipy>=1.3.2\n",
      "  Downloading scipy-1.9.3-cp310-cp310-manylinux_2_17_x86_64.manylinux2014_x86_64.whl (33.7 MB)\n",
      "\u001b[2K     \u001b[38;2;114;156;31m━━━━━━━━━━━━━━━━━━━━━━━━━━━━━━━━━━━━━━━━\u001b[0m \u001b[32m33.7/33.7 MB\u001b[0m \u001b[31m10.1 MB/s\u001b[0m eta \u001b[36m0:00:00\u001b[0mm eta \u001b[36m0:00:01\u001b[0m0:01\u001b[0m:01\u001b[0m\n",
      "\u001b[?25hCollecting threadpoolctl>=2.0.0\n",
      "  Downloading threadpoolctl-3.1.0-py3-none-any.whl (14 kB)\n",
      "Building wheels for collected packages: sklearn\n",
      "  Building wheel for sklearn (setup.py) ... \u001b[?25ldone\n",
      "\u001b[?25h  Created wheel for sklearn: filename=sklearn-0.0-py2.py3-none-any.whl size=1310 sha256=5c64efff3ec4dc23ec46f41e459c1152d24cdcc8044b9b5412a28c6b5220b169\n",
      "  Stored in directory: /home/randell-crapy/.cache/pip/wheels/9b/13/01/6f3a7fd641f90e1f6c8c7cded057f3394f451f340371c68f3d\n",
      "Successfully built sklearn\n",
      "Installing collected packages: threadpoolctl, scipy, joblib, scikit-learn, sklearn\n",
      "Successfully installed joblib-1.2.0 scikit-learn-1.1.3 scipy-1.9.3 sklearn-0.0 threadpoolctl-3.1.0\n"
     ]
    }
   ],
   "source": [
    "!pip install sklearn"
   ]
  },
  {
   "cell_type": "code",
   "execution_count": 50,
   "metadata": {},
   "outputs": [],
   "source": [
    "from sklearn.preprocessing import MultiLabelBinarizer\n",
    "\n",
    "mlb = MultiLabelBinarizer(sparse_output=True)\n",
    "\n",
    "df = df.join(\n",
    "            pd.DataFrame.sparse.from_spmatrix(\n",
    "                mlb.fit_transform(df.pop(genre_col)),\n",
    "                index=df.index,\n",
    "                columns=mlb.classes_))"
   ]
  },
  {
   "cell_type": "code",
   "execution_count": 61,
   "metadata": {},
   "outputs": [
    {
     "data": {
      "text/plain": [
       "Index(['review_date', 'movie_id', 'user_id', 'is_spoiler', 'review_text',\n",
       "       'user_rating', 'review_summary', 'plot_summary', 'duration',\n",
       "       'movie_rating', 'release_date', 'plot_synopsis', 'r_has_links',\n",
       "       'Action', 'Adventure', 'Animation', 'Biography', 'Comedy', 'Crime',\n",
       "       'Drama', 'Family', 'Fantasy', 'Film-Noir', 'History', 'Horror', 'Music',\n",
       "       'Musical', 'Mystery', 'Romance', 'Sci-Fi', 'Sport', 'Thriller', 'War',\n",
       "       'Western'],\n",
       "      dtype='object')"
      ]
     },
     "execution_count": 61,
     "metadata": {},
     "output_type": "execute_result"
    }
   ],
   "source": [
    "df.columns"
   ]
  },
  {
   "cell_type": "code",
   "execution_count": 65,
   "metadata": {},
   "outputs": [],
   "source": [
    "OHE_COLS = ['Action', 'Adventure', 'Animation', 'Biography', 'Comedy', 'Crime',\n",
    "       'Drama', 'Family', 'Fantasy', 'Film-Noir', 'History', 'Horror', 'Music',\n",
    "       'Musical', 'Mystery', 'Romance', 'Sci-Fi', 'Sport', 'Thriller', 'War',\n",
    "       'Western']"
   ]
  },
  {
   "cell_type": "code",
   "execution_count": 66,
   "metadata": {},
   "outputs": [],
   "source": [
    "df[OHE_COLS]=df[OHE_COLS].sparse.to_dense()"
   ]
  },
  {
   "cell_type": "code",
   "execution_count": 69,
   "metadata": {
    "scrolled": true
   },
   "outputs": [
    {
     "data": {
      "text/html": [
       "<div>\n",
       "<style scoped>\n",
       "    .dataframe tbody tr th:only-of-type {\n",
       "        vertical-align: middle;\n",
       "    }\n",
       "\n",
       "    .dataframe tbody tr th {\n",
       "        vertical-align: top;\n",
       "    }\n",
       "\n",
       "    .dataframe thead th {\n",
       "        text-align: right;\n",
       "    }\n",
       "</style>\n",
       "<table border=\"1\" class=\"dataframe\">\n",
       "  <thead>\n",
       "    <tr style=\"text-align: right;\">\n",
       "      <th></th>\n",
       "      <th>review_date</th>\n",
       "      <th>movie_id</th>\n",
       "      <th>user_id</th>\n",
       "      <th>is_spoiler</th>\n",
       "      <th>review_text</th>\n",
       "      <th>user_rating</th>\n",
       "      <th>review_summary</th>\n",
       "      <th>plot_summary</th>\n",
       "      <th>duration</th>\n",
       "      <th>movie_rating</th>\n",
       "      <th>...</th>\n",
       "      <th>Horror</th>\n",
       "      <th>Music</th>\n",
       "      <th>Musical</th>\n",
       "      <th>Mystery</th>\n",
       "      <th>Romance</th>\n",
       "      <th>Sci-Fi</th>\n",
       "      <th>Sport</th>\n",
       "      <th>Thriller</th>\n",
       "      <th>War</th>\n",
       "      <th>Western</th>\n",
       "    </tr>\n",
       "  </thead>\n",
       "  <tbody>\n",
       "    <tr>\n",
       "      <th>0</th>\n",
       "      <td>10 February 2006</td>\n",
       "      <td>tt0111161</td>\n",
       "      <td>ur1898687</td>\n",
       "      <td>True</td>\n",
       "      <td>In its Oscar year, Shawshank Redemption (writt...</td>\n",
       "      <td>10</td>\n",
       "      <td>A classic piece of unforgettable film-making.</td>\n",
       "      <td>Chronicles the experiences of a formerly succe...</td>\n",
       "      <td>2h 22min</td>\n",
       "      <td>9.3</td>\n",
       "      <td>...</td>\n",
       "      <td>0</td>\n",
       "      <td>0</td>\n",
       "      <td>0</td>\n",
       "      <td>0</td>\n",
       "      <td>0</td>\n",
       "      <td>0</td>\n",
       "      <td>0</td>\n",
       "      <td>0</td>\n",
       "      <td>0</td>\n",
       "      <td>0</td>\n",
       "    </tr>\n",
       "    <tr>\n",
       "      <th>1</th>\n",
       "      <td>6 September 2000</td>\n",
       "      <td>tt0111161</td>\n",
       "      <td>ur0842118</td>\n",
       "      <td>True</td>\n",
       "      <td>The Shawshank Redemption is without a doubt on...</td>\n",
       "      <td>10</td>\n",
       "      <td>Simply amazing. The best film of the 90's.</td>\n",
       "      <td>Chronicles the experiences of a formerly succe...</td>\n",
       "      <td>2h 22min</td>\n",
       "      <td>9.3</td>\n",
       "      <td>...</td>\n",
       "      <td>0</td>\n",
       "      <td>0</td>\n",
       "      <td>0</td>\n",
       "      <td>0</td>\n",
       "      <td>0</td>\n",
       "      <td>0</td>\n",
       "      <td>0</td>\n",
       "      <td>0</td>\n",
       "      <td>0</td>\n",
       "      <td>0</td>\n",
       "    </tr>\n",
       "    <tr>\n",
       "      <th>2</th>\n",
       "      <td>3 August 2001</td>\n",
       "      <td>tt0111161</td>\n",
       "      <td>ur1285640</td>\n",
       "      <td>True</td>\n",
       "      <td>I believe that this film is the best story eve...</td>\n",
       "      <td>8</td>\n",
       "      <td>The best story ever told on film</td>\n",
       "      <td>Chronicles the experiences of a formerly succe...</td>\n",
       "      <td>2h 22min</td>\n",
       "      <td>9.3</td>\n",
       "      <td>...</td>\n",
       "      <td>0</td>\n",
       "      <td>0</td>\n",
       "      <td>0</td>\n",
       "      <td>0</td>\n",
       "      <td>0</td>\n",
       "      <td>0</td>\n",
       "      <td>0</td>\n",
       "      <td>0</td>\n",
       "      <td>0</td>\n",
       "      <td>0</td>\n",
       "    </tr>\n",
       "    <tr>\n",
       "      <th>3</th>\n",
       "      <td>1 September 2002</td>\n",
       "      <td>tt0111161</td>\n",
       "      <td>ur1003471</td>\n",
       "      <td>True</td>\n",
       "      <td>**Yes, there are SPOILERS here**This film has ...</td>\n",
       "      <td>10</td>\n",
       "      <td>Busy dying or busy living?</td>\n",
       "      <td>Chronicles the experiences of a formerly succe...</td>\n",
       "      <td>2h 22min</td>\n",
       "      <td>9.3</td>\n",
       "      <td>...</td>\n",
       "      <td>0</td>\n",
       "      <td>0</td>\n",
       "      <td>0</td>\n",
       "      <td>0</td>\n",
       "      <td>0</td>\n",
       "      <td>0</td>\n",
       "      <td>0</td>\n",
       "      <td>0</td>\n",
       "      <td>0</td>\n",
       "      <td>0</td>\n",
       "    </tr>\n",
       "    <tr>\n",
       "      <th>4</th>\n",
       "      <td>20 May 2004</td>\n",
       "      <td>tt0111161</td>\n",
       "      <td>ur0226855</td>\n",
       "      <td>True</td>\n",
       "      <td>At the heart of this extraordinary movie is a ...</td>\n",
       "      <td>8</td>\n",
       "      <td>Great story, wondrously told and acted</td>\n",
       "      <td>Chronicles the experiences of a formerly succe...</td>\n",
       "      <td>2h 22min</td>\n",
       "      <td>9.3</td>\n",
       "      <td>...</td>\n",
       "      <td>0</td>\n",
       "      <td>0</td>\n",
       "      <td>0</td>\n",
       "      <td>0</td>\n",
       "      <td>0</td>\n",
       "      <td>0</td>\n",
       "      <td>0</td>\n",
       "      <td>0</td>\n",
       "      <td>0</td>\n",
       "      <td>0</td>\n",
       "    </tr>\n",
       "  </tbody>\n",
       "</table>\n",
       "<p>5 rows × 34 columns</p>\n",
       "</div>"
      ],
      "text/plain": [
       "        review_date   movie_id    user_id  is_spoiler  \\\n",
       "0  10 February 2006  tt0111161  ur1898687        True   \n",
       "1  6 September 2000  tt0111161  ur0842118        True   \n",
       "2     3 August 2001  tt0111161  ur1285640        True   \n",
       "3  1 September 2002  tt0111161  ur1003471        True   \n",
       "4       20 May 2004  tt0111161  ur0226855        True   \n",
       "\n",
       "                                         review_text  user_rating  \\\n",
       "0  In its Oscar year, Shawshank Redemption (writt...           10   \n",
       "1  The Shawshank Redemption is without a doubt on...           10   \n",
       "2  I believe that this film is the best story eve...            8   \n",
       "3  **Yes, there are SPOILERS here**This film has ...           10   \n",
       "4  At the heart of this extraordinary movie is a ...            8   \n",
       "\n",
       "                                  review_summary  \\\n",
       "0  A classic piece of unforgettable film-making.   \n",
       "1     Simply amazing. The best film of the 90's.   \n",
       "2               The best story ever told on film   \n",
       "3                     Busy dying or busy living?   \n",
       "4         Great story, wondrously told and acted   \n",
       "\n",
       "                                        plot_summary  duration  movie_rating  \\\n",
       "0  Chronicles the experiences of a formerly succe...  2h 22min           9.3   \n",
       "1  Chronicles the experiences of a formerly succe...  2h 22min           9.3   \n",
       "2  Chronicles the experiences of a formerly succe...  2h 22min           9.3   \n",
       "3  Chronicles the experiences of a formerly succe...  2h 22min           9.3   \n",
       "4  Chronicles the experiences of a formerly succe...  2h 22min           9.3   \n",
       "\n",
       "   ... Horror Music  Musical  Mystery  Romance  Sci-Fi  Sport  Thriller  War  \\\n",
       "0  ...      0     0        0        0        0       0      0         0    0   \n",
       "1  ...      0     0        0        0        0       0      0         0    0   \n",
       "2  ...      0     0        0        0        0       0      0         0    0   \n",
       "3  ...      0     0        0        0        0       0      0         0    0   \n",
       "4  ...      0     0        0        0        0       0      0         0    0   \n",
       "\n",
       "   Western  \n",
       "0        0  \n",
       "1        0  \n",
       "2        0  \n",
       "3        0  \n",
       "4        0  \n",
       "\n",
       "[5 rows x 34 columns]"
      ]
     },
     "execution_count": 69,
     "metadata": {},
     "output_type": "execute_result"
    }
   ],
   "source": [
    "df.head()"
   ]
  },
  {
   "cell_type": "code",
   "execution_count": 57,
   "metadata": {},
   "outputs": [
    {
     "data": {
      "text/plain": [
       "0    527129\n",
       "1     46784\n",
       "Name: Horror, dtype: int64"
      ]
     },
     "execution_count": 57,
     "metadata": {},
     "output_type": "execute_result"
    }
   ],
   "source": [
    "df['Horror'].value_counts()"
   ]
  },
  {
   "cell_type": "code",
   "execution_count": 72,
   "metadata": {
    "collapsed": true
   },
   "outputs": [
    {
     "name": "stdout",
     "output_type": "stream",
     "text": [
      "col: Action\n",
      "190717\n",
      "col: Adventure\n",
      "187293\n",
      "col: Animation\n",
      "26597\n",
      "col: Biography\n",
      "33107\n",
      "col: Comedy\n",
      "135973\n",
      "col: Crime\n",
      "109670\n",
      "col: Drama\n",
      "289367\n",
      "col: Family\n",
      "39559\n",
      "col: Fantasy\n",
      "77098\n",
      "col: Film-Noir\n",
      "1791\n",
      "col: History\n",
      "24039\n",
      "col: Horror\n",
      "46784\n",
      "col: Music\n",
      "8756\n",
      "col: Musical\n",
      "5518\n",
      "col: Mystery\n",
      "64051\n",
      "col: Romance\n",
      "68301\n",
      "col: Sci-Fi\n",
      "95550\n",
      "col: Sport\n",
      "8384\n",
      "col: Thriller\n",
      "95223\n",
      "col: War\n",
      "10228\n",
      "col: Western\n",
      "4741\n"
     ]
    }
   ],
   "source": [
    "# Getting freq of different genres\n",
    "OHE_freqs = {}\n",
    "for col in OHE_COLS:\n",
    "    print(f\"col: {col}\")\n",
    "    print(len(df[df[col]==1]))\n",
    "    OHE_freqs[col] = len(df[df[col]==1])"
   ]
  },
  {
   "cell_type": "code",
   "execution_count": 74,
   "metadata": {},
   "outputs": [
    {
     "data": {
      "text/plain": [
       "{'Action': 190717,\n",
       " 'Adventure': 187293,\n",
       " 'Animation': 26597,\n",
       " 'Biography': 33107,\n",
       " 'Comedy': 135973,\n",
       " 'Crime': 109670,\n",
       " 'Drama': 289367,\n",
       " 'Family': 39559,\n",
       " 'Fantasy': 77098,\n",
       " 'Film-Noir': 1791,\n",
       " 'History': 24039,\n",
       " 'Horror': 46784,\n",
       " 'Music': 8756,\n",
       " 'Musical': 5518,\n",
       " 'Mystery': 64051,\n",
       " 'Romance': 68301,\n",
       " 'Sci-Fi': 95550,\n",
       " 'Sport': 8384,\n",
       " 'Thriller': 95223,\n",
       " 'War': 10228,\n",
       " 'Western': 4741}"
      ]
     },
     "execution_count": 74,
     "metadata": {},
     "output_type": "execute_result"
    }
   ],
   "source": [
    "# df_ohe = pd.DataFrame.from_dict(OHE_freqs)\n",
    "# df_ohe.head()\n",
    "OHE_freqs"
   ]
  },
  {
   "cell_type": "code",
   "execution_count": 76,
   "metadata": {},
   "outputs": [
    {
     "data": {
      "text/plain": [
       "([<matplotlib.patches.Wedge at 0x7fb5b033eda0>,\n",
       "  <matplotlib.patches.Wedge at 0x7fb5b033f3d0>,\n",
       "  <matplotlib.patches.Wedge at 0x7fb5b033fa60>,\n",
       "  <matplotlib.patches.Wedge at 0x7fb5b0368130>,\n",
       "  <matplotlib.patches.Wedge at 0x7fb5b03687c0>,\n",
       "  <matplotlib.patches.Wedge at 0x7fb5b0368e50>,\n",
       "  <matplotlib.patches.Wedge at 0x7fb5b03694e0>,\n",
       "  <matplotlib.patches.Wedge at 0x7fb5b0369b70>,\n",
       "  <matplotlib.patches.Wedge at 0x7fb5b036a200>,\n",
       "  <matplotlib.patches.Wedge at 0x7fb5b036a890>,\n",
       "  <matplotlib.patches.Wedge at 0x7fb5b033ed70>,\n",
       "  <matplotlib.patches.Wedge at 0x7fb5b036b580>,\n",
       "  <matplotlib.patches.Wedge at 0x7fb5b036bc10>,\n",
       "  <matplotlib.patches.Wedge at 0x7fb5b03e02e0>,\n",
       "  <matplotlib.patches.Wedge at 0x7fb5b03e0970>,\n",
       "  <matplotlib.patches.Wedge at 0x7fb5b03e1000>,\n",
       "  <matplotlib.patches.Wedge at 0x7fb5b03e1690>,\n",
       "  <matplotlib.patches.Wedge at 0x7fb5b03e1d20>,\n",
       "  <matplotlib.patches.Wedge at 0x7fb5b03e23b0>,\n",
       "  <matplotlib.patches.Wedge at 0x7fb5b03e2a40>,\n",
       "  <matplotlib.patches.Wedge at 0x7fb5b03e30d0>],\n",
       " [Text(1.0159427019983986, 0.4217350190062397, 'Action'),\n",
       "  Text(0.42577590676535704, 1.0142558243451887, 'Adventure'),\n",
       "  Text(-0.0481949634865087, 1.0989436953249854, 'Animation'),\n",
       "  Text(-0.18285109033780295, 1.0846960305828894, 'Biography'),\n",
       "  Text(-0.5425864590739773, 0.95686986284947, 'Comedy'),\n",
       "  Text(-0.9388251652711909, 0.5732428011353665, 'Crime'),\n",
       "  Text(-1.0586430695569582, -0.2987889744937415, 'Drama'),\n",
       "  Text(-0.6365430702158544, -0.8971136604467541, 'Family'),\n",
       "  Text(-0.40436065656722603, -1.0229821403233401, 'Fantasy'),\n",
       "  Text(-0.23325379052722667, -1.074984962315604, 'Film-Noir'),\n",
       "  Text(-0.17566372343500386, -1.0858831687934714, 'History'),\n",
       "  Text(-0.01569142454554369, -1.0998880757584981, 'Horror'),\n",
       "  Text(0.11016660516389327, -1.0944694235594994, 'Music'),\n",
       "  Text(0.14234500720561682, -1.090751071016496, 'Musical'),\n",
       "  Text(0.29689814528930747, -1.0591749106374118, 'Mystery'),\n",
       "  Text(0.5715324653151461, -0.939867352923162, 'Romance'),\n",
       "  Text(0.8508854710961166, -0.6971326380808317, 'Sci-Fi'),\n",
       "  Text(0.9797401431169557, -0.5001092400317828, 'Sport'),\n",
       "  Text(1.0635304248051463, -0.28089684140941407, 'Thriller'),\n",
       "  Text(1.0990906696903744, -0.044718003081137304, 'War'),\n",
       "  Text(1.099947380222913, -0.010759216549119108, 'Western')],\n",
       " [Text(0.5541505647263991, 0.23003728309431254, '12.52%'),\n",
       "  Text(0.2322414036901947, 0.5532304496428301, '12.30%'),\n",
       "  Text(-0.026288161901732016, 0.5994238338136283, '1.75%'),\n",
       "  Text(-0.09973695836607432, 0.5916523803179397, '2.17%'),\n",
       "  Text(-0.2959562504039876, 0.5219290160997108, '8.93%'),\n",
       "  Text(-0.5120864537842859, 0.3126778915283817, '7.20%'),\n",
       "  Text(-0.5774416743037952, -0.16297580426931352, '19.00%'),\n",
       "  Text(-0.34720531102682967, -0.4893347238800476, '2.60%'),\n",
       "  Text(-0.22056035812757782, -0.5579902583581855, '5.06%'),\n",
       "  Text(-0.12722934028757815, -0.5863554339903294, '0.12%'),\n",
       "  Text(-0.095816576419093, -0.5922999102509844, '1.58%'),\n",
       "  Text(-0.00855895884302383, -0.5999389504137261, '3.07%'),\n",
       "  Text(0.06009087554394178, -0.5969833219415451, '0.58%'),\n",
       "  Text(0.07764273120306371, -0.5949551296453615, '0.36%'),\n",
       "  Text(0.16194444288507678, -0.5777317694385882, '4.21%'),\n",
       "  Text(0.31174498108098875, -0.5126549197762701, '4.49%'),\n",
       "  Text(0.464119347870609, -0.38025416622590813, '6.27%'),\n",
       "  Text(0.5344037144274303, -0.2727868581991542, '0.55%'),\n",
       "  Text(0.5801075044391706, -0.15321645895058947, '6.25%'),\n",
       "  Text(0.5995040016492951, -0.02439163804425671, '0.67%'),\n",
       "  Text(0.599971298303407, -0.005868663572246785, '0.31%')])"
      ]
     },
     "execution_count": 76,
     "metadata": {},
     "output_type": "execute_result"
    },
    {
     "data": {
      "image/png": "[encoded data removed]",
      "text/plain": [
       "<Figure size 432x288 with 1 Axes>"
      ]
     },
     "metadata": {},
     "output_type": "display_data"
    }
   ],
   "source": [
    "plt.pie(OHE_freqs.values(), labels=OHE_COLS, autopct='%.2f%%')"
   ]
  },
  {
   "cell_type": "code",
   "execution_count": 77,
   "metadata": {},
   "outputs": [],
   "source": [
    "spoiler_df = df[df['is_spoiler'] == True]\n",
    "no_spoiler_df = df[df['is_spoiler'] == False]"
   ]
  },
  {
   "cell_type": "code",
   "execution_count": 82,
   "metadata": {},
   "outputs": [],
   "source": [
    "def get_ohe_freq(df):\n",
    "    # Getting freq of different genres\n",
    "    OHE_freqs = {}\n",
    "    for col in OHE_COLS:\n",
    "#         print(f\"col: {col}\")\n",
    "#         print(len(df[df[col]==1]))\n",
    "        OHE_freqs[col] = len(df[df[col]==1])\n",
    "    return OHE_freqs"
   ]
  },
  {
   "cell_type": "code",
   "execution_count": 83,
   "metadata": {},
   "outputs": [],
   "source": [
    "spoiler_freqs = get_ohe_freq(spoiler_df)\n",
    "no_spoiler_freqs = get_ohe_freq(no_spoiler_df)"
   ]
  },
  {
   "cell_type": "code",
   "execution_count": 84,
   "metadata": {},
   "outputs": [
    {
     "data": {
      "text/plain": [
       "([<matplotlib.patches.Wedge at 0x7fb5afdf7070>,\n",
       "  <matplotlib.patches.Wedge at 0x7fb5afdf7700>,\n",
       "  <matplotlib.patches.Wedge at 0x7fb5afdf7d90>,\n",
       "  <matplotlib.patches.Wedge at 0x7fb5afe58460>,\n",
       "  <matplotlib.patches.Wedge at 0x7fb5afe58af0>,\n",
       "  <matplotlib.patches.Wedge at 0x7fb5afe59180>,\n",
       "  <matplotlib.patches.Wedge at 0x7fb5afe59810>,\n",
       "  <matplotlib.patches.Wedge at 0x7fb5afe59ea0>,\n",
       "  <matplotlib.patches.Wedge at 0x7fb5afe5a530>,\n",
       "  <matplotlib.patches.Wedge at 0x7fb5afe5abc0>,\n",
       "  <matplotlib.patches.Wedge at 0x7fb5afdf7040>,\n",
       "  <matplotlib.patches.Wedge at 0x7fb5afe5b8b0>,\n",
       "  <matplotlib.patches.Wedge at 0x7fb5afe5bf40>,\n",
       "  <matplotlib.patches.Wedge at 0x7fb5afc10610>,\n",
       "  <matplotlib.patches.Wedge at 0x7fb5afc10ca0>,\n",
       "  <matplotlib.patches.Wedge at 0x7fb5afc11330>,\n",
       "  <matplotlib.patches.Wedge at 0x7fb5afc119c0>,\n",
       "  <matplotlib.patches.Wedge at 0x7fb5afc12050>,\n",
       "  <matplotlib.patches.Wedge at 0x7fb5afc126e0>,\n",
       "  <matplotlib.patches.Wedge at 0x7fb5afc12d70>,\n",
       "  <matplotlib.patches.Wedge at 0x7fb5afc13400>],\n",
       " [Text(1.0054408267238386, 0.44619361711804456, 'Action'),\n",
       "  Text(0.3450350012198785, 1.0444859251963134, 'Adventure'),\n",
       "  Text(-0.16472018340490766, 1.087597012306973, 'Animation'),\n",
       "  Text(-0.28831607655183605, 1.0615431409046718, 'Biography'),\n",
       "  Text(-0.5789920841344582, 0.9352904182710505, 'Comedy'),\n",
       "  Text(-0.9201120154579834, 0.6028215979954998, 'Crime'),\n",
       "  Text(-1.0770653773349135, -0.22345060516006807, 'Drama'),\n",
       "  Text(-0.7154016691730404, -0.8355838986866776, 'Family'),\n",
       "  Text(-0.48539953939403313, -0.9871105749388266, 'Fantasy'),\n",
       "  Text(-0.30939897716062204, -1.0555909590991963, 'Film-Noir'),\n",
       "  Text(-0.2587088914646387, -1.0691443819602373, 'History'),\n",
       "  Text(-0.0944140968390283, -1.09594068193405, 'Horror'),\n",
       "  Text(0.03943791657861494, -1.099292795726388, 'Music'),\n",
       "  Text(0.06462408426400679, -1.0981000536076113, 'Musical'),\n",
       "  Text(0.23053612298933232, -1.0755710557638893, 'Mystery'),\n",
       "  Text(0.5079729805886428, -0.9756861436916539, 'Romance'),\n",
       "  Text(0.8163981296604086, -0.7372205191711547, 'Sci-Fi'),\n",
       "  Text(0.9717144502940466, -0.5155298508231497, 'Sport'),\n",
       "  Text(1.0616804527416555, -0.2878100350340022, 'Thriller'),\n",
       "  Text(1.0992057726452211, -0.04179317388548986, 'War'),\n",
       "  Text(1.0999517227123614, -0.010305712110688378, 'Western')],\n",
       " [Text(0.5484222691220938, 0.24337833660984245, '13.29%'),\n",
       "  Text(0.18820090975629736, 0.5697195955616254, '13.25%'),\n",
       "  Text(-0.08984737276631326, 0.5932347339856215, '1.69%'),\n",
       "  Text(-0.15726331448281963, 0.5790235314025483, '1.97%'),\n",
       "  Text(-0.31581386407334083, 0.5101584099660276, '7.23%'),\n",
       "  Text(-0.5018792811588999, 0.3288117807248181, '6.66%'),\n",
       "  Text(-0.5874902058190437, -0.12188214826912802, '18.31%'),\n",
       "  Text(-0.39021909227620377, -0.4557730356472786, '2.64%'),\n",
       "  Text(-0.26476338512401804, -0.5384239499666326, '5.35%'),\n",
       "  Text(-0.16876307845124838, -0.5757768867813797, '0.12%'),\n",
       "  Text(-0.14111394079889383, -0.5831696628874021, '1.40%'),\n",
       "  Text(-0.051498598275833606, -0.5977858265094818, '3.42%'),\n",
       "  Text(0.02151159086106269, -0.5996142522143935, '0.45%'),\n",
       "  Text(0.03524950050764006, -0.5989636656041515, '0.28%'),\n",
       "  Text(0.12574697617599942, -0.5866751213257578, '4.57%'),\n",
       "  Text(0.2770761712301688, -0.5321924420136293, '3.98%'),\n",
       "  Text(0.4453080707238592, -0.4021202831842662, '7.36%'),\n",
       "  Text(0.5300260637967527, -0.2811981004489907, '0.50%'),\n",
       "  Text(0.5790984287681756, -0.15698729183672847, '6.60%'),\n",
       "  Text(0.5995667850792115, -0.02279627666481265, '0.61%'),\n",
       "  Text(0.5999736669340153, -0.005621297514920933, '0.30%')])"
      ]
     },
     "execution_count": 84,
     "metadata": {},
     "output_type": "execute_result"
    },
    {
     "data": {
      "image/png": "[encoded data removed]",
      "text/plain": [
       "<Figure size 432x288 with 1 Axes>"
      ]
     },
     "metadata": {},
     "output_type": "display_data"
    }
   ],
   "source": [
    "plt.pie(spoiler_freqs.values(), labels=OHE_COLS, autopct='%.2f%%')"
   ]
  },
  {
   "cell_type": "code",
   "execution_count": 85,
   "metadata": {},
   "outputs": [
    {
     "data": {
      "text/plain": [
       "([<matplotlib.patches.Wedge at 0x7fb5afb3c760>,\n",
       "  <matplotlib.patches.Wedge at 0x7fb5afb3cc70>,\n",
       "  <matplotlib.patches.Wedge at 0x7fb5afb3ceb0>,\n",
       "  <matplotlib.patches.Wedge at 0x7fb5afb3d540>,\n",
       "  <matplotlib.patches.Wedge at 0x7fb5afb3dbd0>,\n",
       "  <matplotlib.patches.Wedge at 0x7fb5afb3e260>,\n",
       "  <matplotlib.patches.Wedge at 0x7fb5afb3e8f0>,\n",
       "  <matplotlib.patches.Wedge at 0x7fb5afb3ef80>,\n",
       "  <matplotlib.patches.Wedge at 0x7fb5afb3f610>,\n",
       "  <matplotlib.patches.Wedge at 0x7fb5afb3fca0>,\n",
       "  <matplotlib.patches.Wedge at 0x7fb5afb3c730>,\n",
       "  <matplotlib.patches.Wedge at 0x7fb5afbf09d0>,\n",
       "  <matplotlib.patches.Wedge at 0x7fb5afbf1060>,\n",
       "  <matplotlib.patches.Wedge at 0x7fb5afbf16f0>,\n",
       "  <matplotlib.patches.Wedge at 0x7fb5afbf1d80>,\n",
       "  <matplotlib.patches.Wedge at 0x7fb5afbf2410>,\n",
       "  <matplotlib.patches.Wedge at 0x7fb5afbf2aa0>,\n",
       "  <matplotlib.patches.Wedge at 0x7fb5afbf3130>,\n",
       "  <matplotlib.patches.Wedge at 0x7fb5afbf37c0>,\n",
       "  <matplotlib.patches.Wedge at 0x7fb5afbf3e50>,\n",
       "  <matplotlib.patches.Wedge at 0x7fb5af878520>],\n",
       " [Text(1.0196062575088238, 0.4127990790310104, 'Action'),\n",
       "  Text(0.4544494418429352, 1.0017363449574168, 'Adventure'),\n",
       "  Text(-0.005712411949965616, 1.0999851673316845, 'Animation'),\n",
       "  Text(-0.14409650794839218, 1.0905210664618448, 'Biography'),\n",
       "  Text(-0.5291763056115091, 0.964350785544013, 'Comedy'),\n",
       "  Text(-0.9453807172738874, 0.5623658056876418, 'Crime'),\n",
       "  Text(-1.0506522464870973, -0.3257757771099866, 'Drama'),\n",
       "  Text(-0.6065944119049065, -0.9176291295756368, 'Family'),\n",
       "  Text(-0.3742806919921412, -1.0343664551801186, 'Fantasy'),\n",
       "  Text(-0.20531159085468823, -1.0806697694766507, 'Film-Noir'),\n",
       "  Text(-0.14524925077427253, -1.0903681282711415, 'History'),\n",
       "  Text(0.012912257840722157, -1.0999242126607882, 'Horror'),\n",
       "  Text(0.13573096232083495, -1.0915938374081544, 'Music'),\n",
       "  Text(0.1703872594879927, -1.0867235995432194, 'Musical'),\n",
       "  Text(0.32070579153628853, -1.0522109081714952, 'Mystery'),\n",
       "  Text(0.5939861769219336, -0.9258403866896634, 'Romance'),\n",
       "  Text(0.8629162218306977, -0.6821844282167647, 'Sci-Fi'),\n",
       "  Text(0.9825917185547572, -0.49448307820147785, 'Sport'),\n",
       "  Text(1.0641905494333266, -0.2783854782433788, 'Thriller'),\n",
       "  Text(1.0990469900047886, -0.045778966364635035, 'War'),\n",
       "  Text(1.0999457599874476, -0.01092360222804828, 'Western')],\n",
       " [Text(0.5561488677320856, 0.22516313401691473, '12.25%'),\n",
       "  Text(0.24788151373251008, 0.5464016427040455, '11.95%'),\n",
       "  Text(-0.0031158610636176083, 0.599991909453646, '1.77%'),\n",
       "  Text(-0.07859809524457755, 0.5948296726155516, '2.25%'),\n",
       "  Text(-0.2886416212426413, 0.5260095193876434, '9.55%'),\n",
       "  Text(-0.5156622094221204, 0.30674498492053187, '7.40%'),\n",
       "  Text(-0.5730830435384167, -0.17769587842362905, '19.25%'),\n",
       "  Text(-0.3308696792208581, -0.500524979768529, '2.58%'),\n",
       "  Text(-0.2041531047229861, -0.564199884643701, '4.96%'),\n",
       "  Text(-0.11198814046619357, -0.5894562378963548, '0.12%'),\n",
       "  Text(-0.0792268640586941, -0.594746251784259, '1.64%'),\n",
       "  Text(0.007043049731302994, -0.5999586614513389, '2.94%'),\n",
       "  Text(0.07403507035681905, -0.5954148204044478, '0.62%'),\n",
       "  Text(0.09293850517526872, -0.5927583270235742, '0.39%'),\n",
       "  Text(0.17493043174706643, -0.5739332226389974, '4.07%'),\n",
       "  Text(0.3239924601392365, -0.5050038472852709, '4.67%'),\n",
       "  Text(0.4706815755440169, -0.3721005972091444, '5.88%'),\n",
       "  Text(0.5359591192116857, -0.26971804265535154, '0.57%'),\n",
       "  Text(0.580467572418178, -0.1518466244963884, '6.13%'),\n",
       "  Text(0.5994801763662483, -0.024970345289800924, '0.69%'),\n",
       "  Text(0.5999704145386077, -0.0059583284880263335, '0.32%')])"
      ]
     },
     "execution_count": 85,
     "metadata": {},
     "output_type": "execute_result"
    },
    {
     "data": {
      "image/png": "[encoded data removed]",
      "text/plain": [
       "<Figure size 432x288 with 1 Axes>"
      ]
     },
     "metadata": {},
     "output_type": "display_data"
    }
   ],
   "source": [
    "plt.pie(no_spoiler_freqs.values(), labels=OHE_COLS, autopct='%.2f%%')"
   ]
  },
  {
   "cell_type": "markdown",
   "metadata": {},
   "source": [
    "Can conclude roughly unaffected "
   ]
  },
  {
   "cell_type": "markdown",
   "metadata": {},
   "source": [
    "## Analyzing length of reviews. \n",
    "\n",
    "Probably using histograms, TBC because intuitively doesn't matter"
   ]
  },
  {
   "cell_type": "markdown",
   "metadata": {
    "id": "QQAB07az8hH0"
   },
   "source": [
    "# Data processing"
   ]
  },
  {
   "cell_type": "markdown",
   "metadata": {
    "id": "bt3ojDXo3lYu"
   },
   "source": [
    "Fisrt, we will check for missing data."
   ]
  },
  {
   "cell_type": "code",
   "execution_count": 78,
   "metadata": {
    "id": "-eo4u3zo3gvY"
   },
   "outputs": [
    {
     "name": "stdout",
     "output_type": "stream",
     "text": [
      "Missing data in user reviews dataset\n",
      "                Count  Percentage\n",
      "review_date     0      0.0       \n",
      "movie_id        0      0.0       \n",
      "user_id         0      0.0       \n",
      "is_spoiler      0      0.0       \n",
      "review_text     0      0.0       \n",
      "rating          0      0.0       \n",
      "review_summary  0      0.0       \n"
     ]
    }
   ],
   "source": [
    "count = df_reviews.isnull().sum().sort_values(ascending = False)\n",
    "percentage = ((df_reviews.isnull().sum() / len(df_reviews) * 100)).sort_values(ascending = False)\n",
    "missing_data = pd.concat([count,percentage] ,axis = 1, keys = ['Count', 'Percentage'])\n",
    "\n",
    "print('Missing data in user reviews dataset')\n",
    "print(missing_data)"
   ]
  },
  {
   "cell_type": "markdown",
   "metadata": {
    "id": "xv9JfkHrAM2O"
   },
   "source": [
    "From the output above, there is no missing value in the user reviews dataset."
   ]
  },
  {
   "cell_type": "code",
   "execution_count": 71,
   "metadata": {
    "id": "Xv-i88EjfQTV"
   },
   "outputs": [
    {
     "name": "stdout",
     "output_type": "stream",
     "text": [
      "Missing data in movie details dataset\n",
      "               Count  Percentage\n",
      "movie_id       0      0.0       \n",
      "plot_summary   0      0.0       \n",
      "duration       0      0.0       \n",
      "genre          0      0.0       \n",
      "rating         0      0.0       \n",
      "release_date   0      0.0       \n",
      "plot_synopsis  0      0.0       \n"
     ]
    }
   ],
   "source": [
    "count = df_movie_details.isnull().sum().sort_values(ascending = False)\n",
    "percentage = ((df_movie_details.isnull().sum() / len(df_movie_details) * 100)).sort_values(ascending = False)\n",
    "missing_data = pd.concat([count,percentage] ,axis = 1, keys = ['Count','Percentage'])\n",
    "\n",
    "print('Missing data in movie details dataset')\n",
    "print(missing_data)"
   ]
  },
  {
   "cell_type": "markdown",
   "metadata": {
    "id": "P5dlWo3Mfl7K"
   },
   "source": [
    "From the above output, we do not have missing value for the movie details dataset too."
   ]
  },
  {
   "cell_type": "code",
   "execution_count": 72,
   "metadata": {
    "id": "NFgb3c_c15Dq"
   },
   "outputs": [
    {
     "name": "stdout",
     "output_type": "stream",
     "text": [
      "Missing data in merged dataset\n",
      "                Count  Percentage\n",
      "review_date     0      0.0       \n",
      "movie_id        0      0.0       \n",
      "user_id         0      0.0       \n",
      "is_spoiler      0      0.0       \n",
      "review_text     0      0.0       \n",
      "user_rating     0      0.0       \n",
      "review_summary  0      0.0       \n",
      "plot_summary    0      0.0       \n",
      "duration        0      0.0       \n",
      "genre           0      0.0       \n",
      "movie_rating    0      0.0       \n",
      "release_date    0      0.0       \n",
      "plot_synopsis   0      0.0       \n"
     ]
    }
   ],
   "source": [
    "count = df.isnull().sum().sort_values(ascending = False)\n",
    "percentage = ((df.isnull().sum() / len(df) * 100)).sort_values(ascending = False)\n",
    "missing_data = pd.concat([count,percentage] ,axis = 1, keys = ['Count','Percentage'])\n",
    "\n",
    "print('Missing data in merged dataset')\n",
    "print(missing_data)"
   ]
  },
  {
   "cell_type": "markdown",
   "metadata": {
    "id": "nSRkv5C7HU1T"
   },
   "source": [
    "Find if there is any relationship between the user ratings and spoiler by plotting a bar graph."
   ]
  },
  {
   "cell_type": "code",
   "execution_count": 73,
   "metadata": {
    "id": "2hYLtPiK80HW"
   },
   "outputs": [
    {
     "data": {
      "image/png": "[encoded data removed]",
      "text/plain": [
       "<Figure size 432x288 with 1 Axes>"
      ]
     },
     "metadata": {
      "needs_background": "light"
     },
     "output_type": "display_data"
    }
   ],
   "source": [
    "import matplotlib.pyplot as plt\n",
    "\n",
    "group = df.groupby('user_rating')\n",
    "\n",
    "group_is_spoiler = df[df['is_spoiler'] == True].groupby('user_rating')\n",
    "total_review_for_vote = group.size() # Get the number of reviews foreach vote\n",
    "total_spoiler_for_vote = group_is_spoiler.size() # Get the number of spoiler review foreach vote\n",
    "percentage = ((total_spoiler_for_vote / total_review_for_vote) * 100)\n",
    "\n",
    "# Print % graph\n",
    "\n",
    "y_axis = ['1', '2', '3', '4', '5', '6', '7', '8', '9', '10']\n",
    "x_axis = percentage.tolist()\n",
    "\n",
    "plt.barh(y_axis, x_axis,color = ['red','cyan','blue','purple','lime','magenta','orange','brown','silver','Green'])\n",
    "plt.xlim(0,100)\n",
    "plt.title('Percentage of spoiler reviews per user rating')\n",
    "plt.ylabel('User Ratings')\n",
    "plt.xlabel('Percentages')\n",
    "plt.show()"
   ]
  },
  {
   "cell_type": "markdown",
   "metadata": {
    "id": "GDikcmrbHQn4"
   },
   "source": [
    "From the above bar graph, it seems that lower user ratings have a higher spoiler rate."
   ]
  },
  {
   "cell_type": "markdown",
   "metadata": {
    "id": "8Yar4XPq8UO3"
   },
   "source": [
    "Find is there is any relationship between movie rating and spoilers."
   ]
  },
  {
   "cell_type": "code",
   "execution_count": 74,
   "metadata": {
    "id": "5FmLrWQG8OaA"
   },
   "outputs": [
    {
     "data": {
      "text/plain": [
       "<AxesSubplot: xlabel='movie_rating', ylabel='Count'>"
      ]
     },
     "execution_count": 74,
     "metadata": {},
     "output_type": "execute_result"
    },
    {
     "data": {
      "image/png": "[encoded data removed]",
      "text/plain": [
       "<Figure size 432x288 with 1 Axes>"
      ]
     },
     "metadata": {
      "needs_background": "light"
     },
     "output_type": "display_data"
    }
   ],
   "source": [
    "import seaborn as sns\n",
    "\n",
    "group = df.groupby('movie_rating')\n",
    "group_is_spoiler = df[df['is_spoiler'] == True].groupby('movie_rating')\n",
    "\n",
    "total_review_for_vote = group.size()        \n",
    "total_spoiler_for_vote = group_is_spoiler.size()   \n",
    "percentage = ((total_spoiler_for_vote / totaly_axis_review_for_vote) * 100)\n",
    "\n",
    "# plt.barh(df['movie_rating'].unique(), percentage)\n",
    "# plt.xlim(0, 100)\n",
    "# plt.title('Percentage of spoiler reviews per movie rating')\n",
    "# plt.ylabel('Movie Ratings')\n",
    "# plt.xlabel('Percentages')\n",
    "# plt.show()\n",
    "\n",
    "# plt.hist(percentage, density = True)\n",
    "\n",
    "sns.histplot(data = df, x = 'movie_rating', hue = 'is_spoiler', multiple = 'stack')"
   ]
  },
  {
   "cell_type": "markdown",
   "metadata": {},
   "source": [
    "Seems like movie rating has an inverse relationship with user rating in relation to their frequency of spoilers."
   ]
  },
  {
   "cell_type": "markdown",
   "metadata": {
    "id": "XeShUepDElLG"
   },
   "source": [
    "Analysis the review_text columns. <br>\n",
    "Identify the reviews that contains the word 'spoiler' and find the relationship between spoilers."
   ]
  },
  {
   "cell_type": "code",
   "execution_count": 75,
   "metadata": {
    "id": "5BmMd91QEFH4"
   },
   "outputs": [],
   "source": [
    "def contains_word(word, df):\n",
    "  col_name = 'contains_word_' + word\n",
    "  df[col_name] = df['review_text'].apply(lambda text: word in text.upper())\n",
    "  return df"
   ]
  },
  {
   "cell_type": "code",
   "execution_count": 77,
   "metadata": {
    "colab": {
     "base_uri": "https://localhost:8080/",
     "height": 565
    },
    "id": "MNbVRvtYWmnV",
    "outputId": "3f1321d0-931d-4155-d151-b77e7264db6b",
    "scrolled": false
   },
   "outputs": [
    {
     "data": {
      "text/html": [
       "<div>\n",
       "<style scoped>\n",
       "    .dataframe tbody tr th:only-of-type {\n",
       "        vertical-align: middle;\n",
       "    }\n",
       "\n",
       "    .dataframe tbody tr th {\n",
       "        vertical-align: top;\n",
       "    }\n",
       "\n",
       "    .dataframe thead th {\n",
       "        text-align: right;\n",
       "    }\n",
       "</style>\n",
       "<table border=\"1\" class=\"dataframe\">\n",
       "  <thead>\n",
       "    <tr style=\"text-align: right;\">\n",
       "      <th></th>\n",
       "      <th>user_rating</th>\n",
       "      <th>movie_rating</th>\n",
       "    </tr>\n",
       "  </thead>\n",
       "  <tbody>\n",
       "    <tr>\n",
       "      <th>count</th>\n",
       "      <td>573913.000000</td>\n",
       "      <td>573913.000000</td>\n",
       "    </tr>\n",
       "    <tr>\n",
       "      <th>mean</th>\n",
       "      <td>6.954254</td>\n",
       "      <td>7.293664</td>\n",
       "    </tr>\n",
       "    <tr>\n",
       "      <th>std</th>\n",
       "      <td>2.956295</td>\n",
       "      <td>0.959343</td>\n",
       "    </tr>\n",
       "    <tr>\n",
       "      <th>min</th>\n",
       "      <td>1.000000</td>\n",
       "      <td>2.400000</td>\n",
       "    </tr>\n",
       "    <tr>\n",
       "      <th>25%</th>\n",
       "      <td>5.000000</td>\n",
       "      <td>6.700000</td>\n",
       "    </tr>\n",
       "    <tr>\n",
       "      <th>50%</th>\n",
       "      <td>8.000000</td>\n",
       "      <td>7.400000</td>\n",
       "    </tr>\n",
       "    <tr>\n",
       "      <th>75%</th>\n",
       "      <td>10.000000</td>\n",
       "      <td>8.000000</td>\n",
       "    </tr>\n",
       "    <tr>\n",
       "      <th>max</th>\n",
       "      <td>10.000000</td>\n",
       "      <td>9.500000</td>\n",
       "    </tr>\n",
       "  </tbody>\n",
       "</table>\n",
       "</div>"
      ],
      "text/plain": [
       "         user_rating   movie_rating\n",
       "count  573913.000000  573913.000000\n",
       "mean   6.954254       7.293664     \n",
       "std    2.956295       0.959343     \n",
       "min    1.000000       2.400000     \n",
       "25%    5.000000       6.700000     \n",
       "50%    8.000000       7.400000     \n",
       "75%    10.000000      8.000000     \n",
       "max    10.000000      9.500000     "
      ]
     },
     "execution_count": 77,
     "metadata": {},
     "output_type": "execute_result"
    }
   ],
   "source": [
    "df = contains_word('SPOILER', df)\n",
    "df.describe()"
   ]
  },
  {
   "cell_type": "code",
   "execution_count": 83,
   "metadata": {},
   "outputs": [
    {
     "data": {
      "text/html": [
       "<div>\n",
       "<style scoped>\n",
       "    .dataframe tbody tr th:only-of-type {\n",
       "        vertical-align: middle;\n",
       "    }\n",
       "\n",
       "    .dataframe tbody tr th {\n",
       "        vertical-align: top;\n",
       "    }\n",
       "\n",
       "    .dataframe thead th {\n",
       "        text-align: right;\n",
       "    }\n",
       "</style>\n",
       "<table border=\"1\" class=\"dataframe\">\n",
       "  <thead>\n",
       "    <tr style=\"text-align: right;\">\n",
       "      <th></th>\n",
       "      <th>review_date</th>\n",
       "      <th>movie_id</th>\n",
       "      <th>user_id</th>\n",
       "      <th>is_spoiler</th>\n",
       "      <th>review_text</th>\n",
       "      <th>rating_x</th>\n",
       "      <th>review_summary</th>\n",
       "      <th>plot_summary</th>\n",
       "      <th>duration</th>\n",
       "      <th>genre</th>\n",
       "      <th>rating_y</th>\n",
       "      <th>release_date</th>\n",
       "      <th>plot_synopsis</th>\n",
       "      <th>contains_word_SPOILER</th>\n",
       "    </tr>\n",
       "  </thead>\n",
       "  <tbody>\n",
       "    <tr>\n",
       "      <th>count</th>\n",
       "      <td>573906</td>\n",
       "      <td>573906</td>\n",
       "      <td>573906</td>\n",
       "      <td>573906</td>\n",
       "      <td>573906</td>\n",
       "      <td>573906.00000</td>\n",
       "      <td>573906</td>\n",
       "      <td>573906</td>\n",
       "      <td>573906</td>\n",
       "      <td>573906</td>\n",
       "      <td>573906.000000</td>\n",
       "      <td>573906</td>\n",
       "      <td>573906</td>\n",
       "      <td>573906</td>\n",
       "    </tr>\n",
       "    <tr>\n",
       "      <th>unique</th>\n",
       "      <td>7104</td>\n",
       "      <td>1570</td>\n",
       "      <td>263404</td>\n",
       "      <td>2</td>\n",
       "      <td>573378</td>\n",
       "      <td>NaN</td>\n",
       "      <td>499042</td>\n",
       "      <td>1570</td>\n",
       "      <td>132</td>\n",
       "      <td>237</td>\n",
       "      <td>NaN</td>\n",
       "      <td>1207</td>\n",
       "      <td>1340</td>\n",
       "      <td>2</td>\n",
       "    </tr>\n",
       "    <tr>\n",
       "      <th>top</th>\n",
       "      <td>17 December 2003</td>\n",
       "      <td>tt0468569</td>\n",
       "      <td>ur2898520</td>\n",
       "      <td>False</td>\n",
       "      <td>I have never seen such an amazing film since I saw The Shawshank Redemption. Shawshank encompasses friendships, hardships, hopes, and dreams. And what is so great about the movie is that it moves you, it gives you hope. Even though the circumstances between the characters and the viewers are quite different, you don't feel that far removed from what the characters are going through.It is a simple film, yet it has an everlasting message. Frank Darabont didn't need to put any kind of outlandish special effects to get us to love this film, the narration and the acting does that for him. Why this movie didn't win all seven Oscars is beyond me, but don't let that sway you to not see this film, let its ranking on the IMDb's top 250 list sway you, let your friends recommendation about the movie sway you.Set aside a little over two hours tonight and rent this movie. You will finally understand what everyone is talking about and you will understand why this is my all time favorite movie.</td>\n",
       "      <td>NaN</td>\n",
       "      <td>Disappointing</td>\n",
       "      <td>Set within a year after the events of Batman Begins, Batman, Lieutenant James Gordon, and new district attorney Harvey Dent successfully begin to round up the criminals that plague Gotham City until a mysterious and sadistic criminal mastermind known only as the Joker appears in Gotham, creating a new wave of chaos. Batman's struggle against the Joker becomes deeply personal, forcing him to \"confront everything he believes\" and improve his technology to stop him. A love triangle develops between Bruce Wayne, Dent and Rachel Dawes.                Written by\\nLeon Lombardi</td>\n",
       "      <td>1h 47min</td>\n",
       "      <td>[Action, Adventure, Sci-Fi]</td>\n",
       "      <td>NaN</td>\n",
       "      <td>1994-10-14</td>\n",
       "      <td></td>\n",
       "      <td>False</td>\n",
       "    </tr>\n",
       "    <tr>\n",
       "      <th>freq</th>\n",
       "      <td>355</td>\n",
       "      <td>4845</td>\n",
       "      <td>1303</td>\n",
       "      <td>422982</td>\n",
       "      <td>16</td>\n",
       "      <td>NaN</td>\n",
       "      <td>794</td>\n",
       "      <td>4845</td>\n",
       "      <td>13454</td>\n",
       "      <td>39842</td>\n",
       "      <td>NaN</td>\n",
       "      <td>6578</td>\n",
       "      <td>35078</td>\n",
       "      <td>547470</td>\n",
       "    </tr>\n",
       "    <tr>\n",
       "      <th>mean</th>\n",
       "      <td>NaN</td>\n",
       "      <td>NaN</td>\n",
       "      <td>NaN</td>\n",
       "      <td>NaN</td>\n",
       "      <td>NaN</td>\n",
       "      <td>6.95427</td>\n",
       "      <td>NaN</td>\n",
       "      <td>NaN</td>\n",
       "      <td>NaN</td>\n",
       "      <td>NaN</td>\n",
       "      <td>7.293693</td>\n",
       "      <td>NaN</td>\n",
       "      <td>NaN</td>\n",
       "      <td>NaN</td>\n",
       "    </tr>\n",
       "    <tr>\n",
       "      <th>std</th>\n",
       "      <td>NaN</td>\n",
       "      <td>NaN</td>\n",
       "      <td>NaN</td>\n",
       "      <td>NaN</td>\n",
       "      <td>NaN</td>\n",
       "      <td>2.95629</td>\n",
       "      <td>NaN</td>\n",
       "      <td>NaN</td>\n",
       "      <td>NaN</td>\n",
       "      <td>NaN</td>\n",
       "      <td>0.959311</td>\n",
       "      <td>NaN</td>\n",
       "      <td>NaN</td>\n",
       "      <td>NaN</td>\n",
       "    </tr>\n",
       "    <tr>\n",
       "      <th>min</th>\n",
       "      <td>NaN</td>\n",
       "      <td>NaN</td>\n",
       "      <td>NaN</td>\n",
       "      <td>NaN</td>\n",
       "      <td>NaN</td>\n",
       "      <td>1.00000</td>\n",
       "      <td>NaN</td>\n",
       "      <td>NaN</td>\n",
       "      <td>NaN</td>\n",
       "      <td>NaN</td>\n",
       "      <td>2.400000</td>\n",
       "      <td>NaN</td>\n",
       "      <td>NaN</td>\n",
       "      <td>NaN</td>\n",
       "    </tr>\n",
       "    <tr>\n",
       "      <th>25%</th>\n",
       "      <td>NaN</td>\n",
       "      <td>NaN</td>\n",
       "      <td>NaN</td>\n",
       "      <td>NaN</td>\n",
       "      <td>NaN</td>\n",
       "      <td>5.00000</td>\n",
       "      <td>NaN</td>\n",
       "      <td>NaN</td>\n",
       "      <td>NaN</td>\n",
       "      <td>NaN</td>\n",
       "      <td>6.700000</td>\n",
       "      <td>NaN</td>\n",
       "      <td>NaN</td>\n",
       "      <td>NaN</td>\n",
       "    </tr>\n",
       "    <tr>\n",
       "      <th>50%</th>\n",
       "      <td>NaN</td>\n",
       "      <td>NaN</td>\n",
       "      <td>NaN</td>\n",
       "      <td>NaN</td>\n",
       "      <td>NaN</td>\n",
       "      <td>8.00000</td>\n",
       "      <td>NaN</td>\n",
       "      <td>NaN</td>\n",
       "      <td>NaN</td>\n",
       "      <td>NaN</td>\n",
       "      <td>7.400000</td>\n",
       "      <td>NaN</td>\n",
       "      <td>NaN</td>\n",
       "      <td>NaN</td>\n",
       "    </tr>\n",
       "    <tr>\n",
       "      <th>75%</th>\n",
       "      <td>NaN</td>\n",
       "      <td>NaN</td>\n",
       "      <td>NaN</td>\n",
       "      <td>NaN</td>\n",
       "      <td>NaN</td>\n",
       "      <td>10.00000</td>\n",
       "      <td>NaN</td>\n",
       "      <td>NaN</td>\n",
       "      <td>NaN</td>\n",
       "      <td>NaN</td>\n",
       "      <td>8.000000</td>\n",
       "      <td>NaN</td>\n",
       "      <td>NaN</td>\n",
       "      <td>NaN</td>\n",
       "    </tr>\n",
       "    <tr>\n",
       "      <th>max</th>\n",
       "      <td>NaN</td>\n",
       "      <td>NaN</td>\n",
       "      <td>NaN</td>\n",
       "      <td>NaN</td>\n",
       "      <td>NaN</td>\n",
       "      <td>10.00000</td>\n",
       "      <td>NaN</td>\n",
       "      <td>NaN</td>\n",
       "      <td>NaN</td>\n",
       "      <td>NaN</td>\n",
       "      <td>9.500000</td>\n",
       "      <td>NaN</td>\n",
       "      <td>NaN</td>\n",
       "      <td>NaN</td>\n",
       "    </tr>\n",
       "  </tbody>\n",
       "</table>\n",
       "</div>"
      ],
      "text/plain": [
       "             review_date   movie_id    user_id is_spoiler  \\\n",
       "count   573906            573906     573906     573906      \n",
       "unique  7104              1570       263404     2           \n",
       "top     17 December 2003  tt0468569  ur2898520  False       \n",
       "freq    355               4845       1303       422982      \n",
       "mean    NaN               NaN        NaN        NaN         \n",
       "std     NaN               NaN        NaN        NaN         \n",
       "min     NaN               NaN        NaN        NaN         \n",
       "25%     NaN               NaN        NaN        NaN         \n",
       "50%     NaN               NaN        NaN        NaN         \n",
       "75%     NaN               NaN        NaN        NaN         \n",
       "max     NaN               NaN        NaN        NaN         \n",
       "\n",
       "                                                                                                                                                                                                                                                                                                                                                                                                                                                                                                                                                                                                                                                                                                                                                                                                                                                                                                                                                                                                                              review_text  \\\n",
       "count   573906                                                                                                                                                                                                                                                                                                                                                                                                                                                                                                                                                                                                                                                                                                                                                                                                                                                                                                                                                                                                                              \n",
       "unique  573378                                                                                                                                                                                                                                                                                                                                                                                                                                                                                                                                                                                                                                                                                                                                                                                                                                                                                                                                                                                                                              \n",
       "top     I have never seen such an amazing film since I saw The Shawshank Redemption. Shawshank encompasses friendships, hardships, hopes, and dreams. And what is so great about the movie is that it moves you, it gives you hope. Even though the circumstances between the characters and the viewers are quite different, you don't feel that far removed from what the characters are going through.It is a simple film, yet it has an everlasting message. Frank Darabont didn't need to put any kind of outlandish special effects to get us to love this film, the narration and the acting does that for him. Why this movie didn't win all seven Oscars is beyond me, but don't let that sway you to not see this film, let its ranking on the IMDb's top 250 list sway you, let your friends recommendation about the movie sway you.Set aside a little over two hours tonight and rent this movie. You will finally understand what everyone is talking about and you will understand why this is my all time favorite movie.   \n",
       "freq    16                                                                                                                                                                                                                                                                                                                                                                                                                                                                                                                                                                                                                                                                                                                                                                                                                                                                                                                                                                                                                                  \n",
       "mean    NaN                                                                                                                                                                                                                                                                                                                                                                                                                                                                                                                                                                                                                                                                                                                                                                                                                                                                                                                                                                                                                                 \n",
       "std     NaN                                                                                                                                                                                                                                                                                                                                                                                                                                                                                                                                                                                                                                                                                                                                                                                                                                                                                                                                                                                                                                 \n",
       "min     NaN                                                                                                                                                                                                                                                                                                                                                                                                                                                                                                                                                                                                                                                                                                                                                                                                                                                                                                                                                                                                                                 \n",
       "25%     NaN                                                                                                                                                                                                                                                                                                                                                                                                                                                                                                                                                                                                                                                                                                                                                                                                                                                                                                                                                                                                                                 \n",
       "50%     NaN                                                                                                                                                                                                                                                                                                                                                                                                                                                                                                                                                                                                                                                                                                                                                                                                                                                                                                                                                                                                                                 \n",
       "75%     NaN                                                                                                                                                                                                                                                                                                                                                                                                                                                                                                                                                                                                                                                                                                                                                                                                                                                                                                                                                                                                                                 \n",
       "max     NaN                                                                                                                                                                                                                                                                                                                                                                                                                                                                                                                                                                                                                                                                                                                                                                                                                                                                                                                                                                                                                                 \n",
       "\n",
       "            rating_x review_summary  \\\n",
       "count   573906.00000  573906          \n",
       "unique NaN            499042          \n",
       "top    NaN            Disappointing   \n",
       "freq   NaN            794             \n",
       "mean    6.95427       NaN             \n",
       "std     2.95629       NaN             \n",
       "min     1.00000       NaN             \n",
       "25%     5.00000       NaN             \n",
       "50%     8.00000       NaN             \n",
       "75%     10.00000      NaN             \n",
       "max     10.00000      NaN             \n",
       "\n",
       "                                                                                                                                                                                                                                                                                                                                                                                                                                                                                                                                                                                             plot_summary  \\\n",
       "count   573906                                                                                                                                                                                                                                                                                                                                                                                                                                                                                                                                                                                              \n",
       "unique  1570                                                                                                                                                                                                                                                                                                                                                                                                                                                                                                                                                                                                \n",
       "top     Set within a year after the events of Batman Begins, Batman, Lieutenant James Gordon, and new district attorney Harvey Dent successfully begin to round up the criminals that plague Gotham City until a mysterious and sadistic criminal mastermind known only as the Joker appears in Gotham, creating a new wave of chaos. Batman's struggle against the Joker becomes deeply personal, forcing him to \"confront everything he believes\" and improve his technology to stop him. A love triangle develops between Bruce Wayne, Dent and Rachel Dawes.                Written by\\nLeon Lombardi   \n",
       "freq    4845                                                                                                                                                                                                                                                                                                                                                                                                                                                                                                                                                                                                \n",
       "mean    NaN                                                                                                                                                                                                                                                                                                                                                                                                                                                                                                                                                                                                 \n",
       "std     NaN                                                                                                                                                                                                                                                                                                                                                                                                                                                                                                                                                                                                 \n",
       "min     NaN                                                                                                                                                                                                                                                                                                                                                                                                                                                                                                                                                                                                 \n",
       "25%     NaN                                                                                                                                                                                                                                                                                                                                                                                                                                                                                                                                                                                                 \n",
       "50%     NaN                                                                                                                                                                                                                                                                                                                                                                                                                                                                                                                                                                                                 \n",
       "75%     NaN                                                                                                                                                                                                                                                                                                                                                                                                                                                                                                                                                                                                 \n",
       "max     NaN                                                                                                                                                                                                                                                                                                                                                                                                                                                                                                                                                                                                 \n",
       "\n",
       "        duration                        genre       rating_y release_date  \\\n",
       "count   573906    573906                       573906.000000  573906        \n",
       "unique  132       237                         NaN             1207          \n",
       "top     1h 47min  [Action, Adventure, Sci-Fi] NaN             1994-10-14    \n",
       "freq    13454     39842                       NaN             6578          \n",
       "mean    NaN       NaN                          7.293693       NaN           \n",
       "std     NaN       NaN                          0.959311       NaN           \n",
       "min     NaN       NaN                          2.400000       NaN           \n",
       "25%     NaN       NaN                          6.700000       NaN           \n",
       "50%     NaN       NaN                          7.400000       NaN           \n",
       "75%     NaN       NaN                          8.000000       NaN           \n",
       "max     NaN       NaN                          9.500000       NaN           \n",
       "\n",
       "       plot_synopsis contains_word_SPOILER  \n",
       "count   573906        573906                \n",
       "unique  1340          2                     \n",
       "top                   False                 \n",
       "freq    35078         547470                \n",
       "mean    NaN           NaN                   \n",
       "std     NaN           NaN                   \n",
       "min     NaN           NaN                   \n",
       "25%     NaN           NaN                   \n",
       "50%     NaN           NaN                   \n",
       "75%     NaN           NaN                   \n",
       "max     NaN           NaN                   "
      ]
     },
     "execution_count": 83,
     "metadata": {},
     "output_type": "execute_result"
    }
   ],
   "source": [
    "df_has_spoil = contains_word('SPOILER', df)\n",
    "df_has_spoil.describe(include=\"all\")"
   ]
  },
  {
   "cell_type": "code",
   "execution_count": 85,
   "metadata": {},
   "outputs": [
    {
     "data": {
      "text/plain": [
       "False    547470\n",
       "True     26436 \n",
       "Name: contains_word_SPOILER, dtype: int64"
      ]
     },
     "execution_count": 85,
     "metadata": {},
     "output_type": "execute_result"
    }
   ],
   "source": [
    "df[\"contains_word_SPOILER\"].value_counts()"
   ]
  },
  {
   "cell_type": "code",
   "execution_count": 86,
   "metadata": {
    "id": "At_7tr1VgwUM"
   },
   "outputs": [
    {
     "data": {
      "text/plain": [
       "Text(0.5, 1.0, 'Spoiler reviews')"
      ]
     },
     "execution_count": 86,
     "metadata": {},
     "output_type": "execute_result"
    },
    {
     "data": {
      "image/png": "[encoded data removed]",
      "text/plain": [
       "<Figure size 1080x1080 with 2 Axes>"
      ]
     },
     "metadata": {},
     "output_type": "display_data"
    }
   ],
   "source": [
    "import matplotlib.pyplot as plt\n",
    "import numpy as np\n",
    "\n",
    "num_of_spoiler = df[df['is_spoiler'] == True].shape[0]\n",
    "num_of_spoiler_with_spoiler_word = df[(df['is_spoiler'] == True) & (df['contains_word_SPOILER'] == True)].shape[0]\n",
    "num_of_non_spoiler_with_spoiler_word = df[(df['is_spoiler'] == False) & (df['contains_word_SPOILER'] == True)].shape[0]\n",
    "num_of_reviews_with_spoiler_word = df[df['contains_word_SPOILER'] == True].shape[0]\n",
    "\n",
    "# plot 2 pie charts\n",
    "fig, (ax1, ax2) = plt.subplots(1, 2, figsize = (15, 15)) \n",
    "fig.tight_layout(pad = 10.0)\n",
    "\n",
    "labels = ['Spoiler', 'Non-spoiler']\n",
    "values = np.array([(num_of_spoiler_with_spoiler_word / num_of_reviews_with_spoiler_word) * 100,\n",
    "           (num_of_non_spoiler_with_spoiler_word / num_of_reviews_with_spoiler_word) * 100])\n",
    "ax1.pie(values, labels = labels, colors = ['#ff9999','#66b3ff'], autopct = '%1.2f%%')\n",
    "ax1.set_title('Reviews containing the word spoiler')\n",
    "\n",
    "labels = ['Containing the word spoiler', 'Not containing the word spoiler']\n",
    "values = np.array([(num_of_spoiler_with_spoiler_word / num_of_spoiler) * 100,\n",
    "           ((num_of_spoiler - num_of_spoiler_with_spoiler_word) / num_of_spoiler) * 100])\n",
    "ax2.pie(values,labels = labels, colors = ['#ff9999', '#ffcc99'],autopct = '%1.2f%%') #plot second pie\n",
    "ax2.set_title('Spoiler reviews')"
   ]
  },
  {
   "cell_type": "markdown",
   "metadata": {
    "id": "ZaGSMXPzi0fR"
   },
   "source": [
    "From the pie charts above, for the reviews that contain the word 'spoiler', 71.9% are spoilers and 24.1% are non-spoilers. <br>\n",
    "\n",
    "Out of the all spoilers' reviews, only 12.6% conatains the word spoiler. 87.4% of the spoiler reviews do not contain the word spoiler. Therefore there seems to be much correlation to the occurance of the word 'spoiler' to whether a review is deemed a spoiler.\n"
   ]
  },
  {
   "cell_type": "markdown",
   "metadata": {
    "id": "15HzQs3zjVfx"
   },
   "source": [
    "## Picking a Movie"
   ]
  },
  {
   "cell_type": "code",
   "execution_count": null,
   "metadata": {
    "id": "M1gjXz6vjbQD"
   },
   "outputs": [],
   "source": [
    "def pick_movie(movie_id):\n",
    "  global df\n",
    "  df = df.loc[df['movie_id'] == movie_id, :]"
   ]
  },
  {
   "cell_type": "code",
   "execution_count": null,
   "metadata": {
    "id": "tZ0fgd7akDez"
   },
   "outputs": [],
   "source": [
    "pick_movie('tt0468569')"
   ]
  },
  {
   "cell_type": "code",
   "execution_count": null,
   "metadata": {
    "colab": {
     "base_uri": "https://localhost:8080/",
     "height": 565
    },
    "id": "gGeZXQZklE1i",
    "outputId": "2533f1b5-3969-4de1-e81a-457850b33722"
   },
   "outputs": [
    {
     "data": {
      "text/html": [
       "\n",
       "  <div id=\"df-73fc2c5e-5dff-44fe-a824-5ec6ac0095f3\">\n",
       "    <div class=\"colab-df-container\">\n",
       "      <div>\n",
       "<style scoped>\n",
       "    .dataframe tbody tr th:only-of-type {\n",
       "        vertical-align: middle;\n",
       "    }\n",
       "\n",
       "    .dataframe tbody tr th {\n",
       "        vertical-align: top;\n",
       "    }\n",
       "\n",
       "    .dataframe thead th {\n",
       "        text-align: right;\n",
       "    }\n",
       "</style>\n",
       "<table border=\"1\" class=\"dataframe\">\n",
       "  <thead>\n",
       "    <tr style=\"text-align: right;\">\n",
       "      <th></th>\n",
       "      <th>review_date</th>\n",
       "      <th>movie_id</th>\n",
       "      <th>user_id</th>\n",
       "      <th>is_spoiler</th>\n",
       "      <th>review_text</th>\n",
       "      <th>user_rating</th>\n",
       "      <th>review_summary</th>\n",
       "      <th>plot_summary</th>\n",
       "      <th>duration</th>\n",
       "      <th>genre</th>\n",
       "      <th>movie_rating</th>\n",
       "      <th>release_date</th>\n",
       "      <th>plot_synopsis</th>\n",
       "      <th>contains_word_SPOILER</th>\n",
       "    </tr>\n",
       "  </thead>\n",
       "  <tbody>\n",
       "    <tr>\n",
       "      <th>0</th>\n",
       "      <td>20 July 2008</td>\n",
       "      <td>tt0468569</td>\n",
       "      <td>ur1293485</td>\n",
       "      <td>True</td>\n",
       "      <td>I got to see The Dark Knight on Wednesday nigh...</td>\n",
       "      <td>10</td>\n",
       "      <td>The Batman of our dreams! So much more than a ...</td>\n",
       "      <td>Set within a year after the events of Batman B...</td>\n",
       "      <td>2h 32min</td>\n",
       "      <td>[Action, Crime, Drama]</td>\n",
       "      <td>9.0</td>\n",
       "      <td>2008-07-18</td>\n",
       "      <td>The movie begins with a gang of men with clown...</td>\n",
       "      <td>False</td>\n",
       "    </tr>\n",
       "    <tr>\n",
       "      <th>1</th>\n",
       "      <td>16 July 2008</td>\n",
       "      <td>tt0468569</td>\n",
       "      <td>ur13846894</td>\n",
       "      <td>True</td>\n",
       "      <td>I must say I was excited for this movie since ...</td>\n",
       "      <td>10</td>\n",
       "      <td>Certainly Dark - Worth The Wait</td>\n",
       "      <td>Set within a year after the events of Batman B...</td>\n",
       "      <td>2h 32min</td>\n",
       "      <td>[Action, Crime, Drama]</td>\n",
       "      <td>9.0</td>\n",
       "      <td>2008-07-18</td>\n",
       "      <td>The movie begins with a gang of men with clown...</td>\n",
       "      <td>False</td>\n",
       "    </tr>\n",
       "    <tr>\n",
       "      <th>2</th>\n",
       "      <td>16 July 2008</td>\n",
       "      <td>tt0468569</td>\n",
       "      <td>ur2371300</td>\n",
       "      <td>True</td>\n",
       "      <td>I thought Batman Begins was a very well concei...</td>\n",
       "      <td>10</td>\n",
       "      <td>Best. Comic. Movie. EVER.</td>\n",
       "      <td>Set within a year after the events of Batman B...</td>\n",
       "      <td>2h 32min</td>\n",
       "      <td>[Action, Crime, Drama]</td>\n",
       "      <td>9.0</td>\n",
       "      <td>2008-07-18</td>\n",
       "      <td>The movie begins with a gang of men with clown...</td>\n",
       "      <td>False</td>\n",
       "    </tr>\n",
       "    <tr>\n",
       "      <th>3</th>\n",
       "      <td>16 July 2008</td>\n",
       "      <td>tt0468569</td>\n",
       "      <td>ur5237888</td>\n",
       "      <td>True</td>\n",
       "      <td>I think the big question...or the question eve...</td>\n",
       "      <td>10</td>\n",
       "      <td>The Dark Knight is as good as everyone says an...</td>\n",
       "      <td>Set within a year after the events of Batman B...</td>\n",
       "      <td>2h 32min</td>\n",
       "      <td>[Action, Crime, Drama]</td>\n",
       "      <td>9.0</td>\n",
       "      <td>2008-07-18</td>\n",
       "      <td>The movie begins with a gang of men with clown...</td>\n",
       "      <td>False</td>\n",
       "    </tr>\n",
       "    <tr>\n",
       "      <th>4</th>\n",
       "      <td>17 July 2008</td>\n",
       "      <td>tt0468569</td>\n",
       "      <td>ur2747265</td>\n",
       "      <td>True</td>\n",
       "      <td>(Synopsis) Bruce Wayne/Batman (Christian Bale)...</td>\n",
       "      <td>10</td>\n",
       "      <td>The dark and sinister mood of the film really ...</td>\n",
       "      <td>Set within a year after the events of Batman B...</td>\n",
       "      <td>2h 32min</td>\n",
       "      <td>[Action, Crime, Drama]</td>\n",
       "      <td>9.0</td>\n",
       "      <td>2008-07-18</td>\n",
       "      <td>The movie begins with a gang of men with clown...</td>\n",
       "      <td>False</td>\n",
       "    </tr>\n",
       "  </tbody>\n",
       "</table>\n",
       "</div>\n",
       "      <button class=\"colab-df-convert\" onclick=\"convertToInteractive('df-73fc2c5e-5dff-44fe-a824-5ec6ac0095f3')\"\n",
       "              title=\"Convert this dataframe to an interactive table.\"\n",
       "              style=\"display:none;\">\n",
       "        \n",
       "  <svg xmlns=\"http://www.w3.org/2000/svg\" height=\"24px\"viewBox=\"0 0 24 24\"\n",
       "       width=\"24px\">\n",
       "    <path d=\"M0 0h24v24H0V0z\" fill=\"none\"/>\n",
       "    <path d=\"M18.56 5.44l.94 2.06.94-2.06 2.06-.94-2.06-.94-.94-2.06-.94 2.06-2.06.94zm-11 1L8.5 8.5l.94-2.06 2.06-.94-2.06-.94L8.5 2.5l-.94 2.06-2.06.94zm10 10l.94 2.06.94-2.06 2.06-.94-2.06-.94-.94-2.06-.94 2.06-2.06.94z\"/><path d=\"M17.41 7.96l-1.37-1.37c-.4-.4-.92-.59-1.43-.59-.52 0-1.04.2-1.43.59L10.3 9.45l-7.72 7.72c-.78.78-.78 2.05 0 2.83L4 21.41c.39.39.9.59 1.41.59.51 0 1.02-.2 1.41-.59l7.78-7.78 2.81-2.81c.8-.78.8-2.07 0-2.86zM5.41 20L4 18.59l7.72-7.72 1.47 1.35L5.41 20z\"/>\n",
       "  </svg>\n",
       "      </button>\n",
       "      \n",
       "  <style>\n",
       "    .colab-df-container {\n",
       "      display:flex;\n",
       "      flex-wrap:wrap;\n",
       "      gap: 12px;\n",
       "    }\n",
       "\n",
       "    .colab-df-convert {\n",
       "      background-color: #E8F0FE;\n",
       "      border: none;\n",
       "      border-radius: 50%;\n",
       "      cursor: pointer;\n",
       "      display: none;\n",
       "      fill: #1967D2;\n",
       "      height: 32px;\n",
       "      padding: 0 0 0 0;\n",
       "      width: 32px;\n",
       "    }\n",
       "\n",
       "    .colab-df-convert:hover {\n",
       "      background-color: #E2EBFA;\n",
       "      box-shadow: 0px 1px 2px rgba(60, 64, 67, 0.3), 0px 1px 3px 1px rgba(60, 64, 67, 0.15);\n",
       "      fill: #174EA6;\n",
       "    }\n",
       "\n",
       "    [theme=dark] .colab-df-convert {\n",
       "      background-color: #3B4455;\n",
       "      fill: #D2E3FC;\n",
       "    }\n",
       "\n",
       "    [theme=dark] .colab-df-convert:hover {\n",
       "      background-color: #434B5C;\n",
       "      box-shadow: 0px 1px 3px 1px rgba(0, 0, 0, 0.15);\n",
       "      filter: drop-shadow(0px 1px 2px rgba(0, 0, 0, 0.3));\n",
       "      fill: #FFFFFF;\n",
       "    }\n",
       "  </style>\n",
       "\n",
       "      <script>\n",
       "        const buttonEl =\n",
       "          document.querySelector('#df-73fc2c5e-5dff-44fe-a824-5ec6ac0095f3 button.colab-df-convert');\n",
       "        buttonEl.style.display =\n",
       "          google.colab.kernel.accessAllowed ? 'block' : 'none';\n",
       "\n",
       "        async function convertToInteractive(key) {\n",
       "          const element = document.querySelector('#df-73fc2c5e-5dff-44fe-a824-5ec6ac0095f3');\n",
       "          const dataTable =\n",
       "            await google.colab.kernel.invokeFunction('convertToInteractive',\n",
       "                                                     [key], {});\n",
       "          if (!dataTable) return;\n",
       "\n",
       "          const docLinkHtml = 'Like what you see? Visit the ' +\n",
       "            '<a target=\"_blank\" href=https://colab.research.google.com/notebooks/data_table.ipynb>data table notebook</a>'\n",
       "            + ' to learn more about interactive tables.';\n",
       "          element.innerHTML = '';\n",
       "          dataTable['output_type'] = 'display_data';\n",
       "          await google.colab.output.renderOutput(dataTable, element);\n",
       "          const docLink = document.createElement('div');\n",
       "          docLink.innerHTML = docLinkHtml;\n",
       "          element.appendChild(docLink);\n",
       "        }\n",
       "      </script>\n",
       "    </div>\n",
       "  </div>\n",
       "  "
      ],
      "text/plain": [
       "    review_date   movie_id     user_id  is_spoiler  \\\n",
       "0  20 July 2008  tt0468569   ur1293485        True   \n",
       "1  16 July 2008  tt0468569  ur13846894        True   \n",
       "2  16 July 2008  tt0468569   ur2371300        True   \n",
       "3  16 July 2008  tt0468569   ur5237888        True   \n",
       "4  17 July 2008  tt0468569   ur2747265        True   \n",
       "\n",
       "                                         review_text  user_rating  \\\n",
       "0  I got to see The Dark Knight on Wednesday nigh...           10   \n",
       "1  I must say I was excited for this movie since ...           10   \n",
       "2  I thought Batman Begins was a very well concei...           10   \n",
       "3  I think the big question...or the question eve...           10   \n",
       "4  (Synopsis) Bruce Wayne/Batman (Christian Bale)...           10   \n",
       "\n",
       "                                      review_summary  \\\n",
       "0  The Batman of our dreams! So much more than a ...   \n",
       "1                    Certainly Dark - Worth The Wait   \n",
       "2                          Best. Comic. Movie. EVER.   \n",
       "3  The Dark Knight is as good as everyone says an...   \n",
       "4  The dark and sinister mood of the film really ...   \n",
       "\n",
       "                                        plot_summary  duration  \\\n",
       "0  Set within a year after the events of Batman B...  2h 32min   \n",
       "1  Set within a year after the events of Batman B...  2h 32min   \n",
       "2  Set within a year after the events of Batman B...  2h 32min   \n",
       "3  Set within a year after the events of Batman B...  2h 32min   \n",
       "4  Set within a year after the events of Batman B...  2h 32min   \n",
       "\n",
       "                    genre  movie_rating release_date  \\\n",
       "0  [Action, Crime, Drama]           9.0   2008-07-18   \n",
       "1  [Action, Crime, Drama]           9.0   2008-07-18   \n",
       "2  [Action, Crime, Drama]           9.0   2008-07-18   \n",
       "3  [Action, Crime, Drama]           9.0   2008-07-18   \n",
       "4  [Action, Crime, Drama]           9.0   2008-07-18   \n",
       "\n",
       "                                       plot_synopsis  contains_word_SPOILER  \n",
       "0  The movie begins with a gang of men with clown...                  False  \n",
       "1  The movie begins with a gang of men with clown...                  False  \n",
       "2  The movie begins with a gang of men with clown...                  False  \n",
       "3  The movie begins with a gang of men with clown...                  False  \n",
       "4  The movie begins with a gang of men with clown...                  False  "
      ]
     },
     "execution_count": 16,
     "metadata": {},
     "output_type": "execute_result"
    }
   ],
   "source": [
    "df.reset_index(inplace=True)\n",
    "df = df.drop('index', axis=1)\n",
    "df.head()"
   ]
  },
  {
   "cell_type": "code",
   "execution_count": null,
   "metadata": {
    "colab": {
     "base_uri": "https://localhost:8080/"
    },
    "id": "-YFBvkADlMu6",
    "outputId": "90dfe764-f2eb-4020-b331-83c83e28757d"
   },
   "outputs": [
    {
     "name": "stdout",
     "output_type": "stream",
     "text": [
      "<class 'pandas.core.frame.DataFrame'>\n",
      "RangeIndex: 4845 entries, 0 to 4844\n",
      "Data columns (total 14 columns):\n",
      " #   Column                 Non-Null Count  Dtype  \n",
      "---  ------                 --------------  -----  \n",
      " 0   review_date            4845 non-null   object \n",
      " 1   movie_id               4845 non-null   object \n",
      " 2   user_id                4845 non-null   object \n",
      " 3   is_spoiler             4845 non-null   bool   \n",
      " 4   review_text            4845 non-null   object \n",
      " 5   user_rating            4845 non-null   int64  \n",
      " 6   review_summary         4845 non-null   object \n",
      " 7   plot_summary           4845 non-null   object \n",
      " 8   duration               4845 non-null   object \n",
      " 9   genre                  4845 non-null   object \n",
      " 10  movie_rating           4845 non-null   float64\n",
      " 11  release_date           4845 non-null   object \n",
      " 12  plot_synopsis          4845 non-null   object \n",
      " 13  contains_word_SPOILER  4845 non-null   bool   \n",
      "dtypes: bool(2), float64(1), int64(1), object(10)\n",
      "memory usage: 463.8+ KB\n"
     ]
    }
   ],
   "source": [
    "df.info()"
   ]
  },
  {
   "cell_type": "markdown",
   "metadata": {
    "id": "r-pGHYFDePd6"
   },
   "source": [
    "## Under-sampling"
   ]
  },
  {
   "cell_type": "markdown",
   "metadata": {
    "id": "--7MDdw7ePd6"
   },
   "source": [
    "This is done before data cleaning."
   ]
  },
  {
   "cell_type": "code",
   "execution_count": null,
   "metadata": {
    "id": "6pzBLTnOePd7"
   },
   "outputs": [],
   "source": [
    "def under_sampling():\n",
    "    global df\n",
    "    df_0 = df[df['is_spoiler'] == False]\n",
    "    df_1 = df[df['is_spoiler'] == True]\n",
    "    sample_size = df_1.shape[0]\n",
    "    df_0 = df_0.sample(sample_size)\n",
    "    df = pd.concat([df_0, df_1])\n"
   ]
  },
  {
   "cell_type": "code",
   "execution_count": null,
   "metadata": {
    "id": "UQXlZm9pePd7"
   },
   "outputs": [],
   "source": [
    "under_sampling()"
   ]
  },
  {
   "cell_type": "code",
   "execution_count": null,
   "metadata": {
    "colab": {
     "base_uri": "https://localhost:8080/",
     "height": 565
    },
    "id": "_L7byaPVePd7",
    "outputId": "ef170256-2e93-41d8-b01f-4cfa95c2e5e3"
   },
   "outputs": [
    {
     "data": {
      "text/html": [
       "\n",
       "  <div id=\"df-62136e38-b3a2-489b-befb-d7e5d5fd36c7\">\n",
       "    <div class=\"colab-df-container\">\n",
       "      <div>\n",
       "<style scoped>\n",
       "    .dataframe tbody tr th:only-of-type {\n",
       "        vertical-align: middle;\n",
       "    }\n",
       "\n",
       "    .dataframe tbody tr th {\n",
       "        vertical-align: top;\n",
       "    }\n",
       "\n",
       "    .dataframe thead th {\n",
       "        text-align: right;\n",
       "    }\n",
       "</style>\n",
       "<table border=\"1\" class=\"dataframe\">\n",
       "  <thead>\n",
       "    <tr style=\"text-align: right;\">\n",
       "      <th></th>\n",
       "      <th>review_date</th>\n",
       "      <th>movie_id</th>\n",
       "      <th>user_id</th>\n",
       "      <th>is_spoiler</th>\n",
       "      <th>review_text</th>\n",
       "      <th>user_rating</th>\n",
       "      <th>review_summary</th>\n",
       "      <th>plot_summary</th>\n",
       "      <th>duration</th>\n",
       "      <th>genre</th>\n",
       "      <th>movie_rating</th>\n",
       "      <th>release_date</th>\n",
       "      <th>plot_synopsis</th>\n",
       "      <th>contains_word_SPOILER</th>\n",
       "    </tr>\n",
       "  </thead>\n",
       "  <tbody>\n",
       "    <tr>\n",
       "      <th>0</th>\n",
       "      <td>30 June 2002</td>\n",
       "      <td>tt0167404</td>\n",
       "      <td>ur1821533</td>\n",
       "      <td>False</td>\n",
       "      <td>I saw this film in the U.S. when I was there, ...</td>\n",
       "      <td>10</td>\n",
       "      <td>M. Night Shyamalan - remember that name!</td>\n",
       "      <td>Malcom Crowe (Bruce Willis)is a child psycholo...</td>\n",
       "      <td>1h 47min</td>\n",
       "      <td>[Drama, Mystery, Thriller]</td>\n",
       "      <td>8.1</td>\n",
       "      <td>1999-08-06</td>\n",
       "      <td>Dr. Malcolm Crowe (Bruce Willis), a prominent ...</td>\n",
       "      <td>False</td>\n",
       "    </tr>\n",
       "    <tr>\n",
       "      <th>1</th>\n",
       "      <td>27 July 2015</td>\n",
       "      <td>tt1937390</td>\n",
       "      <td>ur0278527</td>\n",
       "      <td>False</td>\n",
       "      <td>Apparently this film has received considerable...</td>\n",
       "      <td>5</td>\n",
       "      <td>So, I Saw This Title on Netflix.....</td>\n",
       "      <td>A man named Seligman finds a fainted wounded w...</td>\n",
       "      <td>1h 57min</td>\n",
       "      <td>[Drama]</td>\n",
       "      <td>7.0</td>\n",
       "      <td>2014-03-06</td>\n",
       "      <td>The film starts with a repetitive sound effect...</td>\n",
       "      <td>False</td>\n",
       "    </tr>\n",
       "    <tr>\n",
       "      <th>2</th>\n",
       "      <td>26 December 2016</td>\n",
       "      <td>tt4550098</td>\n",
       "      <td>ur56801091</td>\n",
       "      <td>False</td>\n",
       "      <td>Well, after Amy Adams picking this flop and th...</td>\n",
       "      <td>2</td>\n",
       "      <td>Little hope for Adams' \"Dis-Enchanted\"</td>\n",
       "      <td>A \"story inside a story,\" in which the first p...</td>\n",
       "      <td>1h 56min</td>\n",
       "      <td>[Crime, Drama, Romance]</td>\n",
       "      <td>7.5</td>\n",
       "      <td>2016-12-09</td>\n",
       "      <td>The movie begins with obese women, dancing nak...</td>\n",
       "      <td>False</td>\n",
       "    </tr>\n",
       "    <tr>\n",
       "      <th>3</th>\n",
       "      <td>3 November 2007</td>\n",
       "      <td>tt0765429</td>\n",
       "      <td>ur5118543</td>\n",
       "      <td>False</td>\n",
       "      <td>When I first heard about this film, I was hope...</td>\n",
       "      <td>5</td>\n",
       "      <td>Irresponsible and Dull</td>\n",
       "      <td>Following the death of his employer and mentor...</td>\n",
       "      <td>2h 37min</td>\n",
       "      <td>[Biography, Crime, Drama]</td>\n",
       "      <td>7.8</td>\n",
       "      <td>2007-11-02</td>\n",
       "      <td>The film opens with Bumpy Johnson (Clarence Wi...</td>\n",
       "      <td>False</td>\n",
       "    </tr>\n",
       "    <tr>\n",
       "      <th>4</th>\n",
       "      <td>3 March 2007</td>\n",
       "      <td>tt0443706</td>\n",
       "      <td>ur6663090</td>\n",
       "      <td>False</td>\n",
       "      <td>After having read other critiques, I will conc...</td>\n",
       "      <td>9</td>\n",
       "      <td>A fresh take on the elusive serial killer....</td>\n",
       "      <td>A serial killer in the San Francisco Bay Area ...</td>\n",
       "      <td>2h 37min</td>\n",
       "      <td>[Crime, Drama, History]</td>\n",
       "      <td>7.7</td>\n",
       "      <td>2007-03-02</td>\n",
       "      <td>The film starts on July 4, 1969, with the Zodi...</td>\n",
       "      <td>False</td>\n",
       "    </tr>\n",
       "  </tbody>\n",
       "</table>\n",
       "</div>\n",
       "      <button class=\"colab-df-convert\" onclick=\"convertToInteractive('df-62136e38-b3a2-489b-befb-d7e5d5fd36c7')\"\n",
       "              title=\"Convert this dataframe to an interactive table.\"\n",
       "              style=\"display:none;\">\n",
       "        \n",
       "  <svg xmlns=\"http://www.w3.org/2000/svg\" height=\"24px\"viewBox=\"0 0 24 24\"\n",
       "       width=\"24px\">\n",
       "    <path d=\"M0 0h24v24H0V0z\" fill=\"none\"/>\n",
       "    <path d=\"M18.56 5.44l.94 2.06.94-2.06 2.06-.94-2.06-.94-.94-2.06-.94 2.06-2.06.94zm-11 1L8.5 8.5l.94-2.06 2.06-.94-2.06-.94L8.5 2.5l-.94 2.06-2.06.94zm10 10l.94 2.06.94-2.06 2.06-.94-2.06-.94-.94-2.06-.94 2.06-2.06.94z\"/><path d=\"M17.41 7.96l-1.37-1.37c-.4-.4-.92-.59-1.43-.59-.52 0-1.04.2-1.43.59L10.3 9.45l-7.72 7.72c-.78.78-.78 2.05 0 2.83L4 21.41c.39.39.9.59 1.41.59.51 0 1.02-.2 1.41-.59l7.78-7.78 2.81-2.81c.8-.78.8-2.07 0-2.86zM5.41 20L4 18.59l7.72-7.72 1.47 1.35L5.41 20z\"/>\n",
       "  </svg>\n",
       "      </button>\n",
       "      \n",
       "  <style>\n",
       "    .colab-df-container {\n",
       "      display:flex;\n",
       "      flex-wrap:wrap;\n",
       "      gap: 12px;\n",
       "    }\n",
       "\n",
       "    .colab-df-convert {\n",
       "      background-color: #E8F0FE;\n",
       "      border: none;\n",
       "      border-radius: 50%;\n",
       "      cursor: pointer;\n",
       "      display: none;\n",
       "      fill: #1967D2;\n",
       "      height: 32px;\n",
       "      padding: 0 0 0 0;\n",
       "      width: 32px;\n",
       "    }\n",
       "\n",
       "    .colab-df-convert:hover {\n",
       "      background-color: #E2EBFA;\n",
       "      box-shadow: 0px 1px 2px rgba(60, 64, 67, 0.3), 0px 1px 3px 1px rgba(60, 64, 67, 0.15);\n",
       "      fill: #174EA6;\n",
       "    }\n",
       "\n",
       "    [theme=dark] .colab-df-convert {\n",
       "      background-color: #3B4455;\n",
       "      fill: #D2E3FC;\n",
       "    }\n",
       "\n",
       "    [theme=dark] .colab-df-convert:hover {\n",
       "      background-color: #434B5C;\n",
       "      box-shadow: 0px 1px 3px 1px rgba(0, 0, 0, 0.15);\n",
       "      filter: drop-shadow(0px 1px 2px rgba(0, 0, 0, 0.3));\n",
       "      fill: #FFFFFF;\n",
       "    }\n",
       "  </style>\n",
       "\n",
       "      <script>\n",
       "        const buttonEl =\n",
       "          document.querySelector('#df-62136e38-b3a2-489b-befb-d7e5d5fd36c7 button.colab-df-convert');\n",
       "        buttonEl.style.display =\n",
       "          google.colab.kernel.accessAllowed ? 'block' : 'none';\n",
       "\n",
       "        async function convertToInteractive(key) {\n",
       "          const element = document.querySelector('#df-62136e38-b3a2-489b-befb-d7e5d5fd36c7');\n",
       "          const dataTable =\n",
       "            await google.colab.kernel.invokeFunction('convertToInteractive',\n",
       "                                                     [key], {});\n",
       "          if (!dataTable) return;\n",
       "\n",
       "          const docLinkHtml = 'Like what you see? Visit the ' +\n",
       "            '<a target=\"_blank\" href=https://colab.research.google.com/notebooks/data_table.ipynb>data table notebook</a>'\n",
       "            + ' to learn more about interactive tables.';\n",
       "          element.innerHTML = '';\n",
       "          dataTable['output_type'] = 'display_data';\n",
       "          await google.colab.output.renderOutput(dataTable, element);\n",
       "          const docLink = document.createElement('div');\n",
       "          docLink.innerHTML = docLinkHtml;\n",
       "          element.appendChild(docLink);\n",
       "        }\n",
       "      </script>\n",
       "    </div>\n",
       "  </div>\n",
       "  "
      ],
      "text/plain": [
       "        review_date   movie_id     user_id  is_spoiler  \\\n",
       "0      30 June 2002  tt0167404   ur1821533       False   \n",
       "1      27 July 2015  tt1937390   ur0278527       False   \n",
       "2  26 December 2016  tt4550098  ur56801091       False   \n",
       "3   3 November 2007  tt0765429   ur5118543       False   \n",
       "4      3 March 2007  tt0443706   ur6663090       False   \n",
       "\n",
       "                                         review_text  user_rating  \\\n",
       "0  I saw this film in the U.S. when I was there, ...           10   \n",
       "1  Apparently this film has received considerable...            5   \n",
       "2  Well, after Amy Adams picking this flop and th...            2   \n",
       "3  When I first heard about this film, I was hope...            5   \n",
       "4  After having read other critiques, I will conc...            9   \n",
       "\n",
       "                                  review_summary  \\\n",
       "0       M. Night Shyamalan - remember that name!   \n",
       "1           So, I Saw This Title on Netflix.....   \n",
       "2         Little hope for Adams' \"Dis-Enchanted\"   \n",
       "3                         Irresponsible and Dull   \n",
       "4  A fresh take on the elusive serial killer....   \n",
       "\n",
       "                                        plot_summary  duration  \\\n",
       "0  Malcom Crowe (Bruce Willis)is a child psycholo...  1h 47min   \n",
       "1  A man named Seligman finds a fainted wounded w...  1h 57min   \n",
       "2  A \"story inside a story,\" in which the first p...  1h 56min   \n",
       "3  Following the death of his employer and mentor...  2h 37min   \n",
       "4  A serial killer in the San Francisco Bay Area ...  2h 37min   \n",
       "\n",
       "                        genre  movie_rating release_date  \\\n",
       "0  [Drama, Mystery, Thriller]           8.1   1999-08-06   \n",
       "1                     [Drama]           7.0   2014-03-06   \n",
       "2     [Crime, Drama, Romance]           7.5   2016-12-09   \n",
       "3   [Biography, Crime, Drama]           7.8   2007-11-02   \n",
       "4     [Crime, Drama, History]           7.7   2007-03-02   \n",
       "\n",
       "                                       plot_synopsis  contains_word_SPOILER  \n",
       "0  Dr. Malcolm Crowe (Bruce Willis), a prominent ...                  False  \n",
       "1  The film starts with a repetitive sound effect...                  False  \n",
       "2  The movie begins with obese women, dancing nak...                  False  \n",
       "3  The film opens with Bumpy Johnson (Clarence Wi...                  False  \n",
       "4  The film starts on July 4, 1969, with the Zodi...                  False  "
      ]
     },
     "execution_count": 115,
     "metadata": {},
     "output_type": "execute_result"
    }
   ],
   "source": [
    "df.reset_index(inplace=True)\n",
    "df = df.drop('index', axis=1)\n",
    "df.head()"
   ]
  },
  {
   "cell_type": "code",
   "execution_count": null,
   "metadata": {
    "colab": {
     "base_uri": "https://localhost:8080/"
    },
    "id": "GFnnRi2aePd7",
    "outputId": "7c95b9ad-7880-426b-beb0-7830306722fc"
   },
   "outputs": [
    {
     "name": "stdout",
     "output_type": "stream",
     "text": [
      "<class 'pandas.core.frame.DataFrame'>\n",
      "RangeIndex: 301848 entries, 0 to 301847\n",
      "Data columns (total 14 columns):\n",
      " #   Column                 Non-Null Count   Dtype  \n",
      "---  ------                 --------------   -----  \n",
      " 0   review_date            301848 non-null  object \n",
      " 1   movie_id               301848 non-null  object \n",
      " 2   user_id                301848 non-null  object \n",
      " 3   is_spoiler             301848 non-null  bool   \n",
      " 4   review_text            301848 non-null  object \n",
      " 5   user_rating            301848 non-null  int64  \n",
      " 6   review_summary         301848 non-null  object \n",
      " 7   plot_summary           301848 non-null  object \n",
      " 8   duration               301848 non-null  object \n",
      " 9   genre                  301848 non-null  object \n",
      " 10  movie_rating           301848 non-null  float64\n",
      " 11  release_date           301848 non-null  object \n",
      " 12  plot_synopsis          301848 non-null  object \n",
      " 13  contains_word_SPOILER  301848 non-null  bool   \n",
      "dtypes: bool(2), float64(1), int64(1), object(10)\n",
      "memory usage: 28.2+ MB\n"
     ]
    }
   ],
   "source": [
    "df.info()"
   ]
  },
  {
   "cell_type": "code",
   "execution_count": null,
   "metadata": {
    "colab": {
     "base_uri": "https://localhost:8080/",
     "height": 349
    },
    "id": "is0Znof8ePd8",
    "outputId": "3076a294-9939-4702-8218-34c0bec17da4"
   },
   "outputs": [
    {
     "name": "stdout",
     "output_type": "stream",
     "text": [
      "False    50.0\n",
      "True     50.0\n",
      "Name: is_spoiler, dtype: float64\n"
     ]
    },
    {
     "data": {
      "image/png": "[encoded data removed]",
      "text/plain": [
       "<Figure size 432x288 with 1 Axes>"
      ]
     },
     "metadata": {
      "needs_background": "light"
     },
     "output_type": "display_data"
    }
   ],
   "source": [
    "import matplotlib.pyplot as plt\n",
    "spoiler_count = df.is_spoiler.value_counts(normalize = True) * 100\n",
    "\n",
    "print(spoiler_count)\n",
    "\n",
    "spoiler_count.plot(kind = 'bar')\n",
    "plt.title('is spoiler')\n",
    "plt.show()"
   ]
  },
  {
   "cell_type": "markdown",
   "metadata": {
    "id": "jnX4hGpEePd8"
   },
   "source": [
    "Now the dataset is balanced!"
   ]
  },
  {
   "cell_type": "markdown",
   "metadata": {
    "id": "ltsQRzqc6TiS"
   },
   "source": [
    "## Size Reduction"
   ]
  },
  {
   "cell_type": "code",
   "execution_count": null,
   "metadata": {
    "id": "w-sc7Qe_6WLh"
   },
   "outputs": [],
   "source": [
    "def reduce_data_size():\n",
    "    global df\n",
    "    frac = 0.1\n",
    "    df = df.sample(frac=frac)"
   ]
  },
  {
   "cell_type": "code",
   "execution_count": null,
   "metadata": {
    "id": "b557J8uKDA1r"
   },
   "outputs": [],
   "source": [
    "reduce_data_size()"
   ]
  },
  {
   "cell_type": "code",
   "execution_count": null,
   "metadata": {
    "colab": {
     "base_uri": "https://localhost:8080/"
    },
    "id": "50wwG7NMDLLW",
    "outputId": "242951f1-8a0c-436e-cf31-4589396fc23b"
   },
   "outputs": [
    {
     "name": "stdout",
     "output_type": "stream",
     "text": [
      "<class 'pandas.core.frame.DataFrame'>\n",
      "RangeIndex: 30185 entries, 0 to 30184\n",
      "Data columns (total 14 columns):\n",
      " #   Column                 Non-Null Count  Dtype  \n",
      "---  ------                 --------------  -----  \n",
      " 0   review_date            30185 non-null  object \n",
      " 1   movie_id               30185 non-null  object \n",
      " 2   user_id                30185 non-null  object \n",
      " 3   is_spoiler             30185 non-null  bool   \n",
      " 4   review_text            30185 non-null  object \n",
      " 5   user_rating            30185 non-null  int64  \n",
      " 6   review_summary         30185 non-null  object \n",
      " 7   plot_summary           30185 non-null  object \n",
      " 8   duration               30185 non-null  object \n",
      " 9   genre                  30185 non-null  object \n",
      " 10  movie_rating           30185 non-null  float64\n",
      " 11  release_date           30185 non-null  object \n",
      " 12  plot_synopsis          30185 non-null  object \n",
      " 13  contains_word_SPOILER  30185 non-null  bool   \n",
      "dtypes: bool(2), float64(1), int64(1), object(10)\n",
      "memory usage: 2.8+ MB\n"
     ]
    }
   ],
   "source": [
    "df.reset_index(inplace=True)\n",
    "df = df.drop('index', axis=1)\n",
    "df.info()"
   ]
  },
  {
   "cell_type": "markdown",
   "metadata": {
    "id": "Rrn31k7Qm5wM"
   },
   "source": [
    "## Data Cleaning"
   ]
  },
  {
   "cell_type": "code",
   "execution_count": null,
   "metadata": {},
   "outputs": [],
   "source": []
  },
  {
   "cell_type": "code",
   "execution_count": null,
   "metadata": {
    "colab": {
     "base_uri": "https://localhost:8080/"
    },
    "id": "gBfRAgnYm8Jq",
    "outputId": "6907b756-9400-4270-8a57-2f10b3503e46"
   },
   "outputs": [
    {
     "name": "stdout",
     "output_type": "stream",
     "text": [
      "here is a link: \n"
     ]
    }
   ],
   "source": [
    "import re\n",
    "def removeLinks(text):\n",
    "  return re.sub(r'http\\S+', '', text)\n",
    "print(removeLinks('here is a link: https://google.com'))"
   ]
  },
  {
   "cell_type": "markdown",
   "metadata": {
    "id": "c0DbIQawgFDo"
   },
   "source": [
    "First, we will remove the links in the review_text column."
   ]
  },
  {
   "cell_type": "code",
   "execution_count": null,
   "metadata": {
    "id": "tmP2DeeYrgB0"
   },
   "outputs": [],
   "source": [
    "for i in df.index:\n",
    "  df.at[i, 'review_text'] = removeLinks(df.at[i, 'review_text'])"
   ]
  },
  {
   "cell_type": "markdown",
   "metadata": {
    "id": "iVcFKkCg1mF1"
   },
   "source": [
    "Next, we will expand contraction words."
   ]
  },
  {
   "cell_type": "code",
   "execution_count": null,
   "metadata": {
    "colab": {
     "base_uri": "https://localhost:8080/"
    },
    "id": "Ivzvl1mhePd9",
    "outputId": "f4d5f403-4faa-49b2-9fcf-4ede2f08fd87"
   },
   "outputs": [
    {
     "name": "stdout",
     "output_type": "stream",
     "text": [
      "Looking in indexes: https://pypi.org/simple, https://us-python.pkg.dev/colab-wheels/public/simple/\n",
      "Collecting contractions\n",
      "  Downloading contractions-0.1.72-py2.py3-none-any.whl (8.3 kB)\n",
      "Collecting textsearch>=0.0.21\n",
      "  Downloading textsearch-0.0.24-py2.py3-none-any.whl (7.6 kB)\n",
      "Collecting pyahocorasick\n",
      "  Downloading pyahocorasick-1.4.4-cp37-cp37m-manylinux_2_17_x86_64.manylinux2014_x86_64.whl (106 kB)\n",
      "\u001b[K     |████████████████████████████████| 106 kB 7.3 MB/s \n",
      "\u001b[?25hCollecting anyascii\n",
      "  Downloading anyascii-0.3.1-py3-none-any.whl (287 kB)\n",
      "\u001b[K     |████████████████████████████████| 287 kB 25.9 MB/s \n",
      "\u001b[?25hInstalling collected packages: pyahocorasick, anyascii, textsearch, contractions\n",
      "Successfully installed anyascii-0.3.1 contractions-0.1.72 pyahocorasick-1.4.4 textsearch-0.0.24\n"
     ]
    }
   ],
   "source": [
    "!pip install contractions"
   ]
  },
  {
   "cell_type": "code",
   "execution_count": null,
   "metadata": {
    "colab": {
     "base_uri": "https://localhost:8080/"
    },
    "id": "rgMq7Mrw9RxQ",
    "outputId": "2b6f2b83-33ab-4448-8948-f49b300d749c"
   },
   "outputs": [
    {
     "name": "stdout",
     "output_type": "stream",
     "text": [
      "I have completed this function\n"
     ]
    }
   ],
   "source": [
    "import contractions\n",
    "def expandContractions(text):\n",
    "  expandedWords = []\n",
    "  for word in text.split():\n",
    "    expandedWords.append(contractions.fix(word))  \n",
    "  return ' '.join(expandedWords)\n",
    "print(expandContractions('I\\'ve completed this function'))"
   ]
  },
  {
   "cell_type": "code",
   "execution_count": null,
   "metadata": {
    "id": "rlGdUeZN1yMK"
   },
   "outputs": [],
   "source": [
    "for i in df.index:\n",
    "  df.at[i, 'review_text'] = expandContractions(df.at[i, 'review_text'])"
   ]
  },
  {
   "cell_type": "markdown",
   "metadata": {
    "id": "Ns0jlXxY13Ks"
   },
   "source": [
    "Then, we do stopwords removal.\n",
    "\n"
   ]
  },
  {
   "cell_type": "code",
   "execution_count": null,
   "metadata": {
    "colab": {
     "base_uri": "https://localhost:8080/"
    },
    "id": "8IwV8UgukCBw",
    "outputId": "be5466cb-e14c-4969-b85e-5283d1620a14"
   },
   "outputs": [
    {
     "name": "stderr",
     "output_type": "stream",
     "text": [
      "[nltk_data] Downloading package stopwords to /root/nltk_data...\n",
      "[nltk_data]   Unzipping corpora/stopwords.zip.\n"
     ]
    },
    {
     "data": {
      "text/plain": [
       "True"
      ]
     },
     "execution_count": 28,
     "metadata": {},
     "output_type": "execute_result"
    }
   ],
   "source": [
    "import nltk\n",
    "nltk.download('stopwords')"
   ]
  },
  {
   "cell_type": "code",
   "execution_count": null,
   "metadata": {
    "id": "yw4WI4_8rtd4"
   },
   "outputs": [],
   "source": [
    "# Stop words removal\n",
    "# Stemming\n",
    "from nltk.corpus import stopwords\n",
    "from nltk.stem import PorterStemmer\n",
    "stemmer = PorterStemmer()\n",
    "stop_words_set = set(stopwords.words('english'))\n",
    "def myAnalyzer(text):\n",
    "  text_words = analyzer(text)\n",
    "  words = []\n",
    "  for word in text_words:\n",
    "    stemmed_word = stemmer.stem(word)\n",
    "    # if stemmed_word not in stop_words_set:\n",
    "    #   words.append(stemmed_word)\n",
    "    words.append(stemmed_word)\n",
    "  return words"
   ]
  },
  {
   "cell_type": "markdown",
   "metadata": {
    "id": "LEy7yXBn2CA7"
   },
   "source": [
    "We will count the total number of words left in each review text. Before counting the words, we need to remove all the special character."
   ]
  },
  {
   "cell_type": "code",
   "execution_count": null,
   "metadata": {
    "id": "uawB26k62KU4"
   },
   "outputs": [],
   "source": [
    "import string\n",
    "\n",
    "def remove_special_character(sentence):\n",
    "  pattern = r\"[^a-zA-Z]\"\n",
    "  sentence = re.sub(pattern, ' ', sentence)\n",
    "  return sentence\n",
    "\n",
    "def word_count(sentence):\n",
    "  num = len(sentence.split())\n",
    "  # num = sum([i.strip(string.punctuation).isalpha() for i in sentence.split()])\n",
    "  return num"
   ]
  },
  {
   "cell_type": "code",
   "execution_count": null,
   "metadata": {
    "colab": {
     "base_uri": "https://localhost:8080/",
     "height": 565
    },
    "id": "RyVwaALrHiTl",
    "outputId": "21bf07aa-c0a0-449c-da37-cdea9ac38acc"
   },
   "outputs": [
    {
     "data": {
      "text/html": [
       "\n",
       "  <div id=\"df-d071f009-bea6-46ba-9336-270f6d1025ac\">\n",
       "    <div class=\"colab-df-container\">\n",
       "      <div>\n",
       "<style scoped>\n",
       "    .dataframe tbody tr th:only-of-type {\n",
       "        vertical-align: middle;\n",
       "    }\n",
       "\n",
       "    .dataframe tbody tr th {\n",
       "        vertical-align: top;\n",
       "    }\n",
       "\n",
       "    .dataframe thead th {\n",
       "        text-align: right;\n",
       "    }\n",
       "</style>\n",
       "<table border=\"1\" class=\"dataframe\">\n",
       "  <thead>\n",
       "    <tr style=\"text-align: right;\">\n",
       "      <th></th>\n",
       "      <th>review_date</th>\n",
       "      <th>movie_id</th>\n",
       "      <th>user_id</th>\n",
       "      <th>is_spoiler</th>\n",
       "      <th>review_text</th>\n",
       "      <th>user_rating</th>\n",
       "      <th>review_summary</th>\n",
       "      <th>plot_summary</th>\n",
       "      <th>duration</th>\n",
       "      <th>genre</th>\n",
       "      <th>movie_rating</th>\n",
       "      <th>release_date</th>\n",
       "      <th>plot_synopsis</th>\n",
       "      <th>contains_word_SPOILER</th>\n",
       "      <th>review_text_word_count</th>\n",
       "    </tr>\n",
       "  </thead>\n",
       "  <tbody>\n",
       "    <tr>\n",
       "      <th>0</th>\n",
       "      <td>7 February 2003</td>\n",
       "      <td>tt0208092</td>\n",
       "      <td>ur1937029</td>\n",
       "      <td>False</td>\n",
       "      <td>While its not as good as LSATSB  it comes clos...</td>\n",
       "      <td>9</td>\n",
       "      <td>Cool movie</td>\n",
       "      <td>Turkish and his close friend/accomplice Tommy ...</td>\n",
       "      <td>1h 42min</td>\n",
       "      <td>[Comedy, Crime]</td>\n",
       "      <td>8.3</td>\n",
       "      <td>2001-01-19</td>\n",
       "      <td>The film opens as we see boxing promoter Turki...</td>\n",
       "      <td>False</td>\n",
       "      <td>116.0</td>\n",
       "    </tr>\n",
       "    <tr>\n",
       "      <th>1</th>\n",
       "      <td>12 November 2013</td>\n",
       "      <td>tt1951264</td>\n",
       "      <td>ur43364424</td>\n",
       "      <td>False</td>\n",
       "      <td>OK so I have been going through these reviews ...</td>\n",
       "      <td>10</td>\n",
       "      <td>This is not about the Hunger Games!</td>\n",
       "      <td>Twelve months after winning the 74th Hunger Ga...</td>\n",
       "      <td>2h 26min</td>\n",
       "      <td>[Action, Adventure, Mystery]</td>\n",
       "      <td>7.5</td>\n",
       "      <td>2013-11-22</td>\n",
       "      <td>Six months after winning the 74th Hunger Games...</td>\n",
       "      <td>False</td>\n",
       "      <td>325.0</td>\n",
       "    </tr>\n",
       "    <tr>\n",
       "      <th>2</th>\n",
       "      <td>8 May 2015</td>\n",
       "      <td>tt2661044</td>\n",
       "      <td>ur51687135</td>\n",
       "      <td>True</td>\n",
       "      <td>If you could get page the fact that only attra...</td>\n",
       "      <td>7</td>\n",
       "      <td>It's a nice show</td>\n",
       "      <td>The series is set 97 years after a devastating...</td>\n",
       "      <td>43min</td>\n",
       "      <td>[Drama, Mystery, Sci-Fi]</td>\n",
       "      <td>7.8</td>\n",
       "      <td>2014-05-03</td>\n",
       "      <td>Story is post nuclear, according to the narrat...</td>\n",
       "      <td>False</td>\n",
       "      <td>310.0</td>\n",
       "    </tr>\n",
       "    <tr>\n",
       "      <th>3</th>\n",
       "      <td>18 February 2000</td>\n",
       "      <td>tt0124315</td>\n",
       "      <td>ur0161567</td>\n",
       "      <td>False</td>\n",
       "      <td>My wife and I who are    something is loved th...</td>\n",
       "      <td>10</td>\n",
       "      <td>From a couple of seniors</td>\n",
       "      <td>Homer is an orphan in remote St. Cloud, Maine....</td>\n",
       "      <td>2h 6min</td>\n",
       "      <td>[Drama, Romance]</td>\n",
       "      <td>7.4</td>\n",
       "      <td>2000-01-07</td>\n",
       "      <td>Homer Wells (Tobey Maguire), an orphan, is the...</td>\n",
       "      <td>False</td>\n",
       "      <td>43.0</td>\n",
       "    </tr>\n",
       "    <tr>\n",
       "      <th>4</th>\n",
       "      <td>25 December 2017</td>\n",
       "      <td>tt0068646</td>\n",
       "      <td>ur81865706</td>\n",
       "      <td>True</td>\n",
       "      <td>I love this movie  The continuation is also ex...</td>\n",
       "      <td>10</td>\n",
       "      <td>Love this</td>\n",
       "      <td>When the aging head of a famous crime family d...</td>\n",
       "      <td>2h 55min</td>\n",
       "      <td>[Crime, Drama]</td>\n",
       "      <td>9.2</td>\n",
       "      <td>1972-03-24</td>\n",
       "      <td>In late summer 1945, guests are gathered for t...</td>\n",
       "      <td>False</td>\n",
       "      <td>39.0</td>\n",
       "    </tr>\n",
       "  </tbody>\n",
       "</table>\n",
       "</div>\n",
       "      <button class=\"colab-df-convert\" onclick=\"convertToInteractive('df-d071f009-bea6-46ba-9336-270f6d1025ac')\"\n",
       "              title=\"Convert this dataframe to an interactive table.\"\n",
       "              style=\"display:none;\">\n",
       "        \n",
       "  <svg xmlns=\"http://www.w3.org/2000/svg\" height=\"24px\"viewBox=\"0 0 24 24\"\n",
       "       width=\"24px\">\n",
       "    <path d=\"M0 0h24v24H0V0z\" fill=\"none\"/>\n",
       "    <path d=\"M18.56 5.44l.94 2.06.94-2.06 2.06-.94-2.06-.94-.94-2.06-.94 2.06-2.06.94zm-11 1L8.5 8.5l.94-2.06 2.06-.94-2.06-.94L8.5 2.5l-.94 2.06-2.06.94zm10 10l.94 2.06.94-2.06 2.06-.94-2.06-.94-.94-2.06-.94 2.06-2.06.94z\"/><path d=\"M17.41 7.96l-1.37-1.37c-.4-.4-.92-.59-1.43-.59-.52 0-1.04.2-1.43.59L10.3 9.45l-7.72 7.72c-.78.78-.78 2.05 0 2.83L4 21.41c.39.39.9.59 1.41.59.51 0 1.02-.2 1.41-.59l7.78-7.78 2.81-2.81c.8-.78.8-2.07 0-2.86zM5.41 20L4 18.59l7.72-7.72 1.47 1.35L5.41 20z\"/>\n",
       "  </svg>\n",
       "      </button>\n",
       "      \n",
       "  <style>\n",
       "    .colab-df-container {\n",
       "      display:flex;\n",
       "      flex-wrap:wrap;\n",
       "      gap: 12px;\n",
       "    }\n",
       "\n",
       "    .colab-df-convert {\n",
       "      background-color: #E8F0FE;\n",
       "      border: none;\n",
       "      border-radius: 50%;\n",
       "      cursor: pointer;\n",
       "      display: none;\n",
       "      fill: #1967D2;\n",
       "      height: 32px;\n",
       "      padding: 0 0 0 0;\n",
       "      width: 32px;\n",
       "    }\n",
       "\n",
       "    .colab-df-convert:hover {\n",
       "      background-color: #E2EBFA;\n",
       "      box-shadow: 0px 1px 2px rgba(60, 64, 67, 0.3), 0px 1px 3px 1px rgba(60, 64, 67, 0.15);\n",
       "      fill: #174EA6;\n",
       "    }\n",
       "\n",
       "    [theme=dark] .colab-df-convert {\n",
       "      background-color: #3B4455;\n",
       "      fill: #D2E3FC;\n",
       "    }\n",
       "\n",
       "    [theme=dark] .colab-df-convert:hover {\n",
       "      background-color: #434B5C;\n",
       "      box-shadow: 0px 1px 3px 1px rgba(0, 0, 0, 0.15);\n",
       "      filter: drop-shadow(0px 1px 2px rgba(0, 0, 0, 0.3));\n",
       "      fill: #FFFFFF;\n",
       "    }\n",
       "  </style>\n",
       "\n",
       "      <script>\n",
       "        const buttonEl =\n",
       "          document.querySelector('#df-d071f009-bea6-46ba-9336-270f6d1025ac button.colab-df-convert');\n",
       "        buttonEl.style.display =\n",
       "          google.colab.kernel.accessAllowed ? 'block' : 'none';\n",
       "\n",
       "        async function convertToInteractive(key) {\n",
       "          const element = document.querySelector('#df-d071f009-bea6-46ba-9336-270f6d1025ac');\n",
       "          const dataTable =\n",
       "            await google.colab.kernel.invokeFunction('convertToInteractive',\n",
       "                                                     [key], {});\n",
       "          if (!dataTable) return;\n",
       "\n",
       "          const docLinkHtml = 'Like what you see? Visit the ' +\n",
       "            '<a target=\"_blank\" href=https://colab.research.google.com/notebooks/data_table.ipynb>data table notebook</a>'\n",
       "            + ' to learn more about interactive tables.';\n",
       "          element.innerHTML = '';\n",
       "          dataTable['output_type'] = 'display_data';\n",
       "          await google.colab.output.renderOutput(dataTable, element);\n",
       "          const docLink = document.createElement('div');\n",
       "          docLink.innerHTML = docLinkHtml;\n",
       "          element.appendChild(docLink);\n",
       "        }\n",
       "      </script>\n",
       "    </div>\n",
       "  </div>\n",
       "  "
      ],
      "text/plain": [
       "        review_date   movie_id     user_id  is_spoiler  \\\n",
       "0   7 February 2003  tt0208092   ur1937029       False   \n",
       "1  12 November 2013  tt1951264  ur43364424       False   \n",
       "2        8 May 2015  tt2661044  ur51687135        True   \n",
       "3  18 February 2000  tt0124315   ur0161567       False   \n",
       "4  25 December 2017  tt0068646  ur81865706        True   \n",
       "\n",
       "                                         review_text  user_rating  \\\n",
       "0  While its not as good as LSATSB  it comes clos...            9   \n",
       "1  OK so I have been going through these reviews ...           10   \n",
       "2  If you could get page the fact that only attra...            7   \n",
       "3  My wife and I who are    something is loved th...           10   \n",
       "4  I love this movie  The continuation is also ex...           10   \n",
       "\n",
       "                        review_summary  \\\n",
       "0                           Cool movie   \n",
       "1  This is not about the Hunger Games!   \n",
       "2                     It's a nice show   \n",
       "3             From a couple of seniors   \n",
       "4                            Love this   \n",
       "\n",
       "                                        plot_summary  duration  \\\n",
       "0  Turkish and his close friend/accomplice Tommy ...  1h 42min   \n",
       "1  Twelve months after winning the 74th Hunger Ga...  2h 26min   \n",
       "2  The series is set 97 years after a devastating...     43min   \n",
       "3  Homer is an orphan in remote St. Cloud, Maine....   2h 6min   \n",
       "4  When the aging head of a famous crime family d...  2h 55min   \n",
       "\n",
       "                          genre  movie_rating release_date  \\\n",
       "0               [Comedy, Crime]           8.3   2001-01-19   \n",
       "1  [Action, Adventure, Mystery]           7.5   2013-11-22   \n",
       "2      [Drama, Mystery, Sci-Fi]           7.8   2014-05-03   \n",
       "3              [Drama, Romance]           7.4   2000-01-07   \n",
       "4                [Crime, Drama]           9.2   1972-03-24   \n",
       "\n",
       "                                       plot_synopsis  contains_word_SPOILER  \\\n",
       "0  The film opens as we see boxing promoter Turki...                  False   \n",
       "1  Six months after winning the 74th Hunger Games...                  False   \n",
       "2  Story is post nuclear, according to the narrat...                  False   \n",
       "3  Homer Wells (Tobey Maguire), an orphan, is the...                  False   \n",
       "4  In late summer 1945, guests are gathered for t...                  False   \n",
       "\n",
       "   review_text_word_count  \n",
       "0                   116.0  \n",
       "1                   325.0  \n",
       "2                   310.0  \n",
       "3                    43.0  \n",
       "4                    39.0  "
      ]
     },
     "execution_count": 126,
     "metadata": {},
     "output_type": "execute_result"
    }
   ],
   "source": [
    "for i in df.index:\n",
    "  df.at[i, 'review_text'] = remove_special_character(df.at[i, 'review_text'])\n",
    "  df.at[i, 'review_text_word_count'] = word_count(df.at[i, 'review_text'])\n",
    "\n",
    "df.head()"
   ]
  },
  {
   "cell_type": "markdown",
   "metadata": {
    "id": "2Z6z9vno8pKB"
   },
   "source": [
    "# Feature extracting"
   ]
  },
  {
   "cell_type": "code",
   "execution_count": null,
   "metadata": {
    "id": "lM9JhSj6ePeB"
   },
   "outputs": [],
   "source": [
    "review_text = df['review_text'].to_list()"
   ]
  },
  {
   "cell_type": "code",
   "execution_count": null,
   "metadata": {
    "id": "oaXcM3eR7P0g"
   },
   "outputs": [],
   "source": [
    "from sklearn.feature_extraction.text import TfidfVectorizer\n",
    "analyzer = TfidfVectorizer().build_analyzer()\n",
    "vectorizer = TfidfVectorizer(analyzer=myAnalyzer, min_df=0.01)\n"
   ]
  },
  {
   "cell_type": "code",
   "execution_count": null,
   "metadata": {
    "id": "rHTKtIjOePeB"
   },
   "outputs": [],
   "source": [
    "# test_vectorizer = TfidfVectorizer(analyzer=myAnalyzer)\n",
    "# test_counts = test_vectorizer.fit_transform(('Here\\'s not an example!!!',\n",
    "#   'There is a man who loves study', \n",
    "#   'I\\'ve been STUDYING',\n",
    "#   'What is this iiii',\n",
    "#   'I\\'ve been tmr learning cooool',\n",
    "#   'What is that tomorrow',\n",
    "#   'It is an apple mans'))\n",
    "# print(test_vectorizer.get_feature_names_out())\n",
    "# print(test_counts.toarray())"
   ]
  },
  {
   "cell_type": "code",
   "execution_count": null,
   "metadata": {
    "id": "JNM5WoeYePeB"
   },
   "outputs": [],
   "source": [
    "review_text_tfidf = vectorizer.fit_transform(review_text)"
   ]
  },
  {
   "cell_type": "markdown",
   "metadata": {
    "id": "O2srWr-ZjhEk"
   },
   "source": [
    "# Models"
   ]
  },
  {
   "cell_type": "code",
   "execution_count": null,
   "metadata": {
    "id": "nKDwb1MBjkcI"
   },
   "outputs": [],
   "source": [
    "import pandas as pd"
   ]
  },
  {
   "cell_type": "code",
   "execution_count": null,
   "metadata": {
    "id": "E_gYSEg7kk8z"
   },
   "outputs": [],
   "source": [
    "review_text_tfidf_df = pd.DataFrame(review_text_tfidf.toarray())\n",
    "review_text_tfidf_df.head()"
   ]
  },
  {
   "cell_type": "code",
   "execution_count": null,
   "metadata": {
    "colab": {
     "base_uri": "https://localhost:8080/"
    },
    "id": "YS2_0t3Lk9Db",
    "outputId": "dbee1301-9628-4649-ffb4-dcc7ec67b07b"
   },
   "outputs": [
    {
     "name": "stdout",
     "output_type": "stream",
     "text": [
      "2964\n",
      "2964\n"
     ]
    }
   ],
   "source": [
    "labels = df['is_spoiler'].to_list()\n",
    "print(len(labels))\n",
    "print(review_text_tfidf_df.shape[0])"
   ]
  },
  {
   "cell_type": "code",
   "execution_count": null,
   "metadata": {
    "colab": {
     "base_uri": "https://localhost:8080/"
    },
    "id": "hxOti3cKePeD",
    "outputId": "bc45619e-927d-4cfa-bb96-f5e00aced964"
   },
   "outputs": [
    {
     "name": "stdout",
     "output_type": "stream",
     "text": [
      "<class 'pandas.core.frame.DataFrame'>\n",
      "RangeIndex: 2964 entries, 0 to 2963\n",
      "Columns: 12512 entries, 0 to 12511\n",
      "dtypes: float64(12512)\n",
      "memory usage: 282.9 MB\n"
     ]
    }
   ],
   "source": [
    "review_text_tfidf_df.info()"
   ]
  },
  {
   "cell_type": "markdown",
   "metadata": {
    "id": "4R3VC_rghS1W"
   },
   "source": [
    "## SVM"
   ]
  },
  {
   "cell_type": "code",
   "execution_count": null,
   "metadata": {
    "id": "sUOZBpDHnP29"
   },
   "outputs": [],
   "source": [
    "from sklearn.model_selection import train_test_split\n",
    "x_train, x_test, y_train, y_test = train_test_split(review_text_tfidf_df, labels, train_size = 0.8)"
   ]
  },
  {
   "cell_type": "code",
   "execution_count": null,
   "metadata": {
    "colab": {
     "base_uri": "https://localhost:8080/"
    },
    "id": "dfUu8gMZhScf",
    "outputId": "3f90b042-30ab-449f-c9ef-5921b43707f8"
   },
   "outputs": [
    {
     "data": {
      "text/plain": [
       "SVC()"
      ]
     },
     "execution_count": 105,
     "metadata": {},
     "output_type": "execute_result"
    }
   ],
   "source": [
    "import numpy as np\n",
    "from sklearn.svm import SVC\n",
    "svc_clf = SVC()\n",
    "svc_clf.fit(x_train, y_train)"
   ]
  },
  {
   "cell_type": "code",
   "execution_count": null,
   "metadata": {
    "colab": {
     "base_uri": "https://localhost:8080/"
    },
    "id": "4sW5MQYdyqFg",
    "outputId": "f76efd8e-2730-46c8-ecbe-44c3c80643a8"
   },
   "outputs": [
    {
     "data": {
      "text/plain": [
       "0.6526138279932546"
      ]
     },
     "execution_count": 106,
     "metadata": {},
     "output_type": "execute_result"
    }
   ],
   "source": [
    "svc_clf.score(x_test, y_test)"
   ]
  },
  {
   "cell_type": "markdown",
   "metadata": {
    "id": "vIuUC1H8vtHp"
   },
   "source": [
    "🤣"
   ]
  }
 ],
 "metadata": {
  "colab": {
   "collapsed_sections": [],
   "provenance": []
  },
  "kernelspec": {
   "display_name": "Python 3 (ipykernel)",
   "language": "python",
   "name": "python3"
  },
  "language_info": {
   "codemirror_mode": {
    "name": "ipython",
    "version": 3
   },
   "file_extension": ".py",
   "mimetype": "text/x-python",
   "name": "python",
   "nbconvert_exporter": "python",
   "pygments_lexer": "ipython3",
   "version": "3.10.4"
  },
  "vscode": {
   "interpreter": {
    "hash": "6b712581859dbae910b64d5825ac80b682c26101bc3cac39b80109db51785933"
   }
  }
 },
 "nbformat": 4,
 "nbformat_minor": 1
}
